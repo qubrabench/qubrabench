{
 "cells": [
  {
   "cell_type": "markdown",
   "metadata": {},
   "source": [
    "# Benchmarking an algorithm used to solve a MAX-k-SAT problem\n",
    "\n",
    "In this notebook we showcase functionality of qubrabench by implementing and benchmarking a hillclimbing algorithm to solve MAX-k-SAT, as described in https://arxiv.org/abs/2203.04975.\n",
    "The paper describes two distinct variants of implementing the hillclimber: a simple hillclimber - which uses (quantum) search, and a steep one - which uses (quantum) max finding.\n",
    "\n",
    "## Problem Definition: MAX-k-SAT\n",
    "\n",
    "Max-k-SAT is a combinatorial optimization problem that given a list of clauses $(C_{i})^{p}_{i=1}$, each a disjunction of at most $k$ literals, and a set of weights $(w_{i})^{p}_{i=1}$, asks us to maximize the weight of the satisfied clauses,\n",
    "$$\\varphi(y) := \\sum ^{p} _{i=1} w_{i}C_{i}(y),$$\n",
    "over all assignments $y \\in \\{0, 1\\}^{q}$ of the variables. This problem is NP-hard for $k ≥ 2$.\n",
    "\n",
    "## Example Problem Instance\n",
    "\n",
    "Let's assume that $k=3$, which means we will be solving a MAX-3-SAT problem. We will also assume that we have four variables available ($x_{1}, x_{2}, x_{3}, x_{4})$. In the course of the following sections, we will build an algorithm to solve the following problem instance:\n",
    "\n",
    "$$(\\neg x_{1} \\lor \\neg x_{2} \\lor x_{3})_{3} \\land (x_{1} \\lor x_{2} \\lor \\neg x_{4})_{5} \\land (\\neg x_{1} \\lor \\neg x_{2} \\lor x_{4})_{1}$$ "
   ]
  },
  {
   "cell_type": "code",
   "execution_count": null,
   "metadata": {},
   "outputs": [],
   "source": [
    "var_count = 4\n",
    "demo_clauses_array = [[-1, -2, 3], [1, 2, -4], [-1, -2, 4]]\n",
    "demo_weights_array = [3, 5, 1]"
   ]
  },
  {
   "cell_type": "markdown",
   "metadata": {},
   "source": [
    "In this representation, each array in the demo_clauses_array represents one of the problems clauses. Each value in one of these clauses refers to one of the four available variables (e.g. $1 \\equiv x_{1}$). If the value is negative, it represents a negated variable (e.g. $-1 \\equiv \\neg x_{1}$). The values in demo_weights_array represent the weight of the clause at the same index in the demo_clauses_array: $(...)_{weight}$.\n",
    "\n",
    "Now that we have an array of clauses and an array of weights representing our problem instance, we can start implementing an algorithm to solve this problem. A known algorithm to solve this problem is the hillclimber algorithm, which we will be implementing in this notebook.\n",
    "\n",
    "## Algorithm Definition: Hillclimber\n",
    "\n",
    "For a given MAX-k-SAT problem instace, we start with a random variable assignment $y \\in \\{0, 1\\}^{n}$ and look for improvements (higher values) of $\\varphi$ in the set of all bitstrings that differ from $y$ in at most $d$ bits. All bitstrings that differ from our current solution $y$ in at most $d$ bits are collectively called the neighbourhood $N_{d}(y)$ of $y$.\n",
    "\n",
    "### Simple Hillclimber\n",
    "The simple hill climber randomly samples such assignments until it finds one with a strictly higher value of $\\varphi$, which is then taken as the new assignment.\n",
    "This procedure is repeated until no further improvement is found.\n",
    "We can formalize each hillclimb step (described above) as searching for a solution in\n",
    "$$f:N_{d}(y) \\subseteq \\{0,1\\}^{n} →\\{0,1\\}$$\n",
    "$$f(z) = \\begin{cases}1 ~~~~~\\text{if}~ \\varphi(z)>\\varphi(y)\\\\ 0 ~~~~~\\text{otherwise} \\end{cases}$$\n",
    "\n",
    "### Steep Hillclimber\n",
    "\n",
    "The steep hillclimber calculates the value of $\\varphi$ for every neighbour $z \\in N_{d}(y)$ of $y$. It then finds the neigbour with the highest value of $\\varphi$ and uses this as the new assignment:\n",
    "$$y_{new} = max_{z \\in N_{d}(y)}(\\varphi(z))$$\n",
    "This procedure is repeated until no further improvement is found. \n",
    "\n",
    "# Solving our problem instance\n",
    "\n",
    "As mentioned above, we can use a hillclimber algorithm to solve the MAX-k-SAT problem. For the purpose of simplicity within this notebook, we will be focussing on the steep hillclimber. Side note: This repository also contains a [hillclimber algorithm](https://github.com/qubrabench/qubrabench/blob/notebooks/examples/sat/bench_hillclimber.py), which uses a more advanced approach and has much better performance than our approach. However, as we are focussing on the functionality of qubrabench in this notebook, this more complex implementation will not be covered in more detail.\n",
    "\n",
    "## Implementing the steep hillclimber algorithm\n",
    "\n",
    "To solve a MAX-k-SAT problem instance, consisting of a set auf clauses $(C_{i})^{p}_{i=1}$ and a set of weights $(w_{i})^{p}_{i=1}$, we will implement a steep hillclimber algorithm. We start by importing two libraries we will need in the course of this implementation."
   ]
  },
  {
   "cell_type": "code",
   "execution_count": null,
   "metadata": {},
   "outputs": [],
   "source": [
    "import itertools\n",
    "import random"
   ]
  },
  {
   "cell_type": "markdown",
   "metadata": {},
   "source": [
    "We will assume, that $d=1$, which enables us to simplify some of our functions. This means, when we look at the neighbourhood of a given variable assignment $y$, we will always be looking at assignments $z\\in N_{1}(y)$, that differ from our current assignment in exactly one place."
   ]
  },
  {
   "cell_type": "markdown",
   "metadata": {},
   "source": [
    "To get our first variable assignment we implement a function, which randomly generates a sequence of zeros and ones. "
   ]
  },
  {
   "cell_type": "code",
   "execution_count": null,
   "metadata": {},
   "outputs": [
    {
     "name": "stdout",
     "output_type": "stream",
     "text": [
      "Random assignment: [1, 1, 0, 0], which means:\n",
      "x1 = 1\n",
      "x2 = 1\n",
      "x3 = 0\n",
      "x4 = 0\n"
     ]
    }
   ],
   "source": [
    "def generate_random_assignment(variable_count):\n",
    "    return [random.randint(0, 1) for _ in range(variable_count)]\n",
    "\n",
    "\n",
    "random_assignment = generate_random_assignment(var_count)\n",
    "print(\"Random assignment: \" + str(random_assignment) + \", which means:\")\n",
    "\n",
    "for i in range(len(random_assignment)):\n",
    "    print(\"x\" + str(i + 1) + \" = \" + str(random_assignment[i]))"
   ]
  },
  {
   "cell_type": "markdown",
   "metadata": {},
   "source": [
    "Such a sequence represents a random variable assignment $y$ for our problem instance. Once we have this variable assignment, we are able to calculate the weight of the clause for the given assignment.\n",
    "$$\\varphi(y) := \\sum ^{p} _{i=1} w_{i}C_{i}(y),$$"
   ]
  },
  {
   "cell_type": "code",
   "execution_count": null,
   "metadata": {},
   "outputs": [
    {
     "name": "stdout",
     "output_type": "stream",
     "text": [
      "Current weight: 5\n"
     ]
    }
   ],
   "source": [
    "def calculate_weight_for_solution(solution, clauses_array, weights_array):\n",
    "    weight = 0\n",
    "    for i in range(len(clauses_array)):\n",
    "        for value in clauses_array[i]:\n",
    "            if value > 0:\n",
    "                if solution[value - 1] == 1:\n",
    "                    weight += weights_array[i]\n",
    "                    break\n",
    "            elif value < 0:\n",
    "                if solution[abs(value) - 1] == 0:\n",
    "                    weight += weights_array[i]\n",
    "                    break\n",
    "    return weight\n",
    "\n",
    "\n",
    "current_weight = calculate_weight_for_solution(\n",
    "    random_assignment, demo_clauses_array, demo_weights_array\n",
    ")\n",
    "print(\"Current weight: \" + str(current_weight))"
   ]
  },
  {
   "cell_type": "markdown",
   "metadata": {},
   "source": [
    "We now have a starting point to run our algorithm. Because we chose a random variable assignment, we can not be sure, that we have an optimal solution to our problem. We therefor take a look at the neighbourhood of our random assignment, to check if there is an assignment with an even better weight then the current one."
   ]
  },
  {
   "cell_type": "code",
   "execution_count": null,
   "metadata": {},
   "outputs": [
    {
     "name": "stdout",
     "output_type": "stream",
     "text": [
      "[1, 1, 0, 0]\n",
      "[(0, 1, 0, 0), (1, 0, 0, 0), (1, 1, 1, 0), (1, 1, 0, 1)]\n"
     ]
    }
   ],
   "source": [
    "def get_neighbours(array):\n",
    "    arrays = set()\n",
    "    for i in range(len(array)):\n",
    "        new_array = list(array)\n",
    "        new_array[i] = 1 if array[i] == 0 else 0\n",
    "        arrays.add(tuple(new_array))\n",
    "    arrays.discard(tuple(array))\n",
    "    return list(arrays)\n",
    "\n",
    "\n",
    "get_neighbours(random_assignment)\n",
    "print(random_assignment)\n",
    "print(get_neighbours(random_assignment))"
   ]
  },
  {
   "cell_type": "markdown",
   "metadata": {},
   "source": [
    "For each of these neighbours we need to calculate the weight the clause has with this solution. We then compute the maximum for all weights and return the neighbour with the highest weight."
   ]
  },
  {
   "cell_type": "code",
   "execution_count": null,
   "metadata": {},
   "outputs": [
    {
     "name": "stdout",
     "output_type": "stream",
     "text": [
      "Highest weight: 9\n",
      "Highest solution: (0, 1, 0, 0)\n"
     ]
    }
   ],
   "source": [
    "def find_better_assignment(solution, weight, clauses_array, weights_array):\n",
    "    neighbours = get_neighbours(random_assignment)\n",
    "    neighbour_weights = []\n",
    "    for neighbour in neighbours:\n",
    "        neighbour_weights.append(\n",
    "            (\n",
    "                neighbour,\n",
    "                calculate_weight_for_solution(neighbour, clauses_array, weights_array),\n",
    "            )\n",
    "        )\n",
    "    return max(neighbour_weights, default=solution, key=lambda x: x[1])\n",
    "\n",
    "\n",
    "highest_solution, highest_weight = find_better_assignment(\n",
    "    random_assignment, current_weight, demo_clauses_array, demo_weights_array\n",
    ")\n",
    "\n",
    "print(\"Highest weight: \" + str(highest_weight))\n",
    "print(\"Highest solution: \" + str(highest_solution))"
   ]
  },
  {
   "cell_type": "markdown",
   "metadata": {},
   "source": [
    "We then pick the neighbour with the highest weight, and if this weight is bigger than the current weight, we will use this solution and repeat this process until there is no more improvement. The optimal weight for a given assignment in this case is 9."
   ]
  },
  {
   "cell_type": "markdown",
   "metadata": {},
   "source": [
    "These steps we went through now form our hillclimber algorihm, which runs through this cycle multiple times."
   ]
  },
  {
   "cell_type": "code",
   "execution_count": null,
   "metadata": {},
   "outputs": [
    {
     "name": "stdout",
     "output_type": "stream",
     "text": [
      "Starting with assignment: [0, 0, 0, 1]\n",
      "Current weight: 4\n",
      "\n",
      "Found better weight: 9\n",
      "\n",
      "No better weight found.\n",
      "\n",
      "Completed. Optimal assignment: (0, 1, 0, 0). Weight: 9.\n"
     ]
    }
   ],
   "source": [
    "def hill_climber_sat(clauses_array, weights_array, variable_count):\n",
    "    # Example assignment, chosen to be able to demonstrate multiple steps\n",
    "    current_solution = [0, 0, 0, 1]\n",
    "    print(\"Starting with assignment: \" + str(current_solution))\n",
    "    print(\n",
    "        \"Current weight: \"\n",
    "        + str(\n",
    "            calculate_weight_for_solution(\n",
    "                current_solution, clauses_array, weights_array\n",
    "            )\n",
    "        )\n",
    "        + \"\\n\"\n",
    "    )\n",
    "\n",
    "    while True:\n",
    "        weight = calculate_weight_for_solution(\n",
    "            current_solution, clauses_array, weights_array\n",
    "        )\n",
    "        better_solution, better_weight = find_better_assignment(\n",
    "            current_solution, weight, clauses_array, weights_array\n",
    "        )\n",
    "        if weight < better_weight:\n",
    "            current_solution = better_solution\n",
    "            weight = better_weight\n",
    "            print(\"Found better weight: \" + str(weight) + \"\\n\")\n",
    "        else:\n",
    "            print(\"No better weight found.\" + \"\\n\")\n",
    "            print(\n",
    "                \"Completed. Optimal assignment: \"\n",
    "                + str(better_solution)\n",
    "                + \". Weight: \"\n",
    "                + str(better_weight)\n",
    "                + \".\"\n",
    "            )\n",
    "            return\n",
    "\n",
    "\n",
    "hill_climber_sat(demo_clauses_array, demo_weights_array, 4)"
   ]
  },
  {
   "cell_type": "markdown",
   "metadata": {},
   "source": [
    "\n",
    "## Spottig a pattern\n",
    "\n",
    "If we take another look at this approach, we will notice, that we calculate the maximum value of a set of numbers within the find_better_assignment function. In this case the maximum weight amongst the weights of all neighbours using the Python max function. \n",
    "\n",
    "As it happens there is also a very well known max function, which runs on quantum computers, as described in the paper mentioned in the introduction. With this in mind, the question naturally occurs, what would happen if we ran the computation of max on a quantum machine using this quantum max function and if this would have any performance improvements.\n",
    "\n",
    "This library offers a function, which enables a user to simulate doing exactly this and to keep track of runtime stats and approximations for quantum call counts, if the quantum max function was used and run on a quantum machine.\n",
    "\n",
    "## Max Function\n",
    "\n",
    "The library includes a set of common functions you would need in various circumstances, for example the search and the max function. These return the result you would expect from other implementations of these functions, and at the same time add in quantum benchmarking functionality. This simultaneously makes it easier to understand the use-cases of the library and makes it relatively easy to adapt existing code to use quantum benchmarking.\n",
    "\n",
    "When we talk about quantum benchmarking here, we mean approximating the amount of calls needed to execute the function with identical parameters on a quantum computer. This library achieves this by counting the calls run on the classical (in this case most likely your) machine and basing performance assumptions on these measurements. All provided functions in qubrabench currently require a stats object, in which these collected statistics and approximations are stored.\n",
    "\n",
    "Let's take a look at the docstrings of the function we will need to solve our problem - max."
   ]
  },
  {
   "cell_type": "code",
   "execution_count": null,
   "metadata": {},
   "outputs": [
    {
     "data": {
      "text/plain": [
       "\u001b[0;31mClass docstring:\u001b[0m\n",
       "    Find the largest element in a list, while keeping track of query statistics.\n",
       "    \n",
       "    Args:\n",
       "        iterable: iterable to find the maximum in\n",
       "        default: default value to return if iterable is empty.\n",
       "        key: function that maps iterable elements to values that are comparable. By default, use the iterable elements.\n",
       "        error: upper bound on the failure probability of the quantum algorithm.\n",
       "        stats: object that keeps track of statistics.\n",
       "    \n",
       "    Raises:\n",
       "        ValueError: Raised when the failure rate `error` is not provided and statistics cannot be calculated.\n",
       "        ValueError: Raised when iterable is an empty sequence and no default is provided.\n",
       "    \n",
       "    Returns:\n",
       "        the desired maximum element\n",
       "\u001b[0;31mCall docstring:\u001b[0m\n",
       "    Call self as a function."
      ]
     },
     "metadata": {},
     "output_type": "display_data"
    }
   ],
   "source": [
    "from qubrabench.algorithms.max import max as qmax\n",
    "\n",
    "%pdoc qmax"
   ]
  },
  {
   "cell_type": "markdown",
   "metadata": {},
   "source": [
    "As you will notice, the arguments for this max function are very similar to the Python max function. Indeed, one could run this function instead of max with the same parameters and would get the wanted functionality. However it is also possible to supply this function with two additional arguments - error and stats - which enables us to keep track of the calculated statistics.\n",
    "\n",
    "To demonstrate this, we will rewrite the find_better_assignment function from above to use the qubrabench max function. This is simply done by importing this function with the name max. We also create a stats object as provided by qubrabench and pass this to the max function together with a value for the error argument. Now we can run the same hill_climber function we defined above and take a look at the stats object after it ran using the redefined find_better_assignment function."
   ]
  },
  {
   "cell_type": "code",
   "execution_count": null,
   "metadata": {},
   "outputs": [
    {
     "name": "stdout",
     "output_type": "stream",
     "text": [
      "Starting with assignment: [0, 0, 0, 1]\n",
      "Current weight: 4\n",
      "\n",
      "Found better weight: 9\n",
      "\n",
      "No better weight found.\n",
      "\n",
      "Completed. Optimal assignment: (0, 1, 0, 0). Weight: 9.\n",
      "\n",
      "QueryStats(classical_control_method_calls=0, classical_actual_queries=8, classical_expected_queries=8, quantum_expected_classical_queries=0, quantum_expected_quantum_queries=145.45960000000002)\n"
     ]
    }
   ],
   "source": [
    "from qubrabench.algorithms.max import max\n",
    "from qubrabench.stats import QueryStats\n",
    "\n",
    "stats = QueryStats()\n",
    "\n",
    "\n",
    "def find_better_assignment(solution, weight, clauses_array, weights_array):\n",
    "    neighbours = get_neighbours(random_assignment)\n",
    "    neighbour_weights = []\n",
    "    for neighbour in neighbours:\n",
    "        neighbour_weights.append(\n",
    "            (\n",
    "                neighbour,\n",
    "                calculate_weight_for_solution(neighbour, clauses_array, weights_array),\n",
    "            )\n",
    "        )\n",
    "    return max(\n",
    "        neighbour_weights,\n",
    "        default=solution,\n",
    "        key=lambda x: x[1],  # up to here, we have changed nothing\n",
    "        error=10**-5,  # these two arguments are the only additions we will make\n",
    "        stats=stats,\n",
    "    )\n",
    "\n",
    "\n",
    "hill_climber_sat(demo_clauses_array, demo_weights_array, 4)\n",
    "\n",
    "print(\"\\n\" + str(stats))"
   ]
  },
  {
   "cell_type": "markdown",
   "metadata": {},
   "source": [
    "As you can see in this example, the effort to implement the qubrabench max function was very minimal and hardly invasive in our code. At the same time, it enabled us to gain valueable insight into our query statistics regarding the use of a quantum algorithm. As we can see, using the quantum max algorithm would worsen our runtime for this small problem instance. However there are cases in which there are expected benefits for the runtime. These only occur in very large problem instances, which would take very long to run with our hillclimber implementation.\n",
    "\n",
    "In the following section we will be running the hillclimber provided in this library, because it runs much faster for larger problem instances. This will nonetheless be sufficient to demonstrate how these benchmarking results may look."
   ]
  },
  {
   "cell_type": "markdown",
   "metadata": {},
   "source": [
    "## Advanced Benchmarking\n",
    "\n",
    "The imported `run` function executes the hillclimber on a random instance and returns the statistics in a pandas DataFrame."
   ]
  },
  {
   "cell_type": "code",
   "execution_count": null,
   "metadata": {},
   "outputs": [],
   "source": [
    "from hillclimber import run"
   ]
  },
  {
   "cell_type": "markdown",
   "metadata": {},
   "source": [
    "With this function, we can run the hillclimber multiple times and then compute the average of the results.\n",
    "\n",
    "Let's run the steep hill climber for $n = 100$, $n = 300$ and $n=1000$. We will run the hill climber five times for each $n$ and consistently use $k = 3$."
   ]
  },
  {
   "cell_type": "code",
   "execution_count": null,
   "metadata": {},
   "outputs": [],
   "source": [
    "import numpy as np\n",
    "import pandas as pd"
   ]
  },
  {
   "cell_type": "code",
   "execution_count": null,
   "metadata": {},
   "outputs": [
    {
     "name": "stdout",
     "output_type": "stream",
     "text": [
      "CPU times: user 1.07 s, sys: 617 ms, total: 1.69 s\n",
      "Wall time: 193 ms\n"
     ]
    },
    {
     "data": {
      "text/html": [
       "<div>\n",
       "<style scoped>\n",
       "    .dataframe tbody tr th:only-of-type {\n",
       "        vertical-align: middle;\n",
       "    }\n",
       "\n",
       "    .dataframe tbody tr th {\n",
       "        vertical-align: top;\n",
       "    }\n",
       "\n",
       "    .dataframe thead th {\n",
       "        text-align: right;\n",
       "    }\n",
       "</style>\n",
       "<table border=\"1\" class=\"dataframe\">\n",
       "  <thead>\n",
       "    <tr style=\"text-align: right;\">\n",
       "      <th></th>\n",
       "      <th>classical_control_method_calls</th>\n",
       "      <th>classical_actual_queries</th>\n",
       "      <th>classical_expected_queries</th>\n",
       "      <th>quantum_expected_classical_queries</th>\n",
       "      <th>quantum_expected_quantum_queries</th>\n",
       "      <th>n</th>\n",
       "      <th>k</th>\n",
       "      <th>r</th>\n",
       "    </tr>\n",
       "  </thead>\n",
       "  <tbody>\n",
       "    <tr>\n",
       "      <th>0</th>\n",
       "      <td>23</td>\n",
       "      <td>2300</td>\n",
       "      <td>2300</td>\n",
       "      <td>0</td>\n",
       "      <td>44076.472908</td>\n",
       "      <td>100</td>\n",
       "      <td>3</td>\n",
       "      <td>3</td>\n",
       "    </tr>\n",
       "    <tr>\n",
       "      <th>1</th>\n",
       "      <td>25</td>\n",
       "      <td>2500</td>\n",
       "      <td>2500</td>\n",
       "      <td>0</td>\n",
       "      <td>47909.209683</td>\n",
       "      <td>100</td>\n",
       "      <td>3</td>\n",
       "      <td>3</td>\n",
       "    </tr>\n",
       "    <tr>\n",
       "      <th>2</th>\n",
       "      <td>27</td>\n",
       "      <td>2700</td>\n",
       "      <td>2700</td>\n",
       "      <td>0</td>\n",
       "      <td>51741.946458</td>\n",
       "      <td>100</td>\n",
       "      <td>3</td>\n",
       "      <td>3</td>\n",
       "    </tr>\n",
       "    <tr>\n",
       "      <th>3</th>\n",
       "      <td>21</td>\n",
       "      <td>2100</td>\n",
       "      <td>2100</td>\n",
       "      <td>0</td>\n",
       "      <td>40243.736134</td>\n",
       "      <td>100</td>\n",
       "      <td>3</td>\n",
       "      <td>3</td>\n",
       "    </tr>\n",
       "    <tr>\n",
       "      <th>4</th>\n",
       "      <td>24</td>\n",
       "      <td>2400</td>\n",
       "      <td>2400</td>\n",
       "      <td>0</td>\n",
       "      <td>45992.841296</td>\n",
       "      <td>100</td>\n",
       "      <td>3</td>\n",
       "      <td>3</td>\n",
       "    </tr>\n",
       "  </tbody>\n",
       "</table>\n",
       "</div>"
      ],
      "text/plain": [
       "   classical_control_method_calls  classical_actual_queries  \\\n",
       "0                              23                      2300   \n",
       "1                              25                      2500   \n",
       "2                              27                      2700   \n",
       "3                              21                      2100   \n",
       "4                              24                      2400   \n",
       "\n",
       "   classical_expected_queries  quantum_expected_classical_queries  \\\n",
       "0                        2300                                   0   \n",
       "1                        2500                                   0   \n",
       "2                        2700                                   0   \n",
       "3                        2100                                   0   \n",
       "4                        2400                                   0   \n",
       "\n",
       "   quantum_expected_quantum_queries    n  k  r  \n",
       "0                      44076.472908  100  3  3  \n",
       "1                      47909.209683  100  3  3  \n",
       "2                      51741.946458  100  3  3  \n",
       "3                      40243.736134  100  3  3  \n",
       "4                      45992.841296  100  3  3  "
      ]
     },
     "execution_count": null,
     "metadata": {},
     "output_type": "execute_result"
    }
   ],
   "source": [
    "%%time\n",
    "data_100 = run(\n",
    "    k=3,\n",
    "    r=3,\n",
    "    n=100,\n",
    "    n_runs=5,\n",
    "    rng=np.random.default_rng(seed=100),\n",
    "    error=10**-5,\n",
    "    steep=True,\n",
    ")\n",
    "data_100"
   ]
  },
  {
   "cell_type": "code",
   "execution_count": null,
   "metadata": {},
   "outputs": [
    {
     "name": "stdout",
     "output_type": "stream",
     "text": [
      "CPU times: user 4.36 s, sys: 1.87 s, total: 6.23 s\n",
      "Wall time: 793 ms\n"
     ]
    },
    {
     "data": {
      "text/html": [
       "<div>\n",
       "<style scoped>\n",
       "    .dataframe tbody tr th:only-of-type {\n",
       "        vertical-align: middle;\n",
       "    }\n",
       "\n",
       "    .dataframe tbody tr th {\n",
       "        vertical-align: top;\n",
       "    }\n",
       "\n",
       "    .dataframe thead th {\n",
       "        text-align: right;\n",
       "    }\n",
       "</style>\n",
       "<table border=\"1\" class=\"dataframe\">\n",
       "  <thead>\n",
       "    <tr style=\"text-align: right;\">\n",
       "      <th></th>\n",
       "      <th>classical_control_method_calls</th>\n",
       "      <th>classical_actual_queries</th>\n",
       "      <th>classical_expected_queries</th>\n",
       "      <th>quantum_expected_classical_queries</th>\n",
       "      <th>quantum_expected_quantum_queries</th>\n",
       "      <th>n</th>\n",
       "      <th>k</th>\n",
       "      <th>r</th>\n",
       "    </tr>\n",
       "  </thead>\n",
       "  <tbody>\n",
       "    <tr>\n",
       "      <th>0</th>\n",
       "      <td>66</td>\n",
       "      <td>19800</td>\n",
       "      <td>19800</td>\n",
       "      <td>0</td>\n",
       "      <td>255680.842625</td>\n",
       "      <td>300</td>\n",
       "      <td>3</td>\n",
       "      <td>3</td>\n",
       "    </tr>\n",
       "    <tr>\n",
       "      <th>1</th>\n",
       "      <td>78</td>\n",
       "      <td>23400</td>\n",
       "      <td>23400</td>\n",
       "      <td>0</td>\n",
       "      <td>302168.268557</td>\n",
       "      <td>300</td>\n",
       "      <td>3</td>\n",
       "      <td>3</td>\n",
       "    </tr>\n",
       "    <tr>\n",
       "      <th>2</th>\n",
       "      <td>66</td>\n",
       "      <td>19800</td>\n",
       "      <td>19800</td>\n",
       "      <td>0</td>\n",
       "      <td>255680.842625</td>\n",
       "      <td>300</td>\n",
       "      <td>3</td>\n",
       "      <td>3</td>\n",
       "    </tr>\n",
       "    <tr>\n",
       "      <th>3</th>\n",
       "      <td>73</td>\n",
       "      <td>21900</td>\n",
       "      <td>21900</td>\n",
       "      <td>0</td>\n",
       "      <td>282798.507752</td>\n",
       "      <td>300</td>\n",
       "      <td>3</td>\n",
       "      <td>3</td>\n",
       "    </tr>\n",
       "    <tr>\n",
       "      <th>4</th>\n",
       "      <td>74</td>\n",
       "      <td>22200</td>\n",
       "      <td>22200</td>\n",
       "      <td>0</td>\n",
       "      <td>286672.459913</td>\n",
       "      <td>300</td>\n",
       "      <td>3</td>\n",
       "      <td>3</td>\n",
       "    </tr>\n",
       "  </tbody>\n",
       "</table>\n",
       "</div>"
      ],
      "text/plain": [
       "   classical_control_method_calls  classical_actual_queries  \\\n",
       "0                              66                     19800   \n",
       "1                              78                     23400   \n",
       "2                              66                     19800   \n",
       "3                              73                     21900   \n",
       "4                              74                     22200   \n",
       "\n",
       "   classical_expected_queries  quantum_expected_classical_queries  \\\n",
       "0                       19800                                   0   \n",
       "1                       23400                                   0   \n",
       "2                       19800                                   0   \n",
       "3                       21900                                   0   \n",
       "4                       22200                                   0   \n",
       "\n",
       "   quantum_expected_quantum_queries    n  k  r  \n",
       "0                     255680.842625  300  3  3  \n",
       "1                     302168.268557  300  3  3  \n",
       "2                     255680.842625  300  3  3  \n",
       "3                     282798.507752  300  3  3  \n",
       "4                     286672.459913  300  3  3  "
      ]
     },
     "execution_count": null,
     "metadata": {},
     "output_type": "execute_result"
    }
   ],
   "source": [
    "%%time\n",
    "data_300 = run(\n",
    "    k=3,\n",
    "    r=3,\n",
    "    n=300,\n",
    "    n_runs=5,\n",
    "    rng=np.random.default_rng(seed=100),\n",
    "    error=10**-5,\n",
    "    steep=True,\n",
    ")\n",
    "data_300"
   ]
  },
  {
   "cell_type": "code",
   "execution_count": null,
   "metadata": {},
   "outputs": [
    {
     "name": "stdout",
     "output_type": "stream",
     "text": [
      "CPU times: user 16.4 s, sys: 7.18 s, total: 23.6 s\n",
      "Wall time: 3.03 s\n"
     ]
    },
    {
     "data": {
      "text/html": [
       "<div>\n",
       "<style scoped>\n",
       "    .dataframe tbody tr th:only-of-type {\n",
       "        vertical-align: middle;\n",
       "    }\n",
       "\n",
       "    .dataframe tbody tr th {\n",
       "        vertical-align: top;\n",
       "    }\n",
       "\n",
       "    .dataframe thead th {\n",
       "        text-align: right;\n",
       "    }\n",
       "</style>\n",
       "<table border=\"1\" class=\"dataframe\">\n",
       "  <thead>\n",
       "    <tr style=\"text-align: right;\">\n",
       "      <th></th>\n",
       "      <th>classical_control_method_calls</th>\n",
       "      <th>classical_actual_queries</th>\n",
       "      <th>classical_expected_queries</th>\n",
       "      <th>quantum_expected_classical_queries</th>\n",
       "      <th>quantum_expected_quantum_queries</th>\n",
       "      <th>n</th>\n",
       "      <th>k</th>\n",
       "      <th>r</th>\n",
       "    </tr>\n",
       "  </thead>\n",
       "  <tbody>\n",
       "    <tr>\n",
       "      <th>0</th>\n",
       "      <td>128</td>\n",
       "      <td>64000</td>\n",
       "      <td>64000</td>\n",
       "      <td>0</td>\n",
       "      <td>698289.306020</td>\n",
       "      <td>500</td>\n",
       "      <td>3</td>\n",
       "      <td>3</td>\n",
       "    </tr>\n",
       "    <tr>\n",
       "      <th>1</th>\n",
       "      <td>105</td>\n",
       "      <td>52500</td>\n",
       "      <td>52500</td>\n",
       "      <td>0</td>\n",
       "      <td>572815.446345</td>\n",
       "      <td>500</td>\n",
       "      <td>3</td>\n",
       "      <td>3</td>\n",
       "    </tr>\n",
       "    <tr>\n",
       "      <th>2</th>\n",
       "      <td>106</td>\n",
       "      <td>53000</td>\n",
       "      <td>53000</td>\n",
       "      <td>0</td>\n",
       "      <td>578270.831548</td>\n",
       "      <td>500</td>\n",
       "      <td>3</td>\n",
       "      <td>3</td>\n",
       "    </tr>\n",
       "    <tr>\n",
       "      <th>3</th>\n",
       "      <td>122</td>\n",
       "      <td>61000</td>\n",
       "      <td>61000</td>\n",
       "      <td>0</td>\n",
       "      <td>665556.994800</td>\n",
       "      <td>500</td>\n",
       "      <td>3</td>\n",
       "      <td>3</td>\n",
       "    </tr>\n",
       "    <tr>\n",
       "      <th>4</th>\n",
       "      <td>126</td>\n",
       "      <td>63000</td>\n",
       "      <td>63000</td>\n",
       "      <td>0</td>\n",
       "      <td>687378.535613</td>\n",
       "      <td>500</td>\n",
       "      <td>3</td>\n",
       "      <td>3</td>\n",
       "    </tr>\n",
       "  </tbody>\n",
       "</table>\n",
       "</div>"
      ],
      "text/plain": [
       "   classical_control_method_calls  classical_actual_queries  \\\n",
       "0                             128                     64000   \n",
       "1                             105                     52500   \n",
       "2                             106                     53000   \n",
       "3                             122                     61000   \n",
       "4                             126                     63000   \n",
       "\n",
       "   classical_expected_queries  quantum_expected_classical_queries  \\\n",
       "0                       64000                                   0   \n",
       "1                       52500                                   0   \n",
       "2                       53000                                   0   \n",
       "3                       61000                                   0   \n",
       "4                       63000                                   0   \n",
       "\n",
       "   quantum_expected_quantum_queries    n  k  r  \n",
       "0                     698289.306020  500  3  3  \n",
       "1                     572815.446345  500  3  3  \n",
       "2                     578270.831548  500  3  3  \n",
       "3                     665556.994800  500  3  3  \n",
       "4                     687378.535613  500  3  3  "
      ]
     },
     "execution_count": null,
     "metadata": {},
     "output_type": "execute_result"
    }
   ],
   "source": [
    "%%time\n",
    "data_500 = run(\n",
    "    k=3,\n",
    "    r=3,\n",
    "    n=500,\n",
    "    n_runs=5,\n",
    "    rng=np.random.default_rng(seed=100),\n",
    "    error=10**-5,\n",
    "    steep=True,\n",
    ")\n",
    "data_500"
   ]
  },
  {
   "cell_type": "markdown",
   "metadata": {},
   "source": [
    "## Plotting\n",
    "Finally, after we have benchmarked the solving of a couple of our problem instances, we can take a look at the plotting functionality qubrabench provides. We use the `PlottingStrategy` wrapper to define our plot parameters and configuration."
   ]
  },
  {
   "cell_type": "code",
   "execution_count": null,
   "metadata": {},
   "outputs": [],
   "source": [
    "from qubrabench.utils.plotting_strategy import PlottingStrategy\n",
    "\n",
    "\n",
    "class Plotter(PlottingStrategy):\n",
    "    def __init__(self):\n",
    "        self.colors[\"\"] = \"blue\"\n",
    "\n",
    "    def get_plot_group_column_names(self):\n",
    "        return [\"k\", \"r\"]\n",
    "\n",
    "    def get_data_group_column_names(self):\n",
    "        \"\"\"\n",
    "        Generate a data line for each unique value in the specified columns.\n",
    "        Useful if you the data was generated with different tags based on implementation source, parameter choice etc., that one wants to compare against in a single plot.\n",
    "\n",
    "        Example: [\"impl\"] - a line will be generated for each unique `impl` label.\n",
    "        \"\"\"\n",
    "        return []\n",
    "\n",
    "    def compute_aggregates(self, data, *, quantum_factor):\n",
    "        # compute combined query costs of quantum search\n",
    "        c = data[\"quantum_expected_classical_queries\"]\n",
    "        q = data[\"quantum_expected_quantum_queries\"]\n",
    "        data[\"quantum_cost\"] = c + quantum_factor * q\n",
    "        return data\n",
    "\n",
    "    def x_axis_column(self):\n",
    "        return \"n\"\n",
    "\n",
    "    def x_axis_label(self):\n",
    "        return \"$n$\"\n",
    "\n",
    "    def y_axis_label(self):\n",
    "        return \"Queries\"\n",
    "\n",
    "    def get_column_names_to_plot(self):\n",
    "        return {\n",
    "            \"classical_actual_queries\": (\"Classical Queries\", \"o\"),\n",
    "            \"quantum_cost\": (\"Quantum Queries\", \"x\"),\n",
    "        }"
   ]
  },
  {
   "cell_type": "markdown",
   "metadata": {},
   "source": [
    "We can put all the benchmark stats in a single table and run the plotter. "
   ]
  },
  {
   "cell_type": "code",
   "execution_count": null,
   "metadata": {},
   "outputs": [
    {
     "data": {
      "text/plain": [
       "\u001b[0;31mClass docstring:\u001b[0m\n",
       "    Plot benchmarking data.\n",
       "    \n",
       "    Args:\n",
       "        data: a pandas DataFrame containing all the benchmark data.\n",
       "        quantum_factor: conversion factor for the cost of a quantum query (w.r.t. classical queries).\n",
       "        y_lower_lim: lower limit on the Y-axis (useful if the data starts at a large value)\n",
       "    \n",
       "    Raises:\n",
       "        ValueError: if no columns are given to plot\n",
       "\u001b[0;31mCall docstring:\u001b[0m\n",
       "    Call self as a function."
      ]
     },
     "metadata": {},
     "output_type": "display_data"
    }
   ],
   "source": [
    "%pdoc Plotter.plot"
   ]
  },
  {
   "cell_type": "code",
   "execution_count": null,
   "metadata": {},
   "outputs": [
    {
     "data": {
      "image/png": "[encoded data removed]",
      "text/plain": [
       "<Figure size 640x480 with 1 Axes>"
      ]
     },
     "metadata": {},
     "output_type": "display_data"
    }
   ],
   "source": [
    "data = pd.concat([data_100, data_300, data_500])\n",
    "Plotter().plot(data, quantum_factor=2, y_lower_lim=10)"
   ]
  },
  {
   "cell_type": "markdown",
   "metadata": {},
   "source": [
    "Now we can also run the \"steep\" hillclimber for the above instance sizes, and compare the two benchmarks."
   ]
  },
  {
   "cell_type": "code",
   "execution_count": null,
   "metadata": {},
   "outputs": [
    {
     "name": "stdout",
     "output_type": "stream",
     "text": [
      "CPU times: user 22.1 s, sys: 9.16 s, total: 31.3 s\n",
      "Wall time: 3.99 s\n"
     ]
    }
   ],
   "source": [
    "%%time\n",
    "data_steep = [\n",
    "    run(\n",
    "        k=3,\n",
    "        r=3,\n",
    "        n=n,\n",
    "        n_runs=5,\n",
    "        rng=np.random.default_rng(seed=100),\n",
    "        error=10**-5,\n",
    "        steep=True,\n",
    "    )\n",
    "    for n in [100, 300, 500]\n",
    "]\n",
    "data_steep = pd.concat(data_steep)"
   ]
  },
  {
   "cell_type": "code",
   "execution_count": null,
   "metadata": {},
   "outputs": [],
   "source": [
    "# add an extra column to distinguish the source (i.e. type of hillclimb)\n",
    "full_data = []\n",
    "for d, is_steep in [(data, False), (data_steep, True)]:\n",
    "    d = d.copy()\n",
    "    d.insert(0, \"steep\", is_steep)\n",
    "    full_data.append(d)\n",
    "full_data = pd.concat(full_data)"
   ]
  },
  {
   "cell_type": "markdown",
   "metadata": {},
   "source": [
    "We modify the above plotter a bit as we now want to group the data by column \"steep\" (in the same plot)."
   ]
  },
  {
   "cell_type": "code",
   "execution_count": null,
   "metadata": {},
   "outputs": [
    {
     "data": {
      "image/png": "[encoded data removed]",
      "text/plain": [
       "<Figure size 640x480 with 1 Axes>"
      ]
     },
     "metadata": {},
     "output_type": "display_data"
    }
   ],
   "source": [
    "class FullPlotter(Plotter):\n",
    "    def __init__(self):\n",
    "        self.colors[\"steep = False\"] = \"blue\"\n",
    "        self.colors[\"steep = True\"] = \"red\"\n",
    "\n",
    "    def get_data_group_column_names(self):\n",
    "        return [\"steep\"]\n",
    "\n",
    "\n",
    "FullPlotter().plot(full_data, quantum_factor=2, y_lower_lim=10)"
   ]
  }
 ],
 "metadata": {
  "kernelspec": {
   "display_name": "python3",
   "language": "python",
   "name": "python3"
  }
 },
 "nbformat": 4,
 "nbformat_minor": 4
}
