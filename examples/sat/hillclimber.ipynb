{
 "cells": [
  {
   "cell_type": "code",
   "execution_count": null,
   "metadata": {
    "ExecuteTime": {
     "end_time": "2023-08-03T20:30:40.828484Z",
     "start_time": "2023-08-03T20:30:40.826022Z"
    },
    "scrolled": true
   },
   "outputs": [],
   "source": [
    "%load_ext jupyter_black"
   ]
  },
  {
   "cell_type": "markdown",
   "metadata": {
    "collapsed": false,
    "jupyter": {
     "outputs_hidden": false
    }
   },
   "source": [
    "# Benchmarking an algorithm for MAX-k-SAT\n",
    "\n",
    "We showcase qubrabench by implementing and benchmarking a hillclimbing algorithm for MAX-k-SAT, described in https://arxiv.org/abs/2203.04975.\n",
    "The paper describes two variants: a normal hillclimber - which uses (quantum) search, and a steep one - which use (quantum) max finding.\n",
    "\n",
    "## Problem: MAX-k-SAT\n",
    "\n",
    "Max-k-SAT is a combinatorial optimization problem that given a list of clauses $(C_{i})^{p}_{i=1}$, each a disjunction of at most $k$ literals, and a set of weights $(w_{i})^{p}_{i=1}$, asks us to maximize the weight of the satisfied clauses,\n",
    "$$\\varphi(y) := \\sum ^{p} _{i=1} w_{i}C_{i}(y),$$\n",
    "over all assignments $y \\in \\{0, 1\\}^{q}$ of the variables. This problem is NP-hard for $k ≥ 2$.\n",
    "\n",
    "## Algorithm: Hillclimb search\n",
    "\n",
    "We start with a random assignment $y \\in \\{0, 1\\}^{n}$ and look for improvements in the set of all bitstrings that differ from $y$ in at most $d$ bits.\n",
    "The simple hill climber randomly samples such assignments until it finds one with a strictly higher value of $\\varphi$, which is then taken as the new assignment.\n",
    "This procedure is repeated until no further improvement is found.\n",
    "We can formalize each hillclimb step (described above) as searching for a solution in\n",
    "$$f:N_{d}(y) \\subseteq \\{0,1\\}^{n} →\\{0,1\\}$$\n",
    "$$f(z) = \\begin{cases}1 ~~~~~\\text{if}~ \\varphi(z)>\\varphi(y)\\\\ 0 ~~~~~\\text{otherwise} \\end{cases}$$"
   ]
  },
  {
   "cell_type": "code",
   "execution_count": 4,
   "metadata": {
    "ExecuteTime": {
     "end_time": "2023-08-02T12:08:01.950085Z",
     "start_time": "2023-08-02T12:08:01.781153Z"
    }
   },
   "outputs": [],
   "source": [
    "import numpy as np\n",
    "import pandas as pd"
   ]
  },
  {
   "cell_type": "code",
   "execution_count": 3,
   "metadata": {
    "ExecuteTime": {
     "end_time": "2023-08-01T17:20:35.246576Z",
     "start_time": "2023-08-01T17:20:35.239356Z"
    },
    "collapsed": false,
    "jupyter": {
     "outputs_hidden": false
    }
   },
   "outputs": [
    {
     "data": {
      "text/plain": [
       "\u001b[0;32mdef\u001b[0m \u001b[0mhill_climber\u001b[0m\u001b[0;34m(\u001b[0m\u001b[0;34m\u001b[0m\n",
       "\u001b[0;34m\u001b[0m    \u001b[0minst\u001b[0m\u001b[0;34m:\u001b[0m \u001b[0mWeightedSatInstance\u001b[0m\u001b[0;34m,\u001b[0m\u001b[0;34m\u001b[0m\n",
       "\u001b[0;34m\u001b[0m    \u001b[0;34m*\u001b[0m\u001b[0;34m,\u001b[0m\u001b[0;34m\u001b[0m\n",
       "\u001b[0;34m\u001b[0m    \u001b[0mrng\u001b[0m\u001b[0;34m:\u001b[0m \u001b[0mnp\u001b[0m\u001b[0;34m.\u001b[0m\u001b[0mrandom\u001b[0m\u001b[0;34m.\u001b[0m\u001b[0mGenerator\u001b[0m\u001b[0;34m,\u001b[0m\u001b[0;34m\u001b[0m\n",
       "\u001b[0;34m\u001b[0m    \u001b[0merror\u001b[0m\u001b[0;34m:\u001b[0m \u001b[0mOptional\u001b[0m\u001b[0;34m[\u001b[0m\u001b[0mfloat\u001b[0m\u001b[0;34m]\u001b[0m \u001b[0;34m=\u001b[0m \u001b[0;32mNone\u001b[0m\u001b[0;34m,\u001b[0m\u001b[0;34m\u001b[0m\n",
       "\u001b[0;34m\u001b[0m    \u001b[0mstats\u001b[0m\u001b[0;34m:\u001b[0m \u001b[0mOptional\u001b[0m\u001b[0;34m[\u001b[0m\u001b[0mQueryStats\u001b[0m\u001b[0;34m]\u001b[0m \u001b[0;34m=\u001b[0m \u001b[0;32mNone\u001b[0m\u001b[0;34m,\u001b[0m\u001b[0;34m\u001b[0m\n",
       "\u001b[0;34m\u001b[0m    \u001b[0msteep\u001b[0m\u001b[0;34m:\u001b[0m \u001b[0mbool\u001b[0m \u001b[0;34m=\u001b[0m \u001b[0;32mFalse\u001b[0m\u001b[0;34m,\u001b[0m\u001b[0;34m\u001b[0m\n",
       "\u001b[0;34m\u001b[0m\u001b[0;34m)\u001b[0m \u001b[0;34m->\u001b[0m \u001b[0mOptional\u001b[0m\u001b[0;34m[\u001b[0m\u001b[0mAssignment\u001b[0m\u001b[0;34m]\u001b[0m\u001b[0;34m:\u001b[0m\u001b[0;34m\u001b[0m\n",
       "\u001b[0;34m\u001b[0m    \u001b[0;34m\"\"\"A hillclimbing heuristic to find maximizing assignments to weighted SAT instances\u001b[0m\n",
       "\u001b[0;34m        by progressively transitioning to better solutions using neighborhood search.\u001b[0m\n",
       "\u001b[0;34m\u001b[0m\n",
       "\u001b[0;34m\u001b[0m\n",
       "\u001b[0;34m    Args:\u001b[0m\n",
       "\u001b[0;34m        inst: The SAT instance to be solved.\u001b[0m\n",
       "\u001b[0;34m        rng: Source of randomness\u001b[0m\n",
       "\u001b[0;34m        error: upper bound on the failure probability. Defaults to None.\u001b[0m\n",
       "\u001b[0;34m        stats: Statistics instance keeping track of costs. Defaults to None.\u001b[0m\n",
       "\u001b[0;34m        steep: True when the neighborhood search is performed greedily, otherwise randomly. Defaults to False.\u001b[0m\n",
       "\u001b[0;34m\u001b[0m\n",
       "\u001b[0;34m    Returns:\u001b[0m\n",
       "\u001b[0;34m        Optional[Assignment]: The best assignment found by the heuristic.\u001b[0m\n",
       "\u001b[0;34m    \"\"\"\u001b[0m\u001b[0;34m\u001b[0m\n",
       "\u001b[0;34m\u001b[0m    \u001b[0;32mif\u001b[0m \u001b[0mrng\u001b[0m \u001b[0;32mis\u001b[0m \u001b[0;32mNone\u001b[0m\u001b[0;34m:\u001b[0m\u001b[0;34m\u001b[0m\n",
       "\u001b[0;34m\u001b[0m        \u001b[0mrng\u001b[0m \u001b[0;34m=\u001b[0m \u001b[0mnp\u001b[0m\u001b[0;34m.\u001b[0m\u001b[0mrandom\u001b[0m\u001b[0;34m.\u001b[0m\u001b[0mdefault_rng\u001b[0m\u001b[0;34m(\u001b[0m\u001b[0;34m)\u001b[0m\u001b[0;34m\u001b[0m\n",
       "\u001b[0;34m\u001b[0m\u001b[0;34m\u001b[0m\n",
       "\u001b[0;34m\u001b[0m    \u001b[0;31m# precompute some matrices (see 4.3.2 in Cade et al)\u001b[0m\u001b[0;34m\u001b[0m\n",
       "\u001b[0;34m\u001b[0m    \u001b[0mn\u001b[0m \u001b[0;34m=\u001b[0m \u001b[0minst\u001b[0m\u001b[0;34m.\u001b[0m\u001b[0mn\u001b[0m\u001b[0;34m\u001b[0m\n",
       "\u001b[0;34m\u001b[0m    \u001b[0mones\u001b[0m \u001b[0;34m=\u001b[0m \u001b[0mnp\u001b[0m\u001b[0;34m.\u001b[0m\u001b[0mones\u001b[0m\u001b[0;34m(\u001b[0m\u001b[0mn\u001b[0m\u001b[0;34m,\u001b[0m \u001b[0mdtype\u001b[0m\u001b[0;34m=\u001b[0m\u001b[0mint\u001b[0m\u001b[0;34m)\u001b[0m\u001b[0;34m\u001b[0m\n",
       "\u001b[0;34m\u001b[0m    \u001b[0mflip_mat\u001b[0m \u001b[0;34m=\u001b[0m \u001b[0mnp\u001b[0m\u001b[0;34m.\u001b[0m\u001b[0mouter\u001b[0m\u001b[0;34m(\u001b[0m\u001b[0mones\u001b[0m\u001b[0;34m,\u001b[0m \u001b[0mones\u001b[0m\u001b[0;34m)\u001b[0m \u001b[0;34m-\u001b[0m \u001b[0;36m2\u001b[0m \u001b[0;34m*\u001b[0m \u001b[0mnp\u001b[0m\u001b[0;34m.\u001b[0m\u001b[0meye\u001b[0m\u001b[0;34m(\u001b[0m\u001b[0mn\u001b[0m\u001b[0;34m,\u001b[0m \u001b[0mdtype\u001b[0m\u001b[0;34m=\u001b[0m\u001b[0mint\u001b[0m\u001b[0;34m)\u001b[0m\u001b[0;34m\u001b[0m\n",
       "\u001b[0;34m\u001b[0m\u001b[0;34m\u001b[0m\n",
       "\u001b[0;34m\u001b[0m    \u001b[0;31m# start with a random assignment\u001b[0m\u001b[0;34m\u001b[0m\n",
       "\u001b[0;34m\u001b[0m    \u001b[0mx\u001b[0m \u001b[0;34m=\u001b[0m \u001b[0mrng\u001b[0m\u001b[0;34m.\u001b[0m\u001b[0mchoice\u001b[0m\u001b[0;34m(\u001b[0m\u001b[0;34m[\u001b[0m\u001b[0;34m-\u001b[0m\u001b[0;36m1\u001b[0m\u001b[0;34m,\u001b[0m \u001b[0;36m1\u001b[0m\u001b[0;34m]\u001b[0m\u001b[0;34m,\u001b[0m \u001b[0mn\u001b[0m\u001b[0;34m)\u001b[0m\u001b[0;34m\u001b[0m\n",
       "\u001b[0;34m\u001b[0m    \u001b[0mw\u001b[0m \u001b[0;34m=\u001b[0m \u001b[0minst\u001b[0m\u001b[0;34m.\u001b[0m\u001b[0mweight\u001b[0m\u001b[0;34m(\u001b[0m\u001b[0mx\u001b[0m\u001b[0;34m)\u001b[0m\u001b[0;34m\u001b[0m\n",
       "\u001b[0;34m\u001b[0m\u001b[0;34m\u001b[0m\n",
       "\u001b[0;34m\u001b[0m    \u001b[0;31m# error probability per hillclimb step, assuming a maximum of `n` rounds (see 4.3.1 in https://arxiv.org/pdf/2203.04975.pdf)\u001b[0m\u001b[0;34m\u001b[0m\n",
       "\u001b[0;34m\u001b[0m    \u001b[0;32mif\u001b[0m \u001b[0merror\u001b[0m \u001b[0;32mis\u001b[0m \u001b[0;32mnot\u001b[0m \u001b[0;32mNone\u001b[0m\u001b[0;34m:\u001b[0m\u001b[0;34m\u001b[0m\n",
       "\u001b[0;34m\u001b[0m        \u001b[0merror\u001b[0m \u001b[0;34m/=\u001b[0m \u001b[0mn\u001b[0m\u001b[0;34m\u001b[0m\n",
       "\u001b[0;34m\u001b[0m\u001b[0;34m\u001b[0m\n",
       "\u001b[0;34m\u001b[0m    \u001b[0;32mwhile\u001b[0m \u001b[0;32mTrue\u001b[0m\u001b[0;34m:\u001b[0m\u001b[0;34m\u001b[0m\n",
       "\u001b[0;34m\u001b[0m        \u001b[0;31m# compute all Hamming neighbors (row by row) and their weights\u001b[0m\u001b[0;34m\u001b[0m\n",
       "\u001b[0;34m\u001b[0m        \u001b[0mneighbors\u001b[0m \u001b[0;34m=\u001b[0m \u001b[0mflip_mat\u001b[0m \u001b[0;34m*\u001b[0m \u001b[0mnp\u001b[0m\u001b[0;34m.\u001b[0m\u001b[0mouter\u001b[0m\u001b[0;34m(\u001b[0m\u001b[0mones\u001b[0m\u001b[0;34m,\u001b[0m \u001b[0mx\u001b[0m\u001b[0;34m)\u001b[0m\u001b[0;34m\u001b[0m\n",
       "\u001b[0;34m\u001b[0m\u001b[0;34m\u001b[0m\n",
       "\u001b[0;34m\u001b[0m        \u001b[0;31m# find improved directions\u001b[0m\u001b[0;34m\u001b[0m\n",
       "\u001b[0;34m\u001b[0m        \u001b[0;32mif\u001b[0m \u001b[0mstats\u001b[0m\u001b[0;34m:\u001b[0m\u001b[0;34m\u001b[0m\n",
       "\u001b[0;34m\u001b[0m            \u001b[0mstats\u001b[0m\u001b[0;34m.\u001b[0m\u001b[0mclassical_control_method_calls\u001b[0m \u001b[0;34m+=\u001b[0m \u001b[0;36m1\u001b[0m\u001b[0;34m\u001b[0m\n",
       "\u001b[0;34m\u001b[0m\u001b[0;34m\u001b[0m\n",
       "\u001b[0;34m\u001b[0m        \u001b[0;31m# OPTION 1: \"realistic\" implementation (what should be done in case we cared about really large instances)\u001b[0m\u001b[0;34m\u001b[0m\n",
       "\u001b[0;34m\u001b[0m        \u001b[0;31m# result = search(neighbors, lambda x: inst.weight(x) > w, error=error, stats=stats)\u001b[0m\u001b[0;34m\u001b[0m\n",
       "\u001b[0;34m\u001b[0m        \u001b[0;31m# if result is None:\u001b[0m\u001b[0;34m\u001b[0m\n",
       "\u001b[0;34m\u001b[0m        \u001b[0;31m#     return x\u001b[0m\u001b[0;34m\u001b[0m\n",
       "\u001b[0;34m\u001b[0m        \u001b[0;31m# x, w = result, inst.weight(result)\u001b[0m\u001b[0;34m\u001b[0m\n",
       "\u001b[0;34m\u001b[0m\u001b[0;34m\u001b[0m\n",
       "\u001b[0;34m\u001b[0m        \u001b[0;31m# OPTION 2: faster implementation (for our instance sizes)\u001b[0m\u001b[0;34m\u001b[0m\n",
       "\u001b[0;34m\u001b[0m        \u001b[0mweights\u001b[0m \u001b[0;34m=\u001b[0m \u001b[0minst\u001b[0m\u001b[0;34m.\u001b[0m\u001b[0mweight\u001b[0m\u001b[0;34m(\u001b[0m\u001b[0mneighbors\u001b[0m\u001b[0;34m)\u001b[0m\u001b[0;34m\u001b[0m\n",
       "\u001b[0;34m\u001b[0m\u001b[0;34m\u001b[0m\n",
       "\u001b[0;34m\u001b[0m        \u001b[0;32mdef\u001b[0m \u001b[0mpred\u001b[0m\u001b[0;34m(\u001b[0m\u001b[0mit\u001b[0m\u001b[0;34m:\u001b[0m \u001b[0mTuple\u001b[0m\u001b[0;34m[\u001b[0m\u001b[0mAssignment\u001b[0m\u001b[0;34m,\u001b[0m \u001b[0mnp\u001b[0m\u001b[0;34m.\u001b[0m\u001b[0mfloat_\u001b[0m\u001b[0;34m]\u001b[0m\u001b[0;34m)\u001b[0m \u001b[0;34m->\u001b[0m \u001b[0mbool\u001b[0m\u001b[0;34m:\u001b[0m\u001b[0;34m\u001b[0m\n",
       "\u001b[0;34m\u001b[0m            \u001b[0;32mreturn\u001b[0m \u001b[0mbool\u001b[0m\u001b[0;34m(\u001b[0m\u001b[0mit\u001b[0m\u001b[0;34m[\u001b[0m\u001b[0;36m1\u001b[0m\u001b[0;34m]\u001b[0m \u001b[0;34m>\u001b[0m \u001b[0mw\u001b[0m\u001b[0;34m)\u001b[0m\u001b[0;34m\u001b[0m\n",
       "\u001b[0;34m\u001b[0m\u001b[0;34m\u001b[0m\n",
       "\u001b[0;34m\u001b[0m        \u001b[0;32mif\u001b[0m \u001b[0msteep\u001b[0m\u001b[0;34m:\u001b[0m\u001b[0;34m\u001b[0m\n",
       "\u001b[0;34m\u001b[0m            \u001b[0mresult\u001b[0m \u001b[0;34m=\u001b[0m \u001b[0mmax\u001b[0m\u001b[0;34m(\u001b[0m\u001b[0;34m\u001b[0m\n",
       "\u001b[0;34m\u001b[0m                \u001b[0mzip\u001b[0m\u001b[0;34m(\u001b[0m\u001b[0mneighbors\u001b[0m\u001b[0;34m,\u001b[0m \u001b[0mweights\u001b[0m\u001b[0;34m)\u001b[0m\u001b[0;34m,\u001b[0m\u001b[0;34m\u001b[0m\n",
       "\u001b[0;34m\u001b[0m                \u001b[0mkey\u001b[0m\u001b[0;34m=\u001b[0m\u001b[0;32mlambda\u001b[0m \u001b[0mit\u001b[0m\u001b[0;34m:\u001b[0m \u001b[0mit\u001b[0m\u001b[0;34m[\u001b[0m\u001b[0;36m1\u001b[0m\u001b[0;34m]\u001b[0m\u001b[0;34m,\u001b[0m\u001b[0;34m\u001b[0m\n",
       "\u001b[0;34m\u001b[0m                \u001b[0merror\u001b[0m\u001b[0;34m=\u001b[0m\u001b[0merror\u001b[0m\u001b[0;34m,\u001b[0m\u001b[0;34m\u001b[0m\n",
       "\u001b[0;34m\u001b[0m                \u001b[0mstats\u001b[0m\u001b[0;34m=\u001b[0m\u001b[0mstats\u001b[0m\u001b[0;34m,\u001b[0m\u001b[0;34m\u001b[0m\n",
       "\u001b[0;34m\u001b[0m            \u001b[0;34m)\u001b[0m\u001b[0;34m\u001b[0m\n",
       "\u001b[0;34m\u001b[0m            \u001b[0mnx\u001b[0m\u001b[0;34m,\u001b[0m \u001b[0mnw\u001b[0m \u001b[0;34m=\u001b[0m \u001b[0mresult\u001b[0m\u001b[0;34m\u001b[0m\n",
       "\u001b[0;34m\u001b[0m            \u001b[0;32mif\u001b[0m \u001b[0mnw\u001b[0m \u001b[0;34m>\u001b[0m \u001b[0mw\u001b[0m\u001b[0;34m:\u001b[0m\u001b[0;34m\u001b[0m\n",
       "\u001b[0;34m\u001b[0m                \u001b[0mx\u001b[0m\u001b[0;34m,\u001b[0m \u001b[0mw\u001b[0m \u001b[0;34m=\u001b[0m \u001b[0mresult\u001b[0m\u001b[0;34m\u001b[0m\n",
       "\u001b[0;34m\u001b[0m            \u001b[0;32melse\u001b[0m\u001b[0;34m:\u001b[0m\u001b[0;34m\u001b[0m\n",
       "\u001b[0;34m\u001b[0m                \u001b[0;32mreturn\u001b[0m \u001b[0mx\u001b[0m\u001b[0;34m\u001b[0m\n",
       "\u001b[0;34m\u001b[0m        \u001b[0;32melse\u001b[0m\u001b[0;34m:\u001b[0m\u001b[0;34m\u001b[0m\n",
       "\u001b[0;34m\u001b[0m            \u001b[0mresult\u001b[0m \u001b[0;34m=\u001b[0m \u001b[0msearch\u001b[0m\u001b[0;34m(\u001b[0m\u001b[0;34m\u001b[0m\n",
       "\u001b[0;34m\u001b[0m                \u001b[0mzip\u001b[0m\u001b[0;34m(\u001b[0m\u001b[0mneighbors\u001b[0m\u001b[0;34m,\u001b[0m \u001b[0mweights\u001b[0m\u001b[0;34m)\u001b[0m\u001b[0;34m,\u001b[0m\u001b[0;34m\u001b[0m\n",
       "\u001b[0;34m\u001b[0m                \u001b[0mpred\u001b[0m\u001b[0;34m,\u001b[0m\u001b[0;34m\u001b[0m\n",
       "\u001b[0;34m\u001b[0m                \u001b[0merror\u001b[0m\u001b[0;34m=\u001b[0m\u001b[0merror\u001b[0m\u001b[0;34m,\u001b[0m\u001b[0;34m\u001b[0m\n",
       "\u001b[0;34m\u001b[0m                \u001b[0mstats\u001b[0m\u001b[0;34m=\u001b[0m\u001b[0mstats\u001b[0m\u001b[0;34m,\u001b[0m\u001b[0;34m\u001b[0m\n",
       "\u001b[0;34m\u001b[0m                \u001b[0mrng\u001b[0m\u001b[0;34m=\u001b[0m\u001b[0mrng\u001b[0m\u001b[0;34m,\u001b[0m\u001b[0;34m\u001b[0m\n",
       "\u001b[0;34m\u001b[0m            \u001b[0;34m)\u001b[0m\u001b[0;34m\u001b[0m\n",
       "\u001b[0;34m\u001b[0m            \u001b[0;32mif\u001b[0m \u001b[0mresult\u001b[0m \u001b[0;32mis\u001b[0m \u001b[0;32mNone\u001b[0m\u001b[0;34m:\u001b[0m\u001b[0;34m\u001b[0m\n",
       "\u001b[0;34m\u001b[0m                \u001b[0;32mreturn\u001b[0m \u001b[0mx\u001b[0m\u001b[0;34m\u001b[0m\n",
       "\u001b[0;34m\u001b[0m            \u001b[0mx\u001b[0m\u001b[0;34m,\u001b[0m \u001b[0mw\u001b[0m \u001b[0;34m=\u001b[0m \u001b[0mresult\u001b[0m\u001b[0;34m\u001b[0m\u001b[0;34m\u001b[0m\u001b[0m\n"
      ]
     },
     "metadata": {},
     "output_type": "display_data"
    }
   ],
   "source": [
    "%psource hill_climber"
   ]
  },
  {
   "cell_type": "markdown",
   "metadata": {
    "collapsed": false,
    "jupyter": {
     "outputs_hidden": false
    }
   },
   "source": [
    "We can take a look at the $search$ and $max$ functions used above."
   ]
  },
  {
   "cell_type": "code",
   "execution_count": 4,
   "metadata": {
    "collapsed": false,
    "jupyter": {
     "outputs_hidden": false
    }
   },
   "outputs": [
    {
     "data": {
      "text/plain": [
       "\u001b[0;31mClass docstring:\u001b[0m\n",
       "    Search a list in random order for an element satisfying the given predicate, while keeping track of query statistics.\n",
       "    \n",
       "    >>> search([1,2,3,4,5], lambda x: x % 2 == 0, rng=np.random.default_rng(1))\n",
       "    2\n",
       "    \n",
       "    Args:\n",
       "        iterable: iterable to be searched over\n",
       "        key: function to test if an element satisfies the predicate\n",
       "        rng: np.random.Generator instance as source of randomness\n",
       "        error: upper bound on the failure probability of the quantum algorithm.\n",
       "        max_classical_queries: maximum number of classical queries before entering the quantum part of the algorithm.\n",
       "        stats: keeps track of statistics.\n",
       "    \n",
       "    Raises:\n",
       "        ValueError: Raised when the error bound is not provided and statistics cannot be calculated.\n",
       "    \n",
       "    Returns:\n",
       "        An element that satisfies the predicate, or None if no such argument can be found.\n",
       "\u001b[0;31mCall docstring:\u001b[0m\n",
       "    Call self as a function."
      ]
     },
     "metadata": {},
     "output_type": "display_data"
    }
   ],
   "source": [
    "from qubrabench.algorithms.search import search as qsearch\n",
    "\n",
    "%pdoc qsearch"
   ]
  },
  {
   "cell_type": "code",
   "execution_count": 5,
   "metadata": {
    "collapsed": false,
    "jupyter": {
     "outputs_hidden": false
    }
   },
   "outputs": [
    {
     "data": {
      "text/plain": [
       "\u001b[0;31mClass docstring:\u001b[0m\n",
       "    Find the largest element in a list, while keeping track of query statistics.\n",
       "    \n",
       "    Args:\n",
       "        iterable: iterable to find the maximum in\n",
       "        default: default value to return if iterable is empty.\n",
       "        key: function that maps iterable elements to values that are comparable. By default, use the iterable elements.\n",
       "        error: upper bound on the failure probability of the quantum algorithm.\n",
       "        stats: object that keeps track of statistics.\n",
       "    \n",
       "    Raises:\n",
       "        ValueError: Raised when the failure rate `error` is not provided and statistics cannot be calculated.\n",
       "        ValueError: Raised when iterable is an empty sequence and no default is provided.\n",
       "    \n",
       "    Returns:\n",
       "        the desired maximum element\n",
       "\u001b[0;31mCall docstring:\u001b[0m\n",
       "    Call self as a function."
      ]
     },
     "metadata": {},
     "output_type": "display_data"
    }
   ],
   "source": [
    "from qubrabench.algorithms.max import max as qmax\n",
    "\n",
    "%pdoc qmax"
   ]
  },
  {
   "cell_type": "markdown",
   "metadata": {
    "collapsed": false,
    "jupyter": {
     "outputs_hidden": false
    }
   },
   "source": [
    "## Benchmarking\n",
    "\n",
    "The imported `run` function executes the hillclimber on a random instance and returns the statistics in a pandas DataFrame."
   ]
  },
  {
   "cell_type": "code",
   "execution_count": 6,
   "metadata": {
    "collapsed": false,
    "jupyter": {
     "outputs_hidden": false
    }
   },
   "outputs": [
    {
     "data": {
      "text/plain": [
       "\u001b[0;31mClass docstring:\u001b[0m\n",
       "    External interface to generate weighted sat instances, run the hillclimber algorithm and return statistics.\n",
       "    \n",
       "    Args:\n",
       "        k: Number of literals in a clause\n",
       "        r: Factor for the number of clauses\n",
       "        n: size (variable number) of the SAT instances\n",
       "        n_runs: number of runs to perform in each group\n",
       "        rng: Source of randomness\n",
       "        error: Upper bound on the failure rate. Defaults to None.\n",
       "        random_weights: Optionally providable weights for SAT instance generation. Defaults to None.\n",
       "        steep: Whether to perform hillclimb steep (greedily). Defaults to False.\n",
       "    \n",
       "    Returns:\n",
       "        Dataframe holding benchmarking statistics of the runs performed.\n",
       "\u001b[0;31mCall docstring:\u001b[0m\n",
       "    Call self as a function."
      ]
     },
     "metadata": {},
     "output_type": "display_data"
    }
   ],
   "source": [
    "%pdoc run"
   ]
  },
  {
   "cell_type": "markdown",
   "metadata": {
    "collapsed": false,
    "jupyter": {
     "outputs_hidden": false
    }
   },
   "source": [
    "Let's run the simple hill climber for $n = 100$, $n = 300$ and $n=1000$. We will run the hill climber five times for each $n$ and consistently use $k = 3$."
   ]
  },
  {
   "cell_type": "code",
   "execution_count": 7,
   "metadata": {},
   "outputs": [
    {
     "name": "stdout",
     "output_type": "stream",
     "text": [
      "CPU times: user 507 ms, sys: 1.56 s, total: 2.07 s\n",
      "Wall time: 153 ms\n"
     ]
    },
    {
     "data": {
      "text/html": [
       "<div>\n",
       "<style scoped>\n",
       "    .dataframe tbody tr th:only-of-type {\n",
       "        vertical-align: middle;\n",
       "    }\n",
       "\n",
       "    .dataframe tbody tr th {\n",
       "        vertical-align: top;\n",
       "    }\n",
       "\n",
       "    .dataframe thead th {\n",
       "        text-align: right;\n",
       "    }\n",
       "</style>\n",
       "<table border=\"1\" class=\"dataframe\">\n",
       "  <thead>\n",
       "    <tr style=\"text-align: right;\">\n",
       "      <th></th>\n",
       "      <th>classical_control_method_calls</th>\n",
       "      <th>classical_actual_queries</th>\n",
       "      <th>classical_expected_queries</th>\n",
       "      <th>quantum_expected_classical_queries</th>\n",
       "      <th>quantum_expected_quantum_queries</th>\n",
       "      <th>n</th>\n",
       "      <th>k</th>\n",
       "      <th>r</th>\n",
       "    </tr>\n",
       "  </thead>\n",
       "  <tbody>\n",
       "    <tr>\n",
       "      <th>0</th>\n",
       "      <td>34</td>\n",
       "      <td>275</td>\n",
       "      <td>341.065934</td>\n",
       "      <td>404.881635</td>\n",
       "      <td>1384.042495</td>\n",
       "      <td>100</td>\n",
       "      <td>3</td>\n",
       "      <td>3</td>\n",
       "    </tr>\n",
       "    <tr>\n",
       "      <th>1</th>\n",
       "      <td>39</td>\n",
       "      <td>473</td>\n",
       "      <td>445.956675</td>\n",
       "      <td>546.931407</td>\n",
       "      <td>1406.459959</td>\n",
       "      <td>100</td>\n",
       "      <td>3</td>\n",
       "      <td>3</td>\n",
       "    </tr>\n",
       "    <tr>\n",
       "      <th>2</th>\n",
       "      <td>49</td>\n",
       "      <td>813</td>\n",
       "      <td>709.188631</td>\n",
       "      <td>920.493066</td>\n",
       "      <td>1486.303359</td>\n",
       "      <td>100</td>\n",
       "      <td>3</td>\n",
       "      <td>3</td>\n",
       "    </tr>\n",
       "    <tr>\n",
       "      <th>3</th>\n",
       "      <td>43</td>\n",
       "      <td>471</td>\n",
       "      <td>386.570526</td>\n",
       "      <td>465.600523</td>\n",
       "      <td>1402.465719</td>\n",
       "      <td>100</td>\n",
       "      <td>3</td>\n",
       "      <td>3</td>\n",
       "    </tr>\n",
       "    <tr>\n",
       "      <th>4</th>\n",
       "      <td>22</td>\n",
       "      <td>349</td>\n",
       "      <td>340.424143</td>\n",
       "      <td>431.042073</td>\n",
       "      <td>1406.301255</td>\n",
       "      <td>100</td>\n",
       "      <td>3</td>\n",
       "      <td>3</td>\n",
       "    </tr>\n",
       "  </tbody>\n",
       "</table>\n",
       "</div>"
      ],
      "text/plain": [
       "   classical_control_method_calls  classical_actual_queries  \\\n",
       "0                              34                       275   \n",
       "1                              39                       473   \n",
       "2                              49                       813   \n",
       "3                              43                       471   \n",
       "4                              22                       349   \n",
       "\n",
       "   classical_expected_queries  quantum_expected_classical_queries  \\\n",
       "0                  341.065934                          404.881635   \n",
       "1                  445.956675                          546.931407   \n",
       "2                  709.188631                          920.493066   \n",
       "3                  386.570526                          465.600523   \n",
       "4                  340.424143                          431.042073   \n",
       "\n",
       "   quantum_expected_quantum_queries    n  k  r  \n",
       "0                       1384.042495  100  3  3  \n",
       "1                       1406.459959  100  3  3  \n",
       "2                       1486.303359  100  3  3  \n",
       "3                       1402.465719  100  3  3  \n",
       "4                       1406.301255  100  3  3  "
      ]
     },
     "execution_count": 7,
     "metadata": {},
     "output_type": "execute_result"
    }
   ],
   "source": [
    "%%time\n",
    "data_100 = run(\n",
    "    k=3,\n",
    "    r=3,\n",
    "    n=100,\n",
    "    n_runs=5,\n",
    "    rng=np.random.default_rng(seed=100),\n",
    "    error=10**-5,\n",
    "    steep=False,\n",
    ")\n",
    "data_100"
   ]
  },
  {
   "cell_type": "code",
   "execution_count": 8,
   "metadata": {
    "collapsed": false,
    "jupyter": {
     "outputs_hidden": false
    }
   },
   "outputs": [
    {
     "name": "stdout",
     "output_type": "stream",
     "text": [
      "CPU times: user 4.36 s, sys: 9.47 s, total: 13.8 s\n",
      "Wall time: 1.07 s\n"
     ]
    },
    {
     "data": {
      "text/html": [
       "<div>\n",
       "<style scoped>\n",
       "    .dataframe tbody tr th:only-of-type {\n",
       "        vertical-align: middle;\n",
       "    }\n",
       "\n",
       "    .dataframe tbody tr th {\n",
       "        vertical-align: top;\n",
       "    }\n",
       "\n",
       "    .dataframe thead th {\n",
       "        text-align: right;\n",
       "    }\n",
       "</style>\n",
       "<table border=\"1\" class=\"dataframe\">\n",
       "  <thead>\n",
       "    <tr style=\"text-align: right;\">\n",
       "      <th></th>\n",
       "      <th>classical_control_method_calls</th>\n",
       "      <th>classical_actual_queries</th>\n",
       "      <th>classical_expected_queries</th>\n",
       "      <th>quantum_expected_classical_queries</th>\n",
       "      <th>quantum_expected_quantum_queries</th>\n",
       "      <th>n</th>\n",
       "      <th>k</th>\n",
       "      <th>r</th>\n",
       "    </tr>\n",
       "  </thead>\n",
       "  <tbody>\n",
       "    <tr>\n",
       "      <th>0</th>\n",
       "      <td>97</td>\n",
       "      <td>1490</td>\n",
       "      <td>1530.514352</td>\n",
       "      <td>1351.690211</td>\n",
       "      <td>2680.479146</td>\n",
       "      <td>300</td>\n",
       "      <td>3</td>\n",
       "      <td>3</td>\n",
       "    </tr>\n",
       "    <tr>\n",
       "      <th>1</th>\n",
       "      <td>104</td>\n",
       "      <td>1847</td>\n",
       "      <td>1495.262898</td>\n",
       "      <td>1303.858463</td>\n",
       "      <td>2690.706632</td>\n",
       "      <td>300</td>\n",
       "      <td>3</td>\n",
       "      <td>3</td>\n",
       "    </tr>\n",
       "    <tr>\n",
       "      <th>2</th>\n",
       "      <td>114</td>\n",
       "      <td>1289</td>\n",
       "      <td>1477.074700</td>\n",
       "      <td>1279.210218</td>\n",
       "      <td>2691.116070</td>\n",
       "      <td>300</td>\n",
       "      <td>3</td>\n",
       "      <td>3</td>\n",
       "    </tr>\n",
       "    <tr>\n",
       "      <th>3</th>\n",
       "      <td>115</td>\n",
       "      <td>1749</td>\n",
       "      <td>1556.280257</td>\n",
       "      <td>1307.311720</td>\n",
       "      <td>2768.560829</td>\n",
       "      <td>300</td>\n",
       "      <td>3</td>\n",
       "      <td>3</td>\n",
       "    </tr>\n",
       "    <tr>\n",
       "      <th>4</th>\n",
       "      <td>132</td>\n",
       "      <td>2007</td>\n",
       "      <td>1925.946128</td>\n",
       "      <td>1756.475075</td>\n",
       "      <td>2710.741974</td>\n",
       "      <td>300</td>\n",
       "      <td>3</td>\n",
       "      <td>3</td>\n",
       "    </tr>\n",
       "  </tbody>\n",
       "</table>\n",
       "</div>"
      ],
      "text/plain": [
       "   classical_control_method_calls  classical_actual_queries  \\\n",
       "0                              97                      1490   \n",
       "1                             104                      1847   \n",
       "2                             114                      1289   \n",
       "3                             115                      1749   \n",
       "4                             132                      2007   \n",
       "\n",
       "   classical_expected_queries  quantum_expected_classical_queries  \\\n",
       "0                 1530.514352                         1351.690211   \n",
       "1                 1495.262898                         1303.858463   \n",
       "2                 1477.074700                         1279.210218   \n",
       "3                 1556.280257                         1307.311720   \n",
       "4                 1925.946128                         1756.475075   \n",
       "\n",
       "   quantum_expected_quantum_queries    n  k  r  \n",
       "0                       2680.479146  300  3  3  \n",
       "1                       2690.706632  300  3  3  \n",
       "2                       2691.116070  300  3  3  \n",
       "3                       2768.560829  300  3  3  \n",
       "4                       2710.741974  300  3  3  "
      ]
     },
     "execution_count": 8,
     "metadata": {},
     "output_type": "execute_result"
    }
   ],
   "source": [
    "%%time\n",
    "data_300 = run(\n",
    "    k=3,\n",
    "    r=3,\n",
    "    n=300,\n",
    "    n_runs=5,\n",
    "    rng=np.random.default_rng(seed=100),\n",
    "    error=10**-5,\n",
    "    steep=False,\n",
    ")\n",
    "data_300"
   ]
  },
  {
   "cell_type": "code",
   "execution_count": 9,
   "metadata": {
    "collapsed": false,
    "jupyter": {
     "outputs_hidden": false
    }
   },
   "outputs": [
    {
     "name": "stdout",
     "output_type": "stream",
     "text": [
      "CPU times: user 18.9 s, sys: 47.5 s, total: 1min 6s\n",
      "Wall time: 4.73 s\n"
     ]
    },
    {
     "data": {
      "text/html": [
       "<div>\n",
       "<style scoped>\n",
       "    .dataframe tbody tr th:only-of-type {\n",
       "        vertical-align: middle;\n",
       "    }\n",
       "\n",
       "    .dataframe tbody tr th {\n",
       "        vertical-align: top;\n",
       "    }\n",
       "\n",
       "    .dataframe thead th {\n",
       "        text-align: right;\n",
       "    }\n",
       "</style>\n",
       "<table border=\"1\" class=\"dataframe\">\n",
       "  <thead>\n",
       "    <tr style=\"text-align: right;\">\n",
       "      <th></th>\n",
       "      <th>classical_control_method_calls</th>\n",
       "      <th>classical_actual_queries</th>\n",
       "      <th>classical_expected_queries</th>\n",
       "      <th>quantum_expected_classical_queries</th>\n",
       "      <th>quantum_expected_quantum_queries</th>\n",
       "      <th>n</th>\n",
       "      <th>k</th>\n",
       "      <th>r</th>\n",
       "    </tr>\n",
       "  </thead>\n",
       "  <tbody>\n",
       "    <tr>\n",
       "      <th>0</th>\n",
       "      <td>180</td>\n",
       "      <td>2944</td>\n",
       "      <td>2835.450715</td>\n",
       "      <td>2289.638194</td>\n",
       "      <td>3764.294014</td>\n",
       "      <td>500</td>\n",
       "      <td>3</td>\n",
       "      <td>3</td>\n",
       "    </tr>\n",
       "    <tr>\n",
       "      <th>1</th>\n",
       "      <td>176</td>\n",
       "      <td>2652</td>\n",
       "      <td>2783.501729</td>\n",
       "      <td>2167.874466</td>\n",
       "      <td>3792.974281</td>\n",
       "      <td>500</td>\n",
       "      <td>3</td>\n",
       "      <td>3</td>\n",
       "    </tr>\n",
       "    <tr>\n",
       "      <th>2</th>\n",
       "      <td>197</td>\n",
       "      <td>3325</td>\n",
       "      <td>3097.640959</td>\n",
       "      <td>2572.725882</td>\n",
       "      <td>3744.963669</td>\n",
       "      <td>500</td>\n",
       "      <td>3</td>\n",
       "      <td>3</td>\n",
       "    </tr>\n",
       "    <tr>\n",
       "      <th>3</th>\n",
       "      <td>191</td>\n",
       "      <td>2822</td>\n",
       "      <td>3034.755582</td>\n",
       "      <td>2389.933505</td>\n",
       "      <td>3825.687399</td>\n",
       "      <td>500</td>\n",
       "      <td>3</td>\n",
       "      <td>3</td>\n",
       "    </tr>\n",
       "    <tr>\n",
       "      <th>4</th>\n",
       "      <td>194</td>\n",
       "      <td>3080</td>\n",
       "      <td>3077.856689</td>\n",
       "      <td>2536.786571</td>\n",
       "      <td>3760.542570</td>\n",
       "      <td>500</td>\n",
       "      <td>3</td>\n",
       "      <td>3</td>\n",
       "    </tr>\n",
       "  </tbody>\n",
       "</table>\n",
       "</div>"
      ],
      "text/plain": [
       "   classical_control_method_calls  classical_actual_queries  \\\n",
       "0                             180                      2944   \n",
       "1                             176                      2652   \n",
       "2                             197                      3325   \n",
       "3                             191                      2822   \n",
       "4                             194                      3080   \n",
       "\n",
       "   classical_expected_queries  quantum_expected_classical_queries  \\\n",
       "0                 2835.450715                         2289.638194   \n",
       "1                 2783.501729                         2167.874466   \n",
       "2                 3097.640959                         2572.725882   \n",
       "3                 3034.755582                         2389.933505   \n",
       "4                 3077.856689                         2536.786571   \n",
       "\n",
       "   quantum_expected_quantum_queries    n  k  r  \n",
       "0                       3764.294014  500  3  3  \n",
       "1                       3792.974281  500  3  3  \n",
       "2                       3744.963669  500  3  3  \n",
       "3                       3825.687399  500  3  3  \n",
       "4                       3760.542570  500  3  3  "
      ]
     },
     "execution_count": 9,
     "metadata": {},
     "output_type": "execute_result"
    }
   ],
   "source": [
    "%%time\n",
    "data_500 = run(\n",
    "    k=3,\n",
    "    r=3,\n",
    "    n=500,\n",
    "    n_runs=5,\n",
    "    rng=np.random.default_rng(seed=100),\n",
    "    error=10**-5,\n",
    "    steep=False,\n",
    ")\n",
    "data_500"
   ]
  },
  {
   "cell_type": "markdown",
   "metadata": {
    "collapsed": false,
    "jupyter": {
     "outputs_hidden": false
    }
   },
   "source": [
    "## Plotting\n",
    "We use the `PlottingStrategy` wrapper to define our plot parameters and configuration."
   ]
  },
  {
   "cell_type": "code",
   "execution_count": 10,
   "metadata": {},
   "outputs": [],
   "source": [
    "from qubrabench.utils.plotting_strategy import PlottingStrategy\n",
    "\n",
    "\n",
    "class Plotter(PlottingStrategy):\n",
    "    def __init__(self):\n",
    "        self.colors[\"\"] = \"blue\"\n",
    "\n",
    "    def get_plot_group_column_names(self):\n",
    "        return [\"k\", \"r\"]\n",
    "\n",
    "    def get_data_group_column_names(self):\n",
    "        return []\n",
    "\n",
    "    def compute_aggregates(self, data, *, quantum_factor):\n",
    "        # compute combined query costs of quantum search\n",
    "        c = data[\"quantum_expected_classical_queries\"]\n",
    "        q = data[\"quantum_expected_quantum_queries\"]\n",
    "        data[\"quantum_cost\"] = c + quantum_factor * q\n",
    "        return data\n",
    "\n",
    "    def x_axis_column(self):\n",
    "        return \"n\"\n",
    "\n",
    "    def x_axis_label(self):\n",
    "        return \"$n$\"\n",
    "\n",
    "    def y_axis_label(self):\n",
    "        return \"Queries\"\n",
    "\n",
    "    def get_column_names_to_plot(self):\n",
    "        return {\n",
    "            \"classical_actual_queries\": (\"Classical Queries\", \"o\"),\n",
    "            \"quantum_cost\": (\"Quantum Queries\", \"x\"),\n",
    "        }"
   ]
  },
  {
   "cell_type": "markdown",
   "metadata": {},
   "source": [
    "We can put all the benchmark stats in a single table and run the plotter. "
   ]
  },
  {
   "cell_type": "code",
   "execution_count": 11,
   "metadata": {},
   "outputs": [
    {
     "data": {
      "text/plain": [
       "\u001b[0;31mClass docstring:\u001b[0m\n",
       "    Plot benchmarking data.\n",
       "    \n",
       "    Args:\n",
       "        data: a pandas DataFrame containing all the benchmark data.\n",
       "        quantum_factor: conversion factor for the cost of a quantum query (w.r.t. classical queries).\n",
       "        y_lower_lim: lower limit on the Y-axis (useful if the data starts at a large value)\n",
       "    \n",
       "    Raises:\n",
       "        ValueError: if no columns are given to plot\n",
       "\u001b[0;31mCall docstring:\u001b[0m\n",
       "    Call self as a function."
      ]
     },
     "metadata": {},
     "output_type": "display_data"
    }
   ],
   "source": [
    "%pdoc Plotter.plot"
   ]
  },
  {
   "cell_type": "code",
   "execution_count": 12,
   "metadata": {},
   "outputs": [
    {
     "data": {
      "image/png": "[encoded data removed]",
      "text/plain": [
       "<Figure size 640x480 with 1 Axes>"
      ]
     },
     "metadata": {},
     "output_type": "display_data"
    }
   ],
   "source": [
    "data = pd.concat([data_100, data_300, data_500])\n",
    "Plotter().plot(data, quantum_factor=2, y_lower_lim=10)"
   ]
  },
  {
   "cell_type": "markdown",
   "metadata": {},
   "source": [
    "Now we can also run the \"steep\" hillclimber for the above instance sizes, and compare the two benchmarks."
   ]
  },
  {
   "cell_type": "code",
   "execution_count": 13,
   "metadata": {},
   "outputs": [
    {
     "name": "stdout",
     "output_type": "stream",
     "text": [
      "CPU times: user 17 s, sys: 40.6 s, total: 57.7 s\n",
      "Wall time: 3.65 s\n"
     ]
    }
   ],
   "source": [
    "%%time\n",
    "data_steep = [\n",
    "    run(\n",
    "        k=3,\n",
    "        r=3,\n",
    "        n=n,\n",
    "        n_runs=5,\n",
    "        rng=np.random.default_rng(seed=100),\n",
    "        error=10**-5,\n",
    "        steep=True,\n",
    "    )\n",
    "    for n in [100, 300, 500]\n",
    "]\n",
    "data_steep = pd.concat(data_steep)"
   ]
  },
  {
   "cell_type": "code",
   "execution_count": 14,
   "metadata": {},
   "outputs": [],
   "source": [
    "# add an extra column to distinguish the source (i.e. type of hillclimb)\n",
    "full_data = []\n",
    "for d, is_steep in [(data, False), (data_steep, True)]:\n",
    "    d = d.copy()\n",
    "    d.insert(0, \"steep\", is_steep)\n",
    "    full_data.append(d)\n",
    "full_data = pd.concat(full_data)"
   ]
  },
  {
   "cell_type": "markdown",
   "metadata": {},
   "source": [
    "We modify the above plotter a bit as we now want to group the data by column \"steep\" (in the same plot)."
   ]
  },
  {
   "cell_type": "code",
   "execution_count": 15,
   "metadata": {},
   "outputs": [
    {
     "data": {
      "image/png": "[encoded data removed]",
      "text/plain": [
       "<Figure size 640x480 with 1 Axes>"
      ]
     },
     "metadata": {},
     "output_type": "display_data"
    }
   ],
   "source": [
    "class FullPlotter(Plotter):\n",
    "    def __init__(self):\n",
    "        self.colors[\"steep = False\"] = \"blue\"\n",
    "        self.colors[\"steep = True\"] = \"red\"\n",
    "\n",
    "    def get_data_group_column_names(self):\n",
    "        return [\"steep\"]\n",
    "\n",
    "\n",
    "FullPlotter().plot(full_data, quantum_factor=2, y_lower_lim=10)"
   ]
  }
 ],
 "metadata": {
  "kernelspec": {
   "display_name": "Local Py3",
   "language": "python",
   "name": "local3"
  },
  "language_info": {
   "codemirror_mode": {
    "name": "ipython",
    "version": 3
   },
   "file_extension": ".py",
   "mimetype": "text/x-python",
   "name": "python",
   "nbconvert_exporter": "python",
   "pygments_lexer": "ipython3",
   "version": "3.11.3"
  }
 },
 "nbformat": 4,
 "nbformat_minor": 4
}
