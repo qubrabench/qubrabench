{
 "cells": [
  {
   "cell_type": "markdown",
   "metadata": {},
   "source": [
    "# Benchmarking an algorithm used to solve a MAX-k-SAT problem\n",
    "\n",
    "In this notebook we showcase functionality of qubrabench by implementing and benchmarking a hillclimbing algorithm to solve MAX-k-SAT, as described in https://arxiv.org/abs/2203.04975.\n",
    "The paper describes two distinct variants of implementing the hillclimber: a simple hillclimber - which uses (quantum) search, and a steep one - which uses (quantum) max finding.\n",
    "\n",
    "## Problem Definition: MAX-k-SAT\n",
    "\n",
    "Max-k-SAT is a combinatorial optimization problem that given a list of clauses $(C_{i})^{p}_{i=1}$, each a disjunction of at most $k$ literals, and a set of weights $(w_{i})^{p}_{i=1}$, asks us to maximize the weight of the satisfied clauses,\n",
    "$$\\varphi(y) := \\sum ^{p} _{i=1} w_{i}C_{i}(y),$$\n",
    "over all assignments $y \\in \\{0, 1\\}^{q}$ of the variables. This problem is NP-hard for $k ≥ 2$.\n",
    "\n",
    "## Example Problem Instance\n",
    "\n",
    "Let's assume that $k=3$, which means we will be solving a MAX-3-SAT problem. We will also assume that we have four variables available ($x_{1}, x_{2}, x_{3}, x_{4})$. In the course of the following sections, we will build an algorithm to solve the following problem instance:\n",
    "\n",
    "$$(\\neg x_{1} \\lor \\neg x_{2} \\lor x_{3})_{3} \\land (x_{1} \\lor x_{2} \\lor \\neg x_{4})_{5} \\land (\\neg x_{1} \\lor \\neg x_{2} \\lor x_{4})_{1}$$ "
   ]
  },
  {
   "cell_type": "code",
   "execution_count": null,
   "metadata": {},
   "outputs": [],
   "source": [
    "from dataclasses import dataclass\n",
    "\n",
    "\n",
    "@dataclass\n",
    "class Clause:\n",
    "    clause: list[int]\n",
    "    weight: float\n",
    "\n",
    "\n",
    "@dataclass\n",
    "class Instance:\n",
    "    n_var: int\n",
    "    clauses: list[Clause]\n",
    "\n",
    "    def clauses_array(self) -> list[list[int]]:\n",
    "        return [clause.clause for clause in self.clauses]\n",
    "\n",
    "    def weights_array(self) -> list[int]:\n",
    "        return [clause.weight for clause in self.clauses]"
   ]
  },
  {
   "cell_type": "code",
   "execution_count": null,
   "metadata": {},
   "outputs": [],
   "source": [
    "inst = Instance(\n",
    "    n_var=4,\n",
    "    clauses=[\n",
    "        Clause(clause=[-1, -2, 3], weight=3),\n",
    "        Clause(clause=[1, 2, -4], weight=5),\n",
    "        Clause(clause=[-1, -2, 4], weight=1),\n",
    "    ],\n",
    ")\n",
    "\n",
    "var_count = 4\n",
    "demo_clauses_array = (\n",
    "    inst.clauses_array()\n",
    ")  # we convert the instance to arrays here for convenience\n",
    "demo_weights_array = inst.weights_array()  # same for the weights"
   ]
  },
  {
   "cell_type": "markdown",
   "metadata": {},
   "source": [
    "In this representation, each array in the demo_clauses_array represents one of the problems clauses. Each value in one of these clauses refers to one of the four available variables (e.g. $1 \\equiv x_{1}$). If the value is negative, it represents a negated variable (e.g. $-1 \\equiv \\neg x_{1}$). The values in demo_weights_array represent the weight of the clause at the same index in the demo_clauses_array: $(...)_{weight}$.\n",
    "\n",
    "Now that we have an array of clauses and an array of weights representing our problem instance, we can start implementing an algorithm to solve this problem. A known algorithm to solve this problem is the hillclimber algorithm, which we will be implementing in this notebook.\n",
    "\n",
    "## Algorithm Definition: Hillclimber\n",
    "\n",
    "For a given MAX-k-SAT problem instance, we start with a random variable assignment $y \\in \\{0, 1\\}^{n}$ and look for improvements (higher values) of $\\varphi$ in the set of all bitstrings that differ from $y$ in at most $d$ bits. All bitstrings that differ from our current solution $y$ in at most $d$ bits are collectively called the neighbourhood $N_{d}(y)$ of $y$.\n",
    "\n",
    "### Simple Hillclimber\n",
    "The simple hill climber randomly samples such assignments until it finds one with a strictly higher value of $\\varphi$, which is then taken as the new assignment.\n",
    "This procedure is repeated until no further improvement is found.\n",
    "We can formalize each hillclimber step (described above) as searching for a solution in\n",
    "$$f:N_{d}(y) \\subseteq \\{0,1\\}^{n} →\\{0,1\\}$$\n",
    "$$f(z) = \\begin{cases}1 ~~~~~\\text{if}~ \\varphi(z)>\\varphi(y)\\\\ 0 ~~~~~\\text{otherwise} \\end{cases}$$\n",
    "\n",
    "### Steep Hillclimber\n",
    "\n",
    "The steep hillclimber calculates the value of $\\varphi$ for every neighbour $z \\in N_{d}(y)$ of $y$. It then finds the neighbour with the highest value of $\\varphi$ and uses this as the new assignment:\n",
    "$$y_{new} = max_{z \\in N_{d}(y)}(\\varphi(z))$$\n",
    "This procedure is repeated until no further improvement is found. \n",
    "\n",
    "# Solving our problem instance\n",
    "\n",
    "As mentioned above, we can use a hillclimber algorithm to solve the MAX-k-SAT problem. For the purpose of simplicity within this notebook, we will be focussing on the steep hillclimber. Side note: This repository also contains a [hillclimber algorithm](https://github.com/qubrabench/qubrabench/blob/notebooks/examples/sat/bench_hillclimber.py), which uses a more advanced approach and has much better performance than our approach. However, as we are focussing on the functionality of qubrabench in this notebook, this more complex implementation will not be covered in more detail.\n",
    "\n",
    "## Implementing the steep hillclimber algorithm\n",
    "\n",
    "To solve a MAX-k-SAT problem instance, consisting of a set auf clauses $(C_{i})^{p}_{i=1}$ and a set of weights $(w_{i})^{p}_{i=1}$, we will implement a steep hillclimber algorithm. We start by importing two libraries we will need in the course of this implementation."
   ]
  },
  {
   "cell_type": "code",
   "execution_count": null,
   "metadata": {},
   "outputs": [],
   "source": [
    "import numpy as np"
   ]
  },
  {
   "cell_type": "markdown",
   "metadata": {},
   "source": [
    "We will assume, that $d=1$, which enables us to simplify some of our functions. This means, when we look at the neighbourhood of a given variable assignment $y$, we will always be looking at assignments $z\\in N_{1}(y)$, that differ from our current assignment in exactly one place."
   ]
  },
  {
   "cell_type": "markdown",
   "metadata": {},
   "source": [
    "To get our first variable assignment we implement a function, which randomly generates a sequence of zeros and ones. "
   ]
  },
  {
   "cell_type": "code",
   "execution_count": null,
   "metadata": {},
   "outputs": [
    {
     "name": "stdout",
     "output_type": "stream",
     "text": [
      "Random assignment: [0, 0, 1, 1], which means:\n",
      "x1 = 0\n",
      "x2 = 0\n",
      "x3 = 1\n",
      "x4 = 1\n"
     ]
    }
   ],
   "source": [
    "def generate_random_assignment(variable_count):\n",
    "    return [np.random.randint(0, 2) for _ in range(variable_count)]\n",
    "\n",
    "\n",
    "random_assignment = generate_random_assignment(var_count)\n",
    "print(\"Random assignment: \" + str(random_assignment) + \", which means:\")\n",
    "\n",
    "for i in range(len(random_assignment)):\n",
    "    print(\"x\" + str(i + 1) + \" = \" + str(random_assignment[i]))"
   ]
  },
  {
   "cell_type": "markdown",
   "metadata": {},
   "source": [
    "Such a sequence represents a random variable assignment $y$ for our problem instance. Once we have this variable assignment, we are able to calculate the weight of the clause for the given assignment.\n",
    "$$\\varphi(y) := \\sum ^{p} _{i=1} w_{i}C_{i}(y),$$"
   ]
  },
  {
   "cell_type": "code",
   "execution_count": null,
   "metadata": {},
   "outputs": [
    {
     "name": "stdout",
     "output_type": "stream",
     "text": [
      "Current weight: 4\n"
     ]
    }
   ],
   "source": [
    "def calculate_weight_for_solution(solution, clauses_array, weights_array):\n",
    "    weight = 0\n",
    "    for i in range(len(clauses_array)):\n",
    "        for value in clauses_array[i]:\n",
    "            if value > 0:\n",
    "                if solution[value - 1] == 1:\n",
    "                    weight += weights_array[i]\n",
    "                    break\n",
    "            elif value < 0:\n",
    "                if solution[abs(value) - 1] == 0:\n",
    "                    weight += weights_array[i]\n",
    "                    break\n",
    "    return weight\n",
    "\n",
    "\n",
    "current_weight = calculate_weight_for_solution(\n",
    "    random_assignment, demo_clauses_array, demo_weights_array\n",
    ")\n",
    "print(\"Current weight: \" + str(current_weight))"
   ]
  },
  {
   "cell_type": "markdown",
   "metadata": {},
   "source": [
    "We now have a starting point to run our algorithm. Because we chose a random variable assignment, we can not be sure, that we have an optimal solution to our problem. We therefor take a look at the neighbourhood of our random assignment, to check if there is an assignment with an even better weight then the current one."
   ]
  },
  {
   "cell_type": "code",
   "execution_count": null,
   "metadata": {},
   "outputs": [
    {
     "name": "stdout",
     "output_type": "stream",
     "text": [
      "[0, 0, 1, 1]\n",
      "[(0, 0, 0, 1), (0, 0, 1, 0), (0, 1, 1, 1), (1, 0, 1, 1)]\n"
     ]
    }
   ],
   "source": [
    "def get_neighbours(array):\n",
    "    arrays = set()\n",
    "    for i in range(len(array)):\n",
    "        new_array = list(array)\n",
    "        new_array[i] = 1 if array[i] == 0 else 0\n",
    "        arrays.add(tuple(new_array))\n",
    "    arrays.discard(tuple(array))\n",
    "    return list(arrays)\n",
    "\n",
    "\n",
    "get_neighbours(random_assignment)\n",
    "print(random_assignment)\n",
    "print(get_neighbours(random_assignment))"
   ]
  },
  {
   "cell_type": "markdown",
   "metadata": {},
   "source": [
    "For each of these neighbours we need to calculate the weight the clause has with this solution. We then compute the maximum for all weights and return the neighbour with the highest weight."
   ]
  },
  {
   "cell_type": "code",
   "execution_count": null,
   "metadata": {},
   "outputs": [
    {
     "name": "stdout",
     "output_type": "stream",
     "text": [
      "Highest weight: 9\n",
      "Highest solution: (0, 0, 1, 0)\n"
     ]
    }
   ],
   "source": [
    "def find_better_assignment(solution, weight, clauses_array, weights_array, stats=None):\n",
    "    neighbours = get_neighbours(solution)\n",
    "    neighbour_weights = []\n",
    "    for neighbour in neighbours:\n",
    "        neighbour_weights.append(\n",
    "            (\n",
    "                neighbour,\n",
    "                calculate_weight_for_solution(neighbour, clauses_array, weights_array),\n",
    "            )\n",
    "        )\n",
    "    return max(neighbour_weights, default=solution, key=lambda x: x[1])\n",
    "\n",
    "\n",
    "highest_solution, highest_weight = find_better_assignment(\n",
    "    random_assignment, current_weight, demo_clauses_array, demo_weights_array\n",
    ")\n",
    "\n",
    "print(\"Highest weight: \" + str(highest_weight))\n",
    "print(\"Highest solution: \" + str(highest_solution))"
   ]
  },
  {
   "cell_type": "markdown",
   "metadata": {},
   "source": [
    "We then pick the neighbour with the highest weight, and if this weight is bigger than the current weight, we will use this solution and repeat this process until there is no more improvement. The optimal weight for a given assignment in this case is 9."
   ]
  },
  {
   "cell_type": "markdown",
   "metadata": {},
   "source": [
    "These steps we went through now form our hillclimber algorithm, which runs through this cycle multiple times."
   ]
  },
  {
   "cell_type": "code",
   "execution_count": null,
   "metadata": {},
   "outputs": [
    {
     "name": "stdout",
     "output_type": "stream",
     "text": [
      "Starting with assignment: [0, 0, 0, 1]\n",
      "Current weight: 4\n",
      "\n",
      "(0, 1, 0, 1)\n",
      "Found better weight: 9\n",
      "\n",
      "No better weight found.\n",
      "\n",
      "Completed. Optimal assignment: (0, 1, 0, 0). Weight: 9.\n"
     ]
    }
   ],
   "source": [
    "def print_v(string, verbose=True):\n",
    "    if verbose:\n",
    "        print(string)\n",
    "\n",
    "\n",
    "def hill_climber_sat(\n",
    "    clauses_array,\n",
    "    weights_array,\n",
    "    variable_count,\n",
    "    set_solution=None,\n",
    "    stats=None,\n",
    "    verbose=True,\n",
    "):\n",
    "    # Example assignment, chosen to be able to demonstrate multiple steps\n",
    "    current_solution = set_solution\n",
    "    if set_solution is None:\n",
    "        current_solution = generate_random_assignment(variable_count)\n",
    "\n",
    "    print_v(\"Starting with assignment: \" + str(current_solution), verbose)\n",
    "    print_v(\n",
    "        \"Current weight: \"\n",
    "        + str(\n",
    "            calculate_weight_for_solution(\n",
    "                current_solution, clauses_array, weights_array\n",
    "            )\n",
    "        )\n",
    "        + \"\\n\",\n",
    "        verbose,\n",
    "    )\n",
    "\n",
    "    while True:\n",
    "        weight = calculate_weight_for_solution(\n",
    "            current_solution, clauses_array, weights_array\n",
    "        )\n",
    "        better_solution, better_weight = find_better_assignment(\n",
    "            current_solution, weight, clauses_array, weights_array, stats\n",
    "        )\n",
    "        if weight < better_weight:\n",
    "            current_solution = better_solution\n",
    "            weight = better_weight\n",
    "            print_v(current_solution, verbose)\n",
    "            print_v(\"Found better weight: \" + str(weight) + \"\\n\", verbose)\n",
    "        else:\n",
    "            print_v(\"No better weight found.\" + \"\\n\", verbose)\n",
    "            print_v(\n",
    "                \"Completed. Optimal assignment: \"\n",
    "                + str(better_solution)\n",
    "                + \". Weight: \"\n",
    "                + str(better_weight)\n",
    "                + \".\",\n",
    "                verbose,\n",
    "            )\n",
    "            return\n",
    "\n",
    "\n",
    "hill_climber_sat(demo_clauses_array, demo_weights_array, 4, set_solution=[0, 0, 0, 1])"
   ]
  },
  {
   "cell_type": "markdown",
   "metadata": {},
   "source": [
    "\n",
    "## Spottig a pattern: Max\n",
    "\n",
    "If we take another look at this approach, we will notice, that we calculate the maximum value of a set of numbers within the find_better_assignment function. In this case the maximum weight amongst the weights of all neighbours using the Python max function. \n",
    "\n",
    "As it happens there is also a very well known max function, which runs on quantum computers, as described in the paper mentioned in the introduction. With this in mind, the question naturally occurs, what would happen if we ran the computation of max on a quantum machine using this quantum max function and if this would have any performance improvements.\n",
    "\n",
    "This library offers a function, which enables a user to simulate doing exactly this and to keep track of runtime stats and approximations for quantum call counts, if the quantum max function was used and run on a quantum machine.\n",
    "\n",
    "## Max Function\n",
    "\n",
    "The library includes a set of common functions you would need in various circumstances, for example the search and the max function. These return the result you would expect from other implementations of these functions, and at the same time add in quantum benchmarking functionality. This simultaneously makes it easier to understand the use-cases of the library and makes it relatively easy to adapt existing code to use quantum benchmarking.\n",
    "\n",
    "When we talk about quantum benchmarking here, we mean approximating the amount of calls needed to execute the function with identical parameters on a quantum computer. This library achieves this by counting the calls run on the classical (in this case most likely your) machine and basing performance assumptions on these measurements. All provided functions in qubrabench currently require a stats object, in which these collected statistics and approximations are stored.\n",
    "\n",
    "Let's take a look at the docstrings of the function we will need to solve our problem - max."
   ]
  },
  {
   "cell_type": "code",
   "execution_count": null,
   "metadata": {},
   "outputs": [
    {
     "data": {
      "text/plain": [
       "\u001B[0;31mClass docstring:\u001B[0m\n",
       "    Find the largest element in a list, while keeping track of query statistics.\n",
       "    \n",
       "    Args:\n",
       "        iterable: iterable to find the maximum in\n",
       "        default: default value to return if iterable is empty.\n",
       "        key: function that maps iterable elements to values that are comparable. By default, use the iterable elements.\n",
       "        error: upper bound on the failure probability of the quantum algorithm.\n",
       "        stats: object that keeps track of statistics.\n",
       "    \n",
       "    Raises:\n",
       "        ValueError: Raised when the failure rate `error` is not provided and statistics cannot be calculated.\n",
       "        ValueError: Raised when iterable is an empty sequence and no default is provided.\n",
       "    \n",
       "    Returns:\n",
       "        the desired maximum element\n",
       "\u001B[0;31mCall docstring:\u001B[0m\n",
       "    Call self as a function."
      ]
     },
     "metadata": {},
     "output_type": "display_data"
    }
   ],
   "source": [
    "from qubrabench.algorithms.max import max as qmax\n",
    "\n",
    "%pdoc qmax"
   ]
  },
  {
   "cell_type": "markdown",
   "metadata": {},
   "source": [
    "As you will notice, the arguments for this max function are very similar to the Python max function. Indeed, one could run this function instead of max with the same parameters and would still get the wanted functionality. However, it is also possible to supply this function with two additional arguments - error and stats - which enables us to keep track of the calculated statistics.\n",
    "\n",
    "To demonstrate this, we will rewrite the find_better_assignment function from above to use the qubrabench max function. This is simply done by importing this function with the name max. We also create a stats object as provided by qubrabench and pass this to the max function together with a value for the error argument. Now we can run the same hill_climber_sat function we defined above and take a look at the stats object after it ran using the redefined find_better_assignment function."
   ]
  },
  {
   "cell_type": "code",
   "execution_count": null,
   "metadata": {},
   "outputs": [
    {
     "name": "stdout",
     "output_type": "stream",
     "text": [
      "Starting with assignment: [1, 0, 0, 1]\n",
      "Current weight: 9\n",
      "\n",
      "No better weight found.\n",
      "\n",
      "Completed. Optimal assignment: (1, 0, 0, 0). Weight: 9.\n",
      "\n",
      "Classical Actual Queries: 4\n",
      "Expected Quantum Queries: 72.72980000000001\n"
     ]
    }
   ],
   "source": [
    "from qubrabench.algorithms.max import max\n",
    "from qubrabench.stats import QueryStats\n",
    "\n",
    "stats = QueryStats()\n",
    "\n",
    "\n",
    "def find_better_assignment(solution, weight, clauses_array, weights_array, stats=None):\n",
    "    neighbours = get_neighbours(solution)\n",
    "    neighbour_weights = []\n",
    "    for neighbour in neighbours:\n",
    "        neighbour_weights.append(\n",
    "            (\n",
    "                neighbour,\n",
    "                calculate_weight_for_solution(neighbour, clauses_array, weights_array),\n",
    "            )\n",
    "        )\n",
    "    return max(\n",
    "        neighbour_weights,\n",
    "        default=solution,\n",
    "        key=lambda x: x[1],  # up to here we have changed nothing\n",
    "        error=10**-5,  # these two arguments are the only additions we will make\n",
    "        stats=stats,\n",
    "    )\n",
    "\n",
    "\n",
    "hill_climber_sat(demo_clauses_array, demo_weights_array, 4, stats=stats)\n",
    "\n",
    "print(\"\\nClassical Actual Queries: \" + str(stats.classical_actual_queries))\n",
    "print(\"Expected Quantum Queries: \" + str(stats.quantum_expected_quantum_queries))"
   ]
  },
  {
   "cell_type": "markdown",
   "metadata": {},
   "source": [
    "As you can see in this example, the effort to implement the qubrabench max function was very minimal and hardly invasive in our code. At the same time, it enabled us to gain valuable insight into our query statistics regarding the use of a quantum algorithm. As we can see, using the quantum max algorithm would worsen our runtime for this small problem instance. However, there are cases in which there are expected benefits for the runtime. These only occur in very large problem instances, which would take very long to run with our hillclimber implementation.\n",
    "\n",
    "In the following section we will be running the hillclimber provided in this library, because it runs much faster for larger problem instances. This will nonetheless be sufficient to demonstrate how these benchmarking results may look."
   ]
  },
  {
   "cell_type": "markdown",
   "metadata": {},
   "source": [
    "## Advanced Benchmarking\n",
    "\n",
    "The imported `run` function executes the hillclimber on a random instance and returns the statistics in a pandas DataFrame."
   ]
  },
  {
   "cell_type": "code",
   "execution_count": null,
   "metadata": {},
   "outputs": [
    {
     "data": {
      "text/html": [
       "<div>\n",
       "<style scoped>\n",
       "    .dataframe tbody tr th:only-of-type {\n",
       "        vertical-align: middle;\n",
       "    }\n",
       "\n",
       "    .dataframe tbody tr th {\n",
       "        vertical-align: top;\n",
       "    }\n",
       "\n",
       "    .dataframe thead th {\n",
       "        text-align: right;\n",
       "    }\n",
       "</style>\n",
       "<table border=\"1\" class=\"dataframe\">\n",
       "  <thead>\n",
       "    <tr style=\"text-align: right;\">\n",
       "      <th></th>\n",
       "      <th>classical_control_method_calls</th>\n",
       "      <th>classical_actual_queries</th>\n",
       "      <th>classical_expected_queries</th>\n",
       "      <th>quantum_expected_classical_queries</th>\n",
       "      <th>quantum_expected_quantum_queries</th>\n",
       "      <th>n</th>\n",
       "      <th>r</th>\n",
       "      <th>k</th>\n",
       "    </tr>\n",
       "  </thead>\n",
       "  <tbody>\n",
       "    <tr>\n",
       "      <th>0</th>\n",
       "      <td>0</td>\n",
       "      <td>20</td>\n",
       "      <td>20</td>\n",
       "      <td>0</td>\n",
       "      <td>496.361339</td>\n",
       "      <td>10</td>\n",
       "      <td>3</td>\n",
       "      <td>3</td>\n",
       "    </tr>\n",
       "  </tbody>\n",
       "</table>\n",
       "</div>"
      ],
      "text/plain": [
       "   classical_control_method_calls  classical_actual_queries  \\\n",
       "0                               0                        20   \n",
       "\n",
       "   classical_expected_queries  quantum_expected_classical_queries  \\\n",
       "0                          20                                   0   \n",
       "\n",
       "   quantum_expected_quantum_queries   n  r  k  \n",
       "0                        496.361339  10  3  3  "
      ]
     },
     "execution_count": null,
     "metadata": {},
     "output_type": "execute_result"
    }
   ],
   "source": [
    "import pandas as pd\n",
    "from typing import Optional\n",
    "from dataclasses import asdict\n",
    "import logging\n",
    "\n",
    "\n",
    "def run(\n",
    "    k: int,\n",
    "    n: int,\n",
    "    r: int = 3,\n",
    "    *,\n",
    "    n_runs: int,\n",
    "    rng: np.random.Generator,\n",
    "    error: Optional[float] = None,\n",
    "    steep: bool = False,\n",
    ") -> pd.DataFrame:\n",
    "    assert n_runs >= 1\n",
    "    assert 3 <= r <= 6\n",
    "\n",
    "    clause_count = n * r\n",
    "\n",
    "    history = []\n",
    "    for run_ix in range(n_runs):\n",
    "        logging.debug(f\"k={k}, r={r}, n={n}, steep={steep}, #{run_ix}\")\n",
    "\n",
    "        # run hill climber on random instance\n",
    "        stats = QueryStats()\n",
    "\n",
    "        # Generate random problem instance\n",
    "        # First generate clause_count clauses\n",
    "        inst = [\n",
    "            [\n",
    "                # In each clause randomly negate the generated literals, which are in [0, n-1]\n",
    "                (1 if np.random.random() < 0.5 else -1) * np.random.randint(0, n)\n",
    "                # Generate k literals per clause\n",
    "                for _ in range(k)\n",
    "            ]\n",
    "            for _ in range(clause_count)\n",
    "        ]\n",
    "        weights = [np.random.randint(1, 21) for _ in range(clause_count)]\n",
    "        hill_climber_sat(inst, weights, n, stats=stats, verbose=False)\n",
    "\n",
    "        # save record to history\n",
    "        rec = asdict(stats)\n",
    "        rec[\"n\"] = n\n",
    "        rec[\"r\"] = r\n",
    "        rec[\"k\"] = k\n",
    "        history.append(rec)\n",
    "\n",
    "    # return pandas dataframe\n",
    "    df = pd.DataFrame(\n",
    "        [list(row.values()) for row in history], columns=list(history[0].keys())\n",
    "    )\n",
    "    return df\n",
    "\n",
    "\n",
    "run(3, 10, 3, n_runs=1, rng=np.random.default_rng(seed=100))"
   ]
  },
  {
   "cell_type": "markdown",
   "metadata": {},
   "source": [
    "With this function, we can run the hillclimber multiple times and then compute the average of the results.\n",
    "\n",
    "Let's run the steep hill climber for $n = 100$, $n = 300$ and $n=500$. We will run the hill climber five times for each $n$ and consistently use $k = 3$."
   ]
  },
  {
   "cell_type": "code",
   "execution_count": null,
   "metadata": {},
   "outputs": [
    {
     "name": "stdout",
     "output_type": "stream",
     "text": [
      "CPU times: user 1.07 s, sys: 5.74 ms, total: 1.08 s\n",
      "Wall time: 1.08 s\n"
     ]
    },
    {
     "data": {
      "text/html": [
       "<div>\n",
       "<style scoped>\n",
       "    .dataframe tbody tr th:only-of-type {\n",
       "        vertical-align: middle;\n",
       "    }\n",
       "\n",
       "    .dataframe tbody tr th {\n",
       "        vertical-align: top;\n",
       "    }\n",
       "\n",
       "    .dataframe thead th {\n",
       "        text-align: right;\n",
       "    }\n",
       "</style>\n",
       "<table border=\"1\" class=\"dataframe\">\n",
       "  <thead>\n",
       "    <tr style=\"text-align: right;\">\n",
       "      <th></th>\n",
       "      <th>classical_control_method_calls</th>\n",
       "      <th>classical_actual_queries</th>\n",
       "      <th>classical_expected_queries</th>\n",
       "      <th>quantum_expected_classical_queries</th>\n",
       "      <th>quantum_expected_quantum_queries</th>\n",
       "      <th>n</th>\n",
       "      <th>r</th>\n",
       "      <th>k</th>\n",
       "    </tr>\n",
       "  </thead>\n",
       "  <tbody>\n",
       "    <tr>\n",
       "      <th>0</th>\n",
       "      <td>0</td>\n",
       "      <td>2200</td>\n",
       "      <td>2200</td>\n",
       "      <td>0</td>\n",
       "      <td>30917.409982</td>\n",
       "      <td>100</td>\n",
       "      <td>3</td>\n",
       "      <td>3</td>\n",
       "    </tr>\n",
       "    <tr>\n",
       "      <th>1</th>\n",
       "      <td>0</td>\n",
       "      <td>2300</td>\n",
       "      <td>2300</td>\n",
       "      <td>0</td>\n",
       "      <td>32322.746800</td>\n",
       "      <td>100</td>\n",
       "      <td>3</td>\n",
       "      <td>3</td>\n",
       "    </tr>\n",
       "    <tr>\n",
       "      <th>2</th>\n",
       "      <td>0</td>\n",
       "      <td>2300</td>\n",
       "      <td>2300</td>\n",
       "      <td>0</td>\n",
       "      <td>32322.746800</td>\n",
       "      <td>100</td>\n",
       "      <td>3</td>\n",
       "      <td>3</td>\n",
       "    </tr>\n",
       "    <tr>\n",
       "      <th>3</th>\n",
       "      <td>0</td>\n",
       "      <td>2800</td>\n",
       "      <td>2800</td>\n",
       "      <td>0</td>\n",
       "      <td>39349.430886</td>\n",
       "      <td>100</td>\n",
       "      <td>3</td>\n",
       "      <td>3</td>\n",
       "    </tr>\n",
       "    <tr>\n",
       "      <th>4</th>\n",
       "      <td>0</td>\n",
       "      <td>2400</td>\n",
       "      <td>2400</td>\n",
       "      <td>0</td>\n",
       "      <td>33728.083617</td>\n",
       "      <td>100</td>\n",
       "      <td>3</td>\n",
       "      <td>3</td>\n",
       "    </tr>\n",
       "  </tbody>\n",
       "</table>\n",
       "</div>"
      ],
      "text/plain": [
       "   classical_control_method_calls  classical_actual_queries  \\\n",
       "0                               0                      2200   \n",
       "1                               0                      2300   \n",
       "2                               0                      2300   \n",
       "3                               0                      2800   \n",
       "4                               0                      2400   \n",
       "\n",
       "   classical_expected_queries  quantum_expected_classical_queries  \\\n",
       "0                        2200                                   0   \n",
       "1                        2300                                   0   \n",
       "2                        2300                                   0   \n",
       "3                        2800                                   0   \n",
       "4                        2400                                   0   \n",
       "\n",
       "   quantum_expected_quantum_queries    n  r  k  \n",
       "0                      30917.409982  100  3  3  \n",
       "1                      32322.746800  100  3  3  \n",
       "2                      32322.746800  100  3  3  \n",
       "3                      39349.430886  100  3  3  \n",
       "4                      33728.083617  100  3  3  "
      ]
     },
     "execution_count": null,
     "metadata": {},
     "output_type": "execute_result"
    }
   ],
   "source": [
    "%%time\n",
    "data_100 = run(\n",
    "    k=3,\n",
    "    r=3,\n",
    "    n=100,\n",
    "    n_runs=5,\n",
    "    rng=np.random.default_rng(seed=100),\n",
    "    error=10**-5,\n",
    "    steep=True,\n",
    ")\n",
    "data_100"
   ]
  },
  {
   "cell_type": "code",
   "execution_count": null,
   "metadata": {},
   "outputs": [
    {
     "name": "stdout",
     "output_type": "stream",
     "text": [
      "CPU times: user 26.4 s, sys: 32.1 ms, total: 26.4 s\n",
      "Wall time: 26.5 s\n"
     ]
    },
    {
     "data": {
      "text/html": [
       "<div>\n",
       "<style scoped>\n",
       "    .dataframe tbody tr th:only-of-type {\n",
       "        vertical-align: middle;\n",
       "    }\n",
       "\n",
       "    .dataframe tbody tr th {\n",
       "        vertical-align: top;\n",
       "    }\n",
       "\n",
       "    .dataframe thead th {\n",
       "        text-align: right;\n",
       "    }\n",
       "</style>\n",
       "<table border=\"1\" class=\"dataframe\">\n",
       "  <thead>\n",
       "    <tr style=\"text-align: right;\">\n",
       "      <th></th>\n",
       "      <th>classical_control_method_calls</th>\n",
       "      <th>classical_actual_queries</th>\n",
       "      <th>classical_expected_queries</th>\n",
       "      <th>quantum_expected_classical_queries</th>\n",
       "      <th>quantum_expected_quantum_queries</th>\n",
       "      <th>n</th>\n",
       "      <th>r</th>\n",
       "      <th>k</th>\n",
       "    </tr>\n",
       "  </thead>\n",
       "  <tbody>\n",
       "    <tr>\n",
       "      <th>0</th>\n",
       "      <td>0</td>\n",
       "      <td>17700</td>\n",
       "      <td>17700</td>\n",
       "      <td>0</td>\n",
       "      <td>157137.184530</td>\n",
       "      <td>300</td>\n",
       "      <td>3</td>\n",
       "      <td>3</td>\n",
       "    </tr>\n",
       "    <tr>\n",
       "      <th>1</th>\n",
       "      <td>0</td>\n",
       "      <td>20100</td>\n",
       "      <td>20100</td>\n",
       "      <td>0</td>\n",
       "      <td>178443.921415</td>\n",
       "      <td>300</td>\n",
       "      <td>3</td>\n",
       "      <td>3</td>\n",
       "    </tr>\n",
       "    <tr>\n",
       "      <th>2</th>\n",
       "      <td>0</td>\n",
       "      <td>21300</td>\n",
       "      <td>21300</td>\n",
       "      <td>0</td>\n",
       "      <td>189097.289858</td>\n",
       "      <td>300</td>\n",
       "      <td>3</td>\n",
       "      <td>3</td>\n",
       "    </tr>\n",
       "    <tr>\n",
       "      <th>3</th>\n",
       "      <td>0</td>\n",
       "      <td>20400</td>\n",
       "      <td>20400</td>\n",
       "      <td>0</td>\n",
       "      <td>181107.263526</td>\n",
       "      <td>300</td>\n",
       "      <td>3</td>\n",
       "      <td>3</td>\n",
       "    </tr>\n",
       "    <tr>\n",
       "      <th>4</th>\n",
       "      <td>0</td>\n",
       "      <td>20400</td>\n",
       "      <td>20400</td>\n",
       "      <td>0</td>\n",
       "      <td>181107.263526</td>\n",
       "      <td>300</td>\n",
       "      <td>3</td>\n",
       "      <td>3</td>\n",
       "    </tr>\n",
       "  </tbody>\n",
       "</table>\n",
       "</div>"
      ],
      "text/plain": [
       "   classical_control_method_calls  classical_actual_queries  \\\n",
       "0                               0                     17700   \n",
       "1                               0                     20100   \n",
       "2                               0                     21300   \n",
       "3                               0                     20400   \n",
       "4                               0                     20400   \n",
       "\n",
       "   classical_expected_queries  quantum_expected_classical_queries  \\\n",
       "0                       17700                                   0   \n",
       "1                       20100                                   0   \n",
       "2                       21300                                   0   \n",
       "3                       20400                                   0   \n",
       "4                       20400                                   0   \n",
       "\n",
       "   quantum_expected_quantum_queries    n  r  k  \n",
       "0                     157137.184530  300  3  3  \n",
       "1                     178443.921415  300  3  3  \n",
       "2                     189097.289858  300  3  3  \n",
       "3                     181107.263526  300  3  3  \n",
       "4                     181107.263526  300  3  3  "
      ]
     },
     "execution_count": null,
     "metadata": {},
     "output_type": "execute_result"
    }
   ],
   "source": [
    "%%time\n",
    "data_300 = run(\n",
    "    k=3,\n",
    "    r=3,\n",
    "    n=300,\n",
    "    n_runs=5,\n",
    "    rng=np.random.default_rng(seed=100),\n",
    "    error=10**-5,\n",
    "    steep=True,\n",
    ")\n",
    "data_300"
   ]
  },
  {
   "cell_type": "code",
   "execution_count": null,
   "metadata": {},
   "outputs": [
    {
     "name": "stdout",
     "output_type": "stream",
     "text": [
      "CPU times: user 2min 11s, sys: 154 ms, total: 2min 11s\n",
      "Wall time: 2min 12s\n"
     ]
    },
    {
     "data": {
      "text/html": [
       "<div>\n",
       "<style scoped>\n",
       "    .dataframe tbody tr th:only-of-type {\n",
       "        vertical-align: middle;\n",
       "    }\n",
       "\n",
       "    .dataframe tbody tr th {\n",
       "        vertical-align: top;\n",
       "    }\n",
       "\n",
       "    .dataframe thead th {\n",
       "        text-align: right;\n",
       "    }\n",
       "</style>\n",
       "<table border=\"1\" class=\"dataframe\">\n",
       "  <thead>\n",
       "    <tr style=\"text-align: right;\">\n",
       "      <th></th>\n",
       "      <th>classical_control_method_calls</th>\n",
       "      <th>classical_actual_queries</th>\n",
       "      <th>classical_expected_queries</th>\n",
       "      <th>quantum_expected_classical_queries</th>\n",
       "      <th>quantum_expected_quantum_queries</th>\n",
       "      <th>n</th>\n",
       "      <th>r</th>\n",
       "      <th>k</th>\n",
       "    </tr>\n",
       "  </thead>\n",
       "  <tbody>\n",
       "    <tr>\n",
       "      <th>0</th>\n",
       "      <td>0</td>\n",
       "      <td>53000</td>\n",
       "      <td>53000</td>\n",
       "      <td>0</td>\n",
       "      <td>374175.243943</td>\n",
       "      <td>500</td>\n",
       "      <td>3</td>\n",
       "      <td>3</td>\n",
       "    </tr>\n",
       "    <tr>\n",
       "      <th>1</th>\n",
       "      <td>0</td>\n",
       "      <td>59000</td>\n",
       "      <td>59000</td>\n",
       "      <td>0</td>\n",
       "      <td>416534.705521</td>\n",
       "      <td>500</td>\n",
       "      <td>3</td>\n",
       "      <td>3</td>\n",
       "    </tr>\n",
       "    <tr>\n",
       "      <th>2</th>\n",
       "      <td>0</td>\n",
       "      <td>57000</td>\n",
       "      <td>57000</td>\n",
       "      <td>0</td>\n",
       "      <td>402414.884995</td>\n",
       "      <td>500</td>\n",
       "      <td>3</td>\n",
       "      <td>3</td>\n",
       "    </tr>\n",
       "    <tr>\n",
       "      <th>3</th>\n",
       "      <td>0</td>\n",
       "      <td>56500</td>\n",
       "      <td>56500</td>\n",
       "      <td>0</td>\n",
       "      <td>398884.929863</td>\n",
       "      <td>500</td>\n",
       "      <td>3</td>\n",
       "      <td>3</td>\n",
       "    </tr>\n",
       "    <tr>\n",
       "      <th>4</th>\n",
       "      <td>0</td>\n",
       "      <td>60500</td>\n",
       "      <td>60500</td>\n",
       "      <td>0</td>\n",
       "      <td>427124.570916</td>\n",
       "      <td>500</td>\n",
       "      <td>3</td>\n",
       "      <td>3</td>\n",
       "    </tr>\n",
       "  </tbody>\n",
       "</table>\n",
       "</div>"
      ],
      "text/plain": [
       "   classical_control_method_calls  classical_actual_queries  \\\n",
       "0                               0                     53000   \n",
       "1                               0                     59000   \n",
       "2                               0                     57000   \n",
       "3                               0                     56500   \n",
       "4                               0                     60500   \n",
       "\n",
       "   classical_expected_queries  quantum_expected_classical_queries  \\\n",
       "0                       53000                                   0   \n",
       "1                       59000                                   0   \n",
       "2                       57000                                   0   \n",
       "3                       56500                                   0   \n",
       "4                       60500                                   0   \n",
       "\n",
       "   quantum_expected_quantum_queries    n  r  k  \n",
       "0                     374175.243943  500  3  3  \n",
       "1                     416534.705521  500  3  3  \n",
       "2                     402414.884995  500  3  3  \n",
       "3                     398884.929863  500  3  3  \n",
       "4                     427124.570916  500  3  3  "
      ]
     },
     "execution_count": null,
     "metadata": {},
     "output_type": "execute_result"
    }
   ],
   "source": [
    "%%time\n",
    "data_500 = run(\n",
    "    k=3,\n",
    "    r=3,\n",
    "    n=500,\n",
    "    n_runs=5,\n",
    "    rng=np.random.default_rng(seed=100),\n",
    "    error=10**-5,\n",
    "    steep=True,\n",
    ")\n",
    "data_500"
   ]
  },
  {
   "cell_type": "markdown",
   "metadata": {},
   "source": [
    "As you can see in the resulting tables, for problem instances with $n<=500$ we can still achieve no performance improvement in using the quantum max algorithm. However, this would change at some point with $n>10^5$. The exact point for the steep hillclimber has not been calculated in the paper and it would take quite a while to do so, however for the simple hillclimber we see performance benefits around $n=10^4$. \n",
    "\n",
    "The values mentioned above are gained from the plots provided in the paper (page 28). Plots are a good way to visualize this kind of data, which is why qubrabench provides some functionality, which is supposed to make plotting these results easier. "
   ]
  },
  {
   "cell_type": "markdown",
   "metadata": {},
   "source": [
    "## Plotting\n",
    "After we have benchmarked the solving of a couple of our problem instances, we can take a look at the plotting functionality qubrabench provides. We use the `PlottingStrategy` wrapper to define our plot parameters and configuration."
   ]
  },
  {
   "cell_type": "code",
   "execution_count": null,
   "metadata": {},
   "outputs": [],
   "source": [
    "from qubrabench.utils.plotting_strategy import PlottingStrategy\n",
    "\n",
    "\n",
    "class Plotter(PlottingStrategy):\n",
    "    def __init__(self):\n",
    "        # TODO: explain\n",
    "        self.colors[\"\"] = \"blue\"\n",
    "\n",
    "    def get_plot_group_column_names(self):\n",
    "        return [\"k\", \"r\"]\n",
    "\n",
    "    def get_data_group_column_names(self):\n",
    "        \"\"\"\n",
    "        Generate a data line for each unique value in the specified columns.\n",
    "        Useful if you the data was generated with different tags based on implementation source, parameter choice etc., that one wants to compare against in a single plot.\n",
    "\n",
    "        Example: [\"impl\"] - a line will be generated for each unique `impl` label.\n",
    "        \"\"\"\n",
    "        return []\n",
    "\n",
    "    def compute_aggregates(self, data, *, quantum_factor):\n",
    "        # compute combined query costs of quantum search\n",
    "        c = data[\"quantum_expected_classical_queries\"]\n",
    "        q = data[\"quantum_expected_quantum_queries\"]\n",
    "        data[\"quantum_cost\"] = c + quantum_factor * q\n",
    "        return data\n",
    "\n",
    "    def x_axis_column(self):\n",
    "        return \"n\"\n",
    "\n",
    "    def x_axis_label(self):\n",
    "        return \"$n$\"\n",
    "\n",
    "    def y_axis_label(self):\n",
    "        return \"Queries\"\n",
    "\n",
    "    def get_column_names_to_plot(self):\n",
    "        return {\n",
    "            \"classical_actual_queries\": (\"Classical Queries\", \"o\"),\n",
    "            \"quantum_cost\": (\"Quantum Queries\", \"x\"),\n",
    "        }"
   ]
  },
  {
   "cell_type": "markdown",
   "metadata": {},
   "source": [
    "We can put all the benchmark stats in a single table and run the plotter. "
   ]
  },
  {
   "cell_type": "code",
   "execution_count": null,
   "metadata": {},
   "outputs": [
    {
     "data": {
      "text/plain": [
       "\u001B[0;31mClass docstring:\u001B[0m\n",
       "    Plot benchmarking data.\n",
       "    \n",
       "    Args:\n",
       "        data: a pandas DataFrame containing all the benchmark data.\n",
       "        quantum_factor: conversion factor for the cost of a quantum query (w.r.t. classical queries).\n",
       "        y_lower_lim: lower limit on the Y-axis (useful if the data starts at a large value)\n",
       "    \n",
       "    Raises:\n",
       "        ValueError: if no columns are given to plot\n",
       "\u001B[0;31mCall docstring:\u001B[0m\n",
       "    Call self as a function."
      ]
     },
     "metadata": {},
     "output_type": "display_data"
    }
   ],
   "source": [
    "%pdoc Plotter.plot"
   ]
  },
  {
   "cell_type": "code",
   "execution_count": null,
   "metadata": {},
   "outputs": [
    {
     "data": {
      "image/png": "[encoded data removed]",
      "text/plain": [
       "<Figure size 640x480 with 1 Axes>"
      ]
     },
     "metadata": {},
     "output_type": "display_data"
    }
   ],
   "source": [
    "data = pd.concat([data_100, data_300, data_500])\n",
    "Plotter().plot(data, quantum_factor=2, y_lower_lim=10)"
   ]
  },
  {
   "cell_type": "markdown",
   "metadata": {},
   "source": [
    "Now we can also run the \"simple\" hillclimber for the above instance sizes, and compare the two benchmarks. We use the library function provided by qubrabench here, as we have not implemented the simple hillclimber here."
   ]
  },
  {
   "cell_type": "code",
   "execution_count": null,
   "metadata": {},
   "outputs": [],
   "source": [
    "from hillclimber import run as run_lib"
   ]
  },
  {
   "cell_type": "code",
   "execution_count": null,
   "metadata": {},
   "outputs": [
    {
     "name": "stdout",
     "output_type": "stream",
     "text": [
      "CPU times: user 32.2 s, sys: 15.5 s, total: 47.7 s\n",
      "Wall time: 6.11 s\n"
     ]
    }
   ],
   "source": [
    "%%time\n",
    "data_simple = [\n",
    "    run_lib(\n",
    "        k=3,\n",
    "        r=3,\n",
    "        n=n,\n",
    "        n_runs=5,\n",
    "        rng=np.random.default_rng(seed=100),\n",
    "        error=10**-5,\n",
    "        steep=False,\n",
    "    )\n",
    "    for n in [100, 300, 500]\n",
    "]\n",
    "data_simple = pd.concat(data_simple)"
   ]
  },
  {
   "cell_type": "code",
   "execution_count": null,
   "metadata": {},
   "outputs": [],
   "source": [
    "# add an extra column to distinguish the source (i.e. type of hillclimb)\n",
    "full_data = []\n",
    "for d, is_steep in [(data, True), (data_simple, False)]:\n",
    "    d = d.copy()\n",
    "    d.insert(0, \"steep\", is_steep)\n",
    "    full_data.append(d)\n",
    "full_data = pd.concat(full_data)"
   ]
  },
  {
   "cell_type": "markdown",
   "metadata": {},
   "source": [
    "We modify the above plotter a bit as we now want to group the data by column \"steep\" (in the same plot)."
   ]
  },
  {
   "cell_type": "code",
   "execution_count": null,
   "metadata": {},
   "outputs": [
    {
     "data": {
      "image/png": "[encoded data removed]",
      "text/plain": [
       "<Figure size 640x480 with 1 Axes>"
      ]
     },
     "metadata": {},
     "output_type": "display_data"
    }
   ],
   "source": [
    "class FullPlotter(Plotter):\n",
    "    def __init__(self):\n",
    "        self.colors[\"steep = False\"] = \"red\"\n",
    "        self.colors[\"steep = True\"] = \"blue\"\n",
    "\n",
    "    def get_data_group_column_names(self):\n",
    "        return [\"steep\"]\n",
    "\n",
    "\n",
    "FullPlotter().plot(full_data, quantum_factor=2, y_lower_lim=10)"
   ]
  },
  {
   "cell_type": "markdown",
   "metadata": {},
   "source": [
    "As we can see here, we need less queries for the simple hillclimber for our problem instances. The simple hillclimber also shows more apparent possibilities for performance improvements through quantum algorithms, specifically Grover search in that case. This can be seen even more clearly in the plots provided in this paper on page 28: https://arxiv.org/abs/2203.04975"
   ]
  }
 ],
 "metadata": {
  "kernelspec": {
   "display_name": "python3",
   "language": "python",
   "name": "python3"
  }
 },
 "nbformat": 4,
 "nbformat_minor": 4
}
