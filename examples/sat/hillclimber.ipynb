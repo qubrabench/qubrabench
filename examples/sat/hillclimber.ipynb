{
 "cells": [
  {
   "cell_type": "code",
   "execution_count": null,
   "metadata": {},
   "outputs": [
    {
     "data": {
      "text/html": [
       "\n",
       "                <script type=\"application/javascript\" id=\"jupyter_black\">\n",
       "                (function() {\n",
       "                    if (window.IPython === undefined) {\n",
       "                        return\n",
       "                    }\n",
       "                    var msg = \"WARNING: it looks like you might have loaded \" +\n",
       "                        \"jupyter_black in a non-lab notebook with \" +\n",
       "                        \"`is_lab=True`. Please double check, and if \" +\n",
       "                        \"loading with `%load_ext` please review the README!\"\n",
       "                    console.log(msg)\n",
       "                    alert(msg)\n",
       "                })()\n",
       "                </script>\n",
       "                "
      ],
      "text/plain": [
       "<IPython.core.display.HTML object>"
      ]
     },
     "metadata": {},
     "output_type": "display_data"
    }
   ],
   "source": [
    "%load_ext jupyter_black"
   ]
  },
  {
   "cell_type": "markdown",
   "metadata": {},
   "source": [
    "# Benchmarking an algorithm for MAX-k-SAT\n",
    "\n",
    "We showcase qubrabench by implementing and benchmarking a hillclimbing algorithm for MAX-k-SAT, described in https://arxiv.org/abs/2203.04975.\n",
    "The paper describes two variants: a normal hillclimber - which uses (quantum) search, and a steep one - which use (quantum) max finding.\n",
    "\n",
    "## Search and Max Functions\n",
    "\n",
    "Before we address the problem at hand, it is important to understand the functionality qubrabench provides.\n",
    "\n",
    "The library includes a set of common functions you would need in various circumstances, for example the search and the max function. These return the result you would expect from other implementations of these functions, and at the same time add in quantum benchmarking functionality. This simultaneously makes it easier to understand the use-cases of the library and makes it relatively easy to adapt existing code to use quantum benchmarking.\n",
    "\n",
    "When we talk about quantum benchmarking here, we mean approximating the amount of calls needed to execute the function with identical parameters on a quantum computer. This library achieves this by counting the calls run on the classical (in this case most likely your) machine and basing performance assumptions on these measurements. All provided functions in qubrabench currently require a stats object, in which these collected statistics and approximations are stored.\n",
    "\n",
    "Let's take a look at the docstrings of the functions we will need to solve our problem - search and max.\n",
    "\n"
   ]
  },
  {
   "cell_type": "code",
   "execution_count": null,
   "metadata": {},
   "outputs": [
    {
     "data": {
      "text/plain": [
       "\u001B[0;31mClass docstring:\u001B[0m\n",
       "    Search a list in random order for an element satisfying the given predicate, while keeping track of query statistics.\n",
       "    \n",
       "    >>> search([1,2,3,4,5], lambda x: x % 2 == 0, rng=np.random.default_rng(1))\n",
       "    2\n",
       "    \n",
       "    Args:\n",
       "        iterable: iterable to be searched over\n",
       "        key: function to test if an element satisfies the predicate\n",
       "        rng: np.random.Generator instance as source of randomness\n",
       "        error: upper bound on the failure probability of the quantum algorithm.\n",
       "        max_classical_queries: maximum number of classical queries before entering the quantum part of the algorithm.\n",
       "        stats: keeps track of statistics.\n",
       "    \n",
       "    Raises:\n",
       "        ValueError: Raised when the error bound is not provided and statistics cannot be calculated.\n",
       "    \n",
       "    Returns:\n",
       "        An element that satisfies the predicate, or None if no such argument can be found.\n",
       "\u001B[0;31mCall docstring:\u001B[0m\n",
       "    Call self as a function."
      ]
     },
     "metadata": {},
     "output_type": "display_data"
    }
   ],
   "source": [
    "from qubrabench.algorithms.search import search as qsearch\n",
    "\n",
    "%pdoc qsearch"
   ]
  },
  {
   "cell_type": "markdown",
   "metadata": {},
   "source": [
    "To understand the search implementation, we can have a look at the example provided in the docstring. In this case, we call the search function on an array (iterable) containing numbers one to five. We are searching for an even number, by providing the key function. This function acts as a predicate to classify the iterable entries. Before any search is run, the array passed to the search function is randomly shuffled. This means, that you will receive the same result if you set a specific seed, however by default you will receive different results for each run. In this case using a seed of 1, the found even number is 2, thus we get this as the output of the function call."
   ]
  },
  {
   "cell_type": "code",
   "execution_count": null,
   "metadata": {},
   "outputs": [
    {
     "data": {
      "text/plain": [
       "2"
      ]
     },
     "execution_count": null,
     "metadata": {},
     "output_type": "execute_result"
    }
   ],
   "source": [
    "from qubrabench.algorithms.search import search\n",
    "import numpy as np\n",
    "\n",
    "search([1, 2, 3, 4, 5], lambda x: x % 2 == 0, rng=np.random.default_rng(1))"
   ]
  },
  {
   "cell_type": "markdown",
   "metadata": {},
   "source": [
    "As we briefly touched on above, we provide a random number generator, in this case the numpy default generator using a seed of 1. This is necessary for testing, to ensure the results will be consistent in cases where this is important. When implementing the hillclimber later, we will also provide the other documented parameters, such as error, max_classical_queries and stats."
   ]
  },
  {
   "cell_type": "code",
   "execution_count": null,
   "metadata": {},
   "outputs": [
    {
     "data": {
      "text/plain": [
       "\u001B[0;31mClass docstring:\u001B[0m\n",
       "    Find the largest element in a list, while keeping track of query statistics.\n",
       "    \n",
       "    Args:\n",
       "        iterable: iterable to find the maximum in\n",
       "        default: default value to return if iterable is empty.\n",
       "        key: function that maps iterable elements to values that are comparable. By default, use the iterable elements.\n",
       "        error: upper bound on the failure probability of the quantum algorithm.\n",
       "        stats: object that keeps track of statistics.\n",
       "    \n",
       "    Raises:\n",
       "        ValueError: Raised when the failure rate `error` is not provided and statistics cannot be calculated.\n",
       "        ValueError: Raised when iterable is an empty sequence and no default is provided.\n",
       "    \n",
       "    Returns:\n",
       "        the desired maximum element\n",
       "\u001B[0;31mCall docstring:\u001B[0m\n",
       "    Call self as a function."
      ]
     },
     "metadata": {},
     "output_type": "display_data"
    }
   ],
   "source": [
    "from qubrabench.algorithms.max import max as qmax\n",
    "\n",
    "%pdoc qmax"
   ]
  },
  {
   "cell_type": "markdown",
   "metadata": {},
   "source": [
    "The following example will use the max function documented above. It may seem a bit confusing, that the values in the array (iterable) should be themselves arrays containing only a single integer, however this will be used here to demonstrate the use of the key function. We provide the max function with the described array and intend to receive the array containing the highest integer. The default value is set to [-1] here, such a value would indicate an empty iterable being passed to the function."
   ]
  },
  {
   "cell_type": "code",
   "execution_count": null,
   "metadata": {},
   "outputs": [
    {
     "data": {
      "text/plain": [
       "[91]"
      ]
     },
     "execution_count": null,
     "metadata": {},
     "output_type": "execute_result"
    }
   ],
   "source": [
    "from qubrabench.algorithms.max import max\n",
    "\n",
    "max([[14], [2], [30], [7], [91]], default=[-1], key=lambda x: x[0])"
   ]
  },
  {
   "cell_type": "markdown",
   "metadata": {},
   "source": [
    "Now that we have a basic understanding of the search and max functions, we can have a closer look at the MAX-k-SAT problem, which we intend to solve using our hillclimber algorithm."
   ]
  },
  {
   "cell_type": "markdown",
   "metadata": {},
   "source": [
    "## Problem: MAX-k-SAT\n",
    "\n",
    "Max-k-SAT is a combinatorial optimization problem that given a list of clauses $(C_{i})^{p}_{i=1}$, each a disjunction of at most $k$ literals, and a set of weights $(w_{i})^{p}_{i=1}$, asks us to maximize the weight of the satisfied clauses,\n",
    "$$\\varphi(y) := \\sum ^{p} _{i=1} w_{i}C_{i}(y),$$\n",
    "over all assignments $y \\in \\{0, 1\\}^{q}$ of the variables. This problem is NP-hard for $k ≥ 2$.\n",
    "\n",
    "## Algorithm: Hillclimb search\n",
    "\n",
    "We start with a random assignment $y \\in \\{0, 1\\}^{n}$ and look for improvements in the set of all bitstrings that differ from $y$ in at most $d$ bits.\n",
    "The simple hill climber randomly samples such assignments until it finds one with a strictly higher value of $\\varphi$, which is then taken as the new assignment.\n",
    "This procedure is repeated until no further improvement is found.\n",
    "We can formalize each hillclimb step (described above) as searching for a solution in\n",
    "$$f:N_{d}(y) \\subseteq \\{0,1\\}^{n} →\\{0,1\\}$$\n",
    "$$f(z) = \\begin{cases}1 ~~~~~\\text{if}~ \\varphi(z)>\\varphi(y)\\\\ 0 ~~~~~\\text{otherwise} \\end{cases}$$"
   ]
  },
  {
   "cell_type": "code",
   "execution_count": null,
   "metadata": {},
   "outputs": [],
   "source": [
    "import numpy as np\n",
    "import pandas as pd"
   ]
  },
  {
   "cell_type": "code",
   "execution_count": null,
   "metadata": {},
   "outputs": [
    {
     "data": {
      "text/plain": [
       "\u001B[0;32mdef\u001B[0m \u001B[0mhill_climber\u001B[0m\u001B[0;34m(\u001B[0m\u001B[0;34m\u001B[0m\n",
       "\u001B[0;34m\u001B[0m        \u001B[0minst\u001B[0m\u001B[0;34m:\u001B[0m \u001B[0mWeightedSatInstance\u001B[0m\u001B[0;34m,\u001B[0m\u001B[0;34m\u001B[0m\n",
       "\u001B[0;34m\u001B[0m        \u001B[0;34m*\u001B[0m\u001B[0;34m,\u001B[0m\u001B[0;34m\u001B[0m\n",
       "\u001B[0;34m\u001B[0m        \u001B[0mrng\u001B[0m\u001B[0;34m:\u001B[0m \u001B[0mnp\u001B[0m\u001B[0;34m.\u001B[0m\u001B[0mrandom\u001B[0m\u001B[0;34m.\u001B[0m\u001B[0mGenerator\u001B[0m\u001B[0;34m,\u001B[0m\u001B[0;34m\u001B[0m\n",
       "\u001B[0;34m\u001B[0m        \u001B[0merror\u001B[0m\u001B[0;34m:\u001B[0m \u001B[0mOptional\u001B[0m\u001B[0;34m[\u001B[0m\u001B[0mfloat\u001B[0m\u001B[0;34m]\u001B[0m \u001B[0;34m=\u001B[0m \u001B[0;32mNone\u001B[0m\u001B[0;34m,\u001B[0m\u001B[0;34m\u001B[0m\n",
       "\u001B[0;34m\u001B[0m        \u001B[0mstats\u001B[0m\u001B[0;34m:\u001B[0m \u001B[0mOptional\u001B[0m\u001B[0;34m[\u001B[0m\u001B[0mQueryStats\u001B[0m\u001B[0;34m]\u001B[0m \u001B[0;34m=\u001B[0m \u001B[0;32mNone\u001B[0m\u001B[0;34m,\u001B[0m\u001B[0;34m\u001B[0m\n",
       "\u001B[0;34m\u001B[0m        \u001B[0msteep\u001B[0m\u001B[0;34m:\u001B[0m \u001B[0mbool\u001B[0m \u001B[0;34m=\u001B[0m \u001B[0;32mFalse\u001B[0m\u001B[0;34m,\u001B[0m\u001B[0;34m\u001B[0m\n",
       "\u001B[0;34m\u001B[0m\u001B[0;34m)\u001B[0m \u001B[0;34m->\u001B[0m \u001B[0mOptional\u001B[0m\u001B[0;34m[\u001B[0m\u001B[0mAssignment\u001B[0m\u001B[0;34m]\u001B[0m\u001B[0;34m:\u001B[0m\u001B[0;34m\u001B[0m\n",
       "\u001B[0;34m\u001B[0m    \u001B[0;34m\"\"\"A hillclimbing heuristic to find maximizing assignments to weighted SAT instances\u001B[0m\n",
       "\u001B[0;34m        by progressively transitioning to better solutions using neighborhood search.\u001B[0m\n",
       "\u001B[0;34m\u001B[0m\n",
       "\u001B[0;34m\u001B[0m\n",
       "\u001B[0;34m    Args:\u001B[0m\n",
       "\u001B[0;34m        inst: The SAT instance to be solved.\u001B[0m\n",
       "\u001B[0;34m        rng: Source of randomness\u001B[0m\n",
       "\u001B[0;34m        error: upper bound on the failure probability. Defaults to None.\u001B[0m\n",
       "\u001B[0;34m        stats: Statistics instance keeping track of costs. Defaults to None.\u001B[0m\n",
       "\u001B[0;34m        steep: True when the neighborhood search is performed greedily, otherwise randomly. Defaults to False.\u001B[0m\n",
       "\u001B[0;34m\u001B[0m\n",
       "\u001B[0;34m    Returns:\u001B[0m\n",
       "\u001B[0;34m        Optional[Assignment]: The best assignment found by the heuristic.\u001B[0m\n",
       "\u001B[0;34m    \"\"\"\u001B[0m\u001B[0;34m\u001B[0m\n",
       "\u001B[0;34m\u001B[0m    \u001B[0;32mif\u001B[0m \u001B[0mrng\u001B[0m \u001B[0;32mis\u001B[0m \u001B[0;32mNone\u001B[0m\u001B[0;34m:\u001B[0m\u001B[0;34m\u001B[0m\n",
       "\u001B[0;34m\u001B[0m        \u001B[0mrng\u001B[0m \u001B[0;34m=\u001B[0m \u001B[0mnp\u001B[0m\u001B[0;34m.\u001B[0m\u001B[0mrandom\u001B[0m\u001B[0;34m.\u001B[0m\u001B[0mdefault_rng\u001B[0m\u001B[0;34m(\u001B[0m\u001B[0;34m)\u001B[0m\u001B[0;34m\u001B[0m\n",
       "\u001B[0;34m\u001B[0m\u001B[0;34m\u001B[0m\n",
       "\u001B[0;34m\u001B[0m    \u001B[0;31m# precompute some matrices (see 4.3.2 in Cade et al)\u001B[0m\u001B[0;34m\u001B[0m\n",
       "\u001B[0;34m\u001B[0m    \u001B[0mn\u001B[0m \u001B[0;34m=\u001B[0m \u001B[0minst\u001B[0m\u001B[0;34m.\u001B[0m\u001B[0mn\u001B[0m\u001B[0;34m\u001B[0m\n",
       "\u001B[0;34m\u001B[0m    \u001B[0;31m# generates a 1xN matrix containing only ones\u001B[0m\u001B[0;34m\u001B[0m\n",
       "\u001B[0;34m\u001B[0m    \u001B[0mones\u001B[0m \u001B[0;34m=\u001B[0m \u001B[0mnp\u001B[0m\u001B[0;34m.\u001B[0m\u001B[0mones\u001B[0m\u001B[0;34m(\u001B[0m\u001B[0mn\u001B[0m\u001B[0;34m,\u001B[0m \u001B[0mdtype\u001B[0m\u001B[0;34m=\u001B[0m\u001B[0mint\u001B[0m\u001B[0;34m)\u001B[0m\u001B[0;34m\u001B[0m\n",
       "\u001B[0;34m\u001B[0m    \u001B[0;31m# produce nxn matrix, where all diagonal entries are -1, all other entries are 1\u001B[0m\u001B[0;34m\u001B[0m\n",
       "\u001B[0;34m\u001B[0m    \u001B[0;31m# 1. np.outer generates outer product, which results in matrix containing only ones\u001B[0m\u001B[0;34m\u001B[0m\n",
       "\u001B[0;34m\u001B[0m    \u001B[0;31m# 2. np.eye generates identity matrix, this is multiplied by 2 and then subtracted from the ones matrix\u001B[0m\u001B[0;34m\u001B[0m\n",
       "\u001B[0;34m\u001B[0m    \u001B[0mflip_mat\u001B[0m \u001B[0;34m=\u001B[0m \u001B[0mnp\u001B[0m\u001B[0;34m.\u001B[0m\u001B[0mouter\u001B[0m\u001B[0;34m(\u001B[0m\u001B[0mones\u001B[0m\u001B[0;34m,\u001B[0m \u001B[0mones\u001B[0m\u001B[0;34m)\u001B[0m \u001B[0;34m-\u001B[0m \u001B[0;36m2\u001B[0m \u001B[0;34m*\u001B[0m \u001B[0mnp\u001B[0m\u001B[0;34m.\u001B[0m\u001B[0meye\u001B[0m\u001B[0;34m(\u001B[0m\u001B[0mn\u001B[0m\u001B[0;34m,\u001B[0m \u001B[0mdtype\u001B[0m\u001B[0;34m=\u001B[0m\u001B[0mint\u001B[0m\u001B[0;34m)\u001B[0m\u001B[0;34m\u001B[0m\n",
       "\u001B[0;34m\u001B[0m\u001B[0;34m\u001B[0m\n",
       "\u001B[0;34m\u001B[0m    \u001B[0;31m# start with a random assignment, -1 represents false, 1 represents true\u001B[0m\u001B[0;34m\u001B[0m\n",
       "\u001B[0;34m\u001B[0m    \u001B[0mx\u001B[0m \u001B[0;34m=\u001B[0m \u001B[0mrng\u001B[0m\u001B[0;34m.\u001B[0m\u001B[0mchoice\u001B[0m\u001B[0;34m(\u001B[0m\u001B[0;34m[\u001B[0m\u001B[0;34m-\u001B[0m\u001B[0;36m1\u001B[0m\u001B[0;34m,\u001B[0m \u001B[0;36m1\u001B[0m\u001B[0;34m]\u001B[0m\u001B[0;34m,\u001B[0m \u001B[0mn\u001B[0m\u001B[0;34m)\u001B[0m\u001B[0;34m\u001B[0m\n",
       "\u001B[0;34m\u001B[0m    \u001B[0mw\u001B[0m \u001B[0;34m=\u001B[0m \u001B[0minst\u001B[0m\u001B[0;34m.\u001B[0m\u001B[0mweight\u001B[0m\u001B[0;34m(\u001B[0m\u001B[0mx\u001B[0m\u001B[0;34m)\u001B[0m\u001B[0;34m\u001B[0m\n",
       "\u001B[0;34m\u001B[0m\u001B[0;34m\u001B[0m\n",
       "\u001B[0;34m\u001B[0m    \u001B[0;31m# error probability per hillclimb step,\u001B[0m\u001B[0;34m\u001B[0m\n",
       "\u001B[0;34m\u001B[0m    \u001B[0;31m# assuming a maximum of `n` rounds (see 4.3.1 in https://arxiv.org/pdf/2203.04975.pdf)\u001B[0m\u001B[0;34m\u001B[0m\n",
       "\u001B[0;34m\u001B[0m    \u001B[0;32mif\u001B[0m \u001B[0merror\u001B[0m \u001B[0;32mis\u001B[0m \u001B[0;32mnot\u001B[0m \u001B[0;32mNone\u001B[0m\u001B[0;34m:\u001B[0m\u001B[0;34m\u001B[0m\n",
       "\u001B[0;34m\u001B[0m        \u001B[0merror\u001B[0m \u001B[0;34m/=\u001B[0m \u001B[0mn\u001B[0m\u001B[0;34m\u001B[0m\n",
       "\u001B[0;34m\u001B[0m\u001B[0;34m\u001B[0m\n",
       "\u001B[0;34m\u001B[0m    \u001B[0;32mwhile\u001B[0m \u001B[0;32mTrue\u001B[0m\u001B[0;34m:\u001B[0m\u001B[0;34m\u001B[0m\n",
       "\u001B[0;34m\u001B[0m        \u001B[0;31m# compute all Hamming neighbors (row by row)\u001B[0m\u001B[0;34m\u001B[0m\n",
       "\u001B[0;34m\u001B[0m        \u001B[0;31m# np.outer(ones, x) generates matrix containing the current assignment x in n rows\u001B[0m\u001B[0;34m\u001B[0m\n",
       "\u001B[0;34m\u001B[0m        \u001B[0;31m# flip_matrix used to flip values on diagonal to compute all possible neighbours\u001B[0m\u001B[0;34m\u001B[0m\n",
       "\u001B[0;34m\u001B[0m        \u001B[0;31m# this only takes into account neighbours with a hamming distance of 1\u001B[0m\u001B[0;34m\u001B[0m\n",
       "\u001B[0;34m\u001B[0m        \u001B[0mneighbors\u001B[0m \u001B[0;34m=\u001B[0m \u001B[0mflip_mat\u001B[0m \u001B[0;34m*\u001B[0m \u001B[0mnp\u001B[0m\u001B[0;34m.\u001B[0m\u001B[0mouter\u001B[0m\u001B[0;34m(\u001B[0m\u001B[0mones\u001B[0m\u001B[0;34m,\u001B[0m \u001B[0mx\u001B[0m\u001B[0;34m)\u001B[0m\u001B[0;34m\u001B[0m\n",
       "\u001B[0;34m\u001B[0m\u001B[0;34m\u001B[0m\n",
       "\u001B[0;34m\u001B[0m        \u001B[0;31m# find improved directions\u001B[0m\u001B[0;34m\u001B[0m\n",
       "\u001B[0;34m\u001B[0m        \u001B[0;32mif\u001B[0m \u001B[0mstats\u001B[0m\u001B[0;34m:\u001B[0m\u001B[0;34m\u001B[0m\n",
       "\u001B[0;34m\u001B[0m            \u001B[0mstats\u001B[0m\u001B[0;34m.\u001B[0m\u001B[0mclassical_control_method_calls\u001B[0m \u001B[0;34m+=\u001B[0m \u001B[0;36m1\u001B[0m\u001B[0;34m\u001B[0m\n",
       "\u001B[0;34m\u001B[0m\u001B[0;34m\u001B[0m\n",
       "\u001B[0;34m\u001B[0m        \u001B[0;31m# computes the weight for each possible neighbour, returns values in array\u001B[0m\u001B[0;34m\u001B[0m\n",
       "\u001B[0;34m\u001B[0m        \u001B[0mweights\u001B[0m \u001B[0;34m=\u001B[0m \u001B[0minst\u001B[0m\u001B[0;34m.\u001B[0m\u001B[0mweight\u001B[0m\u001B[0;34m(\u001B[0m\u001B[0mneighbors\u001B[0m\u001B[0;34m)\u001B[0m\u001B[0;34m\u001B[0m\n",
       "\u001B[0;34m\u001B[0m\u001B[0;34m\u001B[0m\n",
       "\u001B[0;34m\u001B[0m        \u001B[0;32mdef\u001B[0m \u001B[0mpred\u001B[0m\u001B[0;34m(\u001B[0m\u001B[0mit\u001B[0m\u001B[0;34m:\u001B[0m \u001B[0mTuple\u001B[0m\u001B[0;34m[\u001B[0m\u001B[0mAssignment\u001B[0m\u001B[0;34m,\u001B[0m \u001B[0mnp\u001B[0m\u001B[0;34m.\u001B[0m\u001B[0mfloat_\u001B[0m\u001B[0;34m]\u001B[0m\u001B[0;34m)\u001B[0m \u001B[0;34m->\u001B[0m \u001B[0mbool\u001B[0m\u001B[0;34m:\u001B[0m\u001B[0;34m\u001B[0m\n",
       "\u001B[0;34m\u001B[0m            \u001B[0;32mreturn\u001B[0m \u001B[0mbool\u001B[0m\u001B[0;34m(\u001B[0m\u001B[0mit\u001B[0m\u001B[0;34m[\u001B[0m\u001B[0;36m1\u001B[0m\u001B[0;34m]\u001B[0m \u001B[0;34m>\u001B[0m \u001B[0mw\u001B[0m\u001B[0;34m)\u001B[0m\u001B[0;34m\u001B[0m\n",
       "\u001B[0;34m\u001B[0m\u001B[0;34m\u001B[0m\n",
       "\u001B[0;34m\u001B[0m        \u001B[0;32mif\u001B[0m \u001B[0msteep\u001B[0m\u001B[0;34m:\u001B[0m\u001B[0;34m\u001B[0m\n",
       "\u001B[0;34m\u001B[0m            \u001B[0mresult\u001B[0m \u001B[0;34m=\u001B[0m \u001B[0mmax\u001B[0m\u001B[0;34m(\u001B[0m\u001B[0;34m\u001B[0m\n",
       "\u001B[0;34m\u001B[0m                \u001B[0mzip\u001B[0m\u001B[0;34m(\u001B[0m\u001B[0mneighbors\u001B[0m\u001B[0;34m,\u001B[0m \u001B[0mweights\u001B[0m\u001B[0;34m)\u001B[0m\u001B[0;34m,\u001B[0m\u001B[0;34m\u001B[0m\n",
       "\u001B[0;34m\u001B[0m                \u001B[0mkey\u001B[0m\u001B[0;34m=\u001B[0m\u001B[0;32mlambda\u001B[0m \u001B[0mit\u001B[0m\u001B[0;34m:\u001B[0m \u001B[0mit\u001B[0m\u001B[0;34m[\u001B[0m\u001B[0;36m1\u001B[0m\u001B[0;34m]\u001B[0m\u001B[0;34m,\u001B[0m\u001B[0;34m\u001B[0m\n",
       "\u001B[0;34m\u001B[0m                \u001B[0merror\u001B[0m\u001B[0;34m=\u001B[0m\u001B[0merror\u001B[0m\u001B[0;34m,\u001B[0m\u001B[0;34m\u001B[0m\n",
       "\u001B[0;34m\u001B[0m                \u001B[0mstats\u001B[0m\u001B[0;34m=\u001B[0m\u001B[0mstats\u001B[0m\u001B[0;34m,\u001B[0m\u001B[0;34m\u001B[0m\n",
       "\u001B[0;34m\u001B[0m            \u001B[0;34m)\u001B[0m\u001B[0;34m\u001B[0m\n",
       "\u001B[0;34m\u001B[0m            \u001B[0mnx\u001B[0m\u001B[0;34m,\u001B[0m \u001B[0mnw\u001B[0m \u001B[0;34m=\u001B[0m \u001B[0mresult\u001B[0m\u001B[0;34m\u001B[0m\n",
       "\u001B[0;34m\u001B[0m            \u001B[0;32mif\u001B[0m \u001B[0mnw\u001B[0m \u001B[0;34m>\u001B[0m \u001B[0mw\u001B[0m\u001B[0;34m:\u001B[0m\u001B[0;34m\u001B[0m\n",
       "\u001B[0;34m\u001B[0m                \u001B[0mx\u001B[0m\u001B[0;34m,\u001B[0m \u001B[0mw\u001B[0m \u001B[0;34m=\u001B[0m \u001B[0mresult\u001B[0m\u001B[0;34m\u001B[0m\n",
       "\u001B[0;34m\u001B[0m            \u001B[0;32melse\u001B[0m\u001B[0;34m:\u001B[0m\u001B[0;34m\u001B[0m\n",
       "\u001B[0;34m\u001B[0m                \u001B[0;32mreturn\u001B[0m \u001B[0mx\u001B[0m\u001B[0;34m\u001B[0m\n",
       "\u001B[0;34m\u001B[0m        \u001B[0;32melse\u001B[0m\u001B[0;34m:\u001B[0m\u001B[0;34m\u001B[0m\n",
       "\u001B[0;34m\u001B[0m            \u001B[0mresult\u001B[0m \u001B[0;34m=\u001B[0m \u001B[0msearch\u001B[0m\u001B[0;34m(\u001B[0m\u001B[0;34m\u001B[0m\n",
       "\u001B[0;34m\u001B[0m                \u001B[0mzip\u001B[0m\u001B[0;34m(\u001B[0m\u001B[0mneighbors\u001B[0m\u001B[0;34m,\u001B[0m \u001B[0mweights\u001B[0m\u001B[0;34m)\u001B[0m\u001B[0;34m,\u001B[0m\u001B[0;34m\u001B[0m\n",
       "\u001B[0;34m\u001B[0m                \u001B[0mpred\u001B[0m\u001B[0;34m,\u001B[0m\u001B[0;34m\u001B[0m\n",
       "\u001B[0;34m\u001B[0m                \u001B[0merror\u001B[0m\u001B[0;34m=\u001B[0m\u001B[0merror\u001B[0m\u001B[0;34m,\u001B[0m\u001B[0;34m\u001B[0m\n",
       "\u001B[0;34m\u001B[0m                \u001B[0mstats\u001B[0m\u001B[0;34m=\u001B[0m\u001B[0mstats\u001B[0m\u001B[0;34m,\u001B[0m\u001B[0;34m\u001B[0m\n",
       "\u001B[0;34m\u001B[0m                \u001B[0mrng\u001B[0m\u001B[0;34m=\u001B[0m\u001B[0mrng\u001B[0m\u001B[0;34m,\u001B[0m\u001B[0;34m\u001B[0m\n",
       "\u001B[0;34m\u001B[0m            \u001B[0;34m)\u001B[0m\u001B[0;34m\u001B[0m\n",
       "\u001B[0;34m\u001B[0m            \u001B[0;32mif\u001B[0m \u001B[0mresult\u001B[0m \u001B[0;32mis\u001B[0m \u001B[0;32mNone\u001B[0m\u001B[0;34m:\u001B[0m\u001B[0;34m\u001B[0m\n",
       "\u001B[0;34m\u001B[0m                \u001B[0;32mreturn\u001B[0m \u001B[0mx\u001B[0m\u001B[0;34m\u001B[0m\n",
       "\u001B[0;34m\u001B[0m            \u001B[0mx\u001B[0m\u001B[0;34m,\u001B[0m \u001B[0mw\u001B[0m \u001B[0;34m=\u001B[0m \u001B[0mresult\u001B[0m\u001B[0;34m\u001B[0m\u001B[0;34m\u001B[0m\u001B[0m\n"
      ]
     },
     "metadata": {},
     "output_type": "display_data"
    }
   ],
   "source": [
    "from hillclimber import hill_climber\n",
    "\n",
    "%psource hill_climber"
   ]
  },
  {
   "cell_type": "markdown",
   "metadata": {},
   "source": [
    "As you will notice, we use the search and max functions provided by qubrabench here.\n",
    "\n",
    "Starting at the top, the hill_climber function generates a random assignment for the weighted sat instance it receives. Continuing to the while loop, the hill climber calculates all neighbours of the current solution. The neighbours are defined as all solutions with a hamming distance of 1 to the current solution. Following this calculation the weight of every neighboring solution is calculated. In this example you can see the results of the calculations described above, for $n=3$, a far lower value than we would realistically use, but much more practical for this demonstration.\n",
    "$$n=3$$\n",
    "$$ones = \\begin{bmatrix}1 & 1 & 1\\\\1 & 1 & 1\\\\1 & 1 & 1\\end{bmatrix}$$\n",
    "$$flip = \\begin{bmatrix}-1 & 1 & 1\\\\1 & -1 & 1\\\\1 & 1 & -1\\end{bmatrix}$$\n",
    "$$x=\\begin{bmatrix}1 & -1 & 1\\end{bmatrix}$$\n",
    "$$neighbours = \\begin{bmatrix}-1 & 1 & 1\\\\1 & -1 & 1\\\\1 & 1 & -1\\end{bmatrix} \\cdot \\begin{bmatrix}1 & -1 & 1\\\\1 & -1 & 1\\\\1 & -1 & 1\\end{bmatrix} = \\begin{bmatrix}-1 & -1 & 1\\\\1 & 1 & 1\\\\1 & -1 & -1\\end{bmatrix}$$\n",
    "\n",
    "Now we get to an important distinction, which will decide, whether we use the search or the max function: if we want to run a steep hill climber or a simple hill climber. The steep hill climber will choose the neighbour with the highest weight, maximising this value in every iteration of the loop. For these cases, we will use max to find the neighbour with the highest weight. If we want to run a simple hill climber, we simply use the search function and choose the first neighbour with a higher weight than that of the current solution.\n",
    "\n",
    "In both cases we also pass the error and stats parameters to populate the stats for this operation. You are able to see some results the stats objects hold in the next section, where we run the hill climber a few times."
   ]
  },
  {
   "cell_type": "markdown",
   "metadata": {},
   "source": [
    "## Benchmarking\n",
    "\n",
    "The imported `run` function executes the hillclimber on a random instance and returns the statistics in a pandas DataFrame. As running the hillclimber also touches on some important topics on relation to the search and max functions, we will also take a look at its code."
   ]
  },
  {
   "cell_type": "code",
   "execution_count": null,
   "metadata": {},
   "outputs": [
    {
     "data": {
      "text/plain": [
       "\u001B[0;32mdef\u001B[0m \u001B[0mrun\u001B[0m\u001B[0;34m(\u001B[0m\u001B[0;34m\u001B[0m\n",
       "\u001B[0;34m\u001B[0m        \u001B[0mk\u001B[0m\u001B[0;34m:\u001B[0m \u001B[0mint\u001B[0m\u001B[0;34m,\u001B[0m\u001B[0;34m\u001B[0m\n",
       "\u001B[0;34m\u001B[0m        \u001B[0mr\u001B[0m\u001B[0;34m:\u001B[0m \u001B[0mint\u001B[0m\u001B[0;34m,\u001B[0m\u001B[0;34m\u001B[0m\n",
       "\u001B[0;34m\u001B[0m        \u001B[0mn\u001B[0m\u001B[0;34m:\u001B[0m \u001B[0mint\u001B[0m\u001B[0;34m,\u001B[0m\u001B[0;34m\u001B[0m\n",
       "\u001B[0;34m\u001B[0m        \u001B[0;34m*\u001B[0m\u001B[0;34m,\u001B[0m\u001B[0;34m\u001B[0m\n",
       "\u001B[0;34m\u001B[0m        \u001B[0mn_runs\u001B[0m\u001B[0;34m:\u001B[0m \u001B[0mint\u001B[0m\u001B[0;34m,\u001B[0m\u001B[0;34m\u001B[0m\n",
       "\u001B[0;34m\u001B[0m        \u001B[0mrng\u001B[0m\u001B[0;34m:\u001B[0m \u001B[0mnp\u001B[0m\u001B[0;34m.\u001B[0m\u001B[0mrandom\u001B[0m\u001B[0;34m.\u001B[0m\u001B[0mGenerator\u001B[0m\u001B[0;34m,\u001B[0m\u001B[0;34m\u001B[0m\n",
       "\u001B[0;34m\u001B[0m        \u001B[0merror\u001B[0m\u001B[0;34m:\u001B[0m \u001B[0mOptional\u001B[0m\u001B[0;34m[\u001B[0m\u001B[0mfloat\u001B[0m\u001B[0;34m]\u001B[0m \u001B[0;34m=\u001B[0m \u001B[0;32mNone\u001B[0m\u001B[0;34m,\u001B[0m\u001B[0;34m\u001B[0m\n",
       "\u001B[0;34m\u001B[0m        \u001B[0mrandom_weights\u001B[0m\u001B[0;34m:\u001B[0m \u001B[0mOptional\u001B[0m\u001B[0;34m[\u001B[0m\u001B[0mCallable\u001B[0m\u001B[0;34m[\u001B[0m\u001B[0;34m[\u001B[0m\u001B[0mint\u001B[0m\u001B[0;34m]\u001B[0m\u001B[0;34m,\u001B[0m \u001B[0mnpt\u001B[0m\u001B[0;34m.\u001B[0m\u001B[0mNDArray\u001B[0m\u001B[0;34m[\u001B[0m\u001B[0mW\u001B[0m\u001B[0;34m]\u001B[0m\u001B[0;34m]\u001B[0m\u001B[0;34m]\u001B[0m \u001B[0;34m=\u001B[0m \u001B[0;32mNone\u001B[0m\u001B[0;34m,\u001B[0m\u001B[0;34m\u001B[0m\n",
       "\u001B[0;34m\u001B[0m        \u001B[0msteep\u001B[0m\u001B[0;34m:\u001B[0m \u001B[0mbool\u001B[0m \u001B[0;34m=\u001B[0m \u001B[0;32mFalse\u001B[0m\u001B[0;34m,\u001B[0m\u001B[0;34m\u001B[0m\n",
       "\u001B[0;34m\u001B[0m\u001B[0;34m)\u001B[0m \u001B[0;34m->\u001B[0m \u001B[0mpd\u001B[0m\u001B[0;34m.\u001B[0m\u001B[0mDataFrame\u001B[0m\u001B[0;34m:\u001B[0m\u001B[0;34m\u001B[0m\n",
       "\u001B[0;34m\u001B[0m    \u001B[0;34m\"\"\"External interface to generate weighted sat instances, run the hillclimber algorithm and return statistics.\u001B[0m\n",
       "\u001B[0;34m\u001B[0m\n",
       "\u001B[0;34m    Args:\u001B[0m\n",
       "\u001B[0;34m        k: Number of literals in a clause\u001B[0m\n",
       "\u001B[0;34m        r: Factor for the number of clauses\u001B[0m\n",
       "\u001B[0;34m        n: size (variable number) of the SAT instances\u001B[0m\n",
       "\u001B[0;34m        n_runs: number of runs to perform in each group\u001B[0m\n",
       "\u001B[0;34m        rng: Source of randomness\u001B[0m\n",
       "\u001B[0;34m        error: Upper bound on the failure rate. Defaults to None.\u001B[0m\n",
       "\u001B[0;34m        random_weights: Optionally providable weights for SAT instance generation. Defaults to None.\u001B[0m\n",
       "\u001B[0;34m        steep: Whether to perform hillclimb steep (greedily). Defaults to False.\u001B[0m\n",
       "\u001B[0;34m\u001B[0m\n",
       "\u001B[0;34m    Returns:\u001B[0m\n",
       "\u001B[0;34m        Dataframe holding benchmarking statistics of the runs performed.\u001B[0m\n",
       "\u001B[0;34m    \"\"\"\u001B[0m\u001B[0;34m\u001B[0m\n",
       "\u001B[0;34m\u001B[0m    \u001B[0;32massert\u001B[0m \u001B[0mn_runs\u001B[0m \u001B[0;34m>=\u001B[0m \u001B[0;36m1\u001B[0m\u001B[0;34m\u001B[0m\n",
       "\u001B[0;34m\u001B[0m\u001B[0;34m\u001B[0m\n",
       "\u001B[0;34m\u001B[0m    \u001B[0mhistory\u001B[0m \u001B[0;34m=\u001B[0m \u001B[0;34m[\u001B[0m\u001B[0;34m]\u001B[0m\u001B[0;34m\u001B[0m\n",
       "\u001B[0;34m\u001B[0m    \u001B[0;32mfor\u001B[0m \u001B[0mrun_ix\u001B[0m \u001B[0;32min\u001B[0m \u001B[0mrange\u001B[0m\u001B[0;34m(\u001B[0m\u001B[0mn_runs\u001B[0m\u001B[0;34m)\u001B[0m\u001B[0;34m:\u001B[0m\u001B[0;34m\u001B[0m\n",
       "\u001B[0;34m\u001B[0m        \u001B[0mlogging\u001B[0m\u001B[0;34m.\u001B[0m\u001B[0mdebug\u001B[0m\u001B[0;34m(\u001B[0m\u001B[0;34mf\"k={k}, r={r}, n={n}, steep={steep}, #{run_ix}\"\u001B[0m\u001B[0;34m)\u001B[0m\u001B[0;34m\u001B[0m\n",
       "\u001B[0;34m\u001B[0m\u001B[0;34m\u001B[0m\n",
       "\u001B[0;34m\u001B[0m        \u001B[0;31m# run hill climber on random instance\u001B[0m\u001B[0;34m\u001B[0m\n",
       "\u001B[0;34m\u001B[0m        \u001B[0mstats\u001B[0m \u001B[0;34m=\u001B[0m \u001B[0mQueryStats\u001B[0m\u001B[0;34m(\u001B[0m\u001B[0;34m)\u001B[0m\u001B[0;34m\u001B[0m\n",
       "\u001B[0;34m\u001B[0m        \u001B[0minst\u001B[0m \u001B[0;34m=\u001B[0m \u001B[0mWeightedSatInstance\u001B[0m\u001B[0;34m.\u001B[0m\u001B[0mrandom\u001B[0m\u001B[0;34m(\u001B[0m\u001B[0;34m\u001B[0m\n",
       "\u001B[0;34m\u001B[0m            \u001B[0mk\u001B[0m\u001B[0;34m=\u001B[0m\u001B[0mk\u001B[0m\u001B[0;34m,\u001B[0m \u001B[0mn\u001B[0m\u001B[0;34m=\u001B[0m\u001B[0mn\u001B[0m\u001B[0;34m,\u001B[0m \u001B[0mm\u001B[0m\u001B[0;34m=\u001B[0m\u001B[0mr\u001B[0m \u001B[0;34m*\u001B[0m \u001B[0mn\u001B[0m\u001B[0;34m,\u001B[0m \u001B[0mrng\u001B[0m\u001B[0;34m=\u001B[0m\u001B[0mrng\u001B[0m\u001B[0;34m,\u001B[0m \u001B[0mrandom_weights\u001B[0m\u001B[0;34m=\u001B[0m\u001B[0mrandom_weights\u001B[0m\u001B[0;34m\u001B[0m\n",
       "\u001B[0;34m\u001B[0m        \u001B[0;34m)\u001B[0m\u001B[0;34m\u001B[0m\n",
       "\u001B[0;34m\u001B[0m        \u001B[0mhill_climber\u001B[0m\u001B[0;34m(\u001B[0m\u001B[0minst\u001B[0m\u001B[0;34m,\u001B[0m \u001B[0merror\u001B[0m\u001B[0;34m=\u001B[0m\u001B[0merror\u001B[0m\u001B[0;34m,\u001B[0m \u001B[0mstats\u001B[0m\u001B[0;34m=\u001B[0m\u001B[0mstats\u001B[0m\u001B[0;34m,\u001B[0m \u001B[0mrng\u001B[0m\u001B[0;34m=\u001B[0m\u001B[0mrng\u001B[0m\u001B[0;34m,\u001B[0m \u001B[0msteep\u001B[0m\u001B[0;34m=\u001B[0m\u001B[0msteep\u001B[0m\u001B[0;34m)\u001B[0m\u001B[0;34m\u001B[0m\n",
       "\u001B[0;34m\u001B[0m\u001B[0;34m\u001B[0m\n",
       "\u001B[0;34m\u001B[0m        \u001B[0;31m# save record to history\u001B[0m\u001B[0;34m\u001B[0m\n",
       "\u001B[0;34m\u001B[0m        \u001B[0mrec\u001B[0m \u001B[0;34m=\u001B[0m \u001B[0masdict\u001B[0m\u001B[0;34m(\u001B[0m\u001B[0mstats\u001B[0m\u001B[0;34m)\u001B[0m\u001B[0;34m\u001B[0m\n",
       "\u001B[0;34m\u001B[0m        \u001B[0mrec\u001B[0m\u001B[0;34m[\u001B[0m\u001B[0;34m\"n\"\u001B[0m\u001B[0;34m]\u001B[0m \u001B[0;34m=\u001B[0m \u001B[0mn\u001B[0m\u001B[0;34m\u001B[0m\n",
       "\u001B[0;34m\u001B[0m        \u001B[0mrec\u001B[0m\u001B[0;34m[\u001B[0m\u001B[0;34m\"k\"\u001B[0m\u001B[0;34m]\u001B[0m \u001B[0;34m=\u001B[0m \u001B[0mk\u001B[0m\u001B[0;34m\u001B[0m\n",
       "\u001B[0;34m\u001B[0m        \u001B[0mrec\u001B[0m\u001B[0;34m[\u001B[0m\u001B[0;34m\"r\"\u001B[0m\u001B[0;34m]\u001B[0m \u001B[0;34m=\u001B[0m \u001B[0mr\u001B[0m\u001B[0;34m\u001B[0m\n",
       "\u001B[0;34m\u001B[0m        \u001B[0mhistory\u001B[0m\u001B[0;34m.\u001B[0m\u001B[0mappend\u001B[0m\u001B[0;34m(\u001B[0m\u001B[0mrec\u001B[0m\u001B[0;34m)\u001B[0m\u001B[0;34m\u001B[0m\n",
       "\u001B[0;34m\u001B[0m\u001B[0;34m\u001B[0m\n",
       "\u001B[0;34m\u001B[0m    \u001B[0;31m# return pandas dataframe\u001B[0m\u001B[0;34m\u001B[0m\n",
       "\u001B[0;34m\u001B[0m    \u001B[0mdf\u001B[0m \u001B[0;34m=\u001B[0m \u001B[0mpd\u001B[0m\u001B[0;34m.\u001B[0m\u001B[0mDataFrame\u001B[0m\u001B[0;34m(\u001B[0m\u001B[0;34m\u001B[0m\n",
       "\u001B[0;34m\u001B[0m        \u001B[0;34m[\u001B[0m\u001B[0mlist\u001B[0m\u001B[0;34m(\u001B[0m\u001B[0mrow\u001B[0m\u001B[0;34m.\u001B[0m\u001B[0mvalues\u001B[0m\u001B[0;34m(\u001B[0m\u001B[0;34m)\u001B[0m\u001B[0;34m)\u001B[0m \u001B[0;32mfor\u001B[0m \u001B[0mrow\u001B[0m \u001B[0;32min\u001B[0m \u001B[0mhistory\u001B[0m\u001B[0;34m]\u001B[0m\u001B[0;34m,\u001B[0m \u001B[0mcolumns\u001B[0m\u001B[0;34m=\u001B[0m\u001B[0mlist\u001B[0m\u001B[0;34m(\u001B[0m\u001B[0mhistory\u001B[0m\u001B[0;34m[\u001B[0m\u001B[0;36m0\u001B[0m\u001B[0;34m]\u001B[0m\u001B[0;34m.\u001B[0m\u001B[0mkeys\u001B[0m\u001B[0;34m(\u001B[0m\u001B[0;34m)\u001B[0m\u001B[0;34m)\u001B[0m\u001B[0;34m\u001B[0m\n",
       "\u001B[0;34m\u001B[0m    \u001B[0;34m)\u001B[0m\u001B[0;34m\u001B[0m\n",
       "\u001B[0;34m\u001B[0m    \u001B[0;32mreturn\u001B[0m \u001B[0mdf\u001B[0m\u001B[0;34m\u001B[0m\u001B[0;34m\u001B[0m\u001B[0m\n"
      ]
     },
     "metadata": {},
     "output_type": "display_data"
    }
   ],
   "source": [
    "from hillclimber import run\n",
    "\n",
    "%psource run"
   ]
  },
  {
   "cell_type": "markdown",
   "metadata": {},
   "source": [
    "As you can see, we can run the hillclimber multiple times in this case and then compute the average of the results. In the loop we first generate a QueryStats object, as mentioned above, which is used to store the results of the hillclimber run. After that, we create a problem instance using our desired parameters. Once this is done we can run the hillclimber, providing all possible parameters, including `error`, `stats` and `steep`. In our case we require the stats in a pandas dataframe, which is why we convert the stats object into a dictionary, add some additional interesting stats and add it to the `history` array.\n",
    "\n",
    "Let's run the simple hill climber for $n = 100$, $n = 300$ and $n=1000$. We will run the hill climber five times for each $n$ and consistently use $k = 3$."
   ]
  },
  {
   "cell_type": "code",
   "execution_count": null,
   "metadata": {},
   "outputs": [
    {
     "name": "stdout",
     "output_type": "stream",
     "text": [
      "CPU times: user 991 ms, sys: 547 ms, total: 1.54 s\n",
      "Wall time: 258 ms\n"
     ]
    },
    {
     "data": {
      "text/html": [
       "<div>\n",
       "<style scoped>\n",
       "    .dataframe tbody tr th:only-of-type {\n",
       "        vertical-align: middle;\n",
       "    }\n",
       "\n",
       "    .dataframe tbody tr th {\n",
       "        vertical-align: top;\n",
       "    }\n",
       "\n",
       "    .dataframe thead th {\n",
       "        text-align: right;\n",
       "    }\n",
       "</style>\n",
       "<table border=\"1\" class=\"dataframe\">\n",
       "  <thead>\n",
       "    <tr style=\"text-align: right;\">\n",
       "      <th></th>\n",
       "      <th>classical_control_method_calls</th>\n",
       "      <th>classical_actual_queries</th>\n",
       "      <th>classical_expected_queries</th>\n",
       "      <th>quantum_expected_classical_queries</th>\n",
       "      <th>quantum_expected_quantum_queries</th>\n",
       "      <th>n</th>\n",
       "      <th>k</th>\n",
       "      <th>r</th>\n",
       "    </tr>\n",
       "  </thead>\n",
       "  <tbody>\n",
       "    <tr>\n",
       "      <th>0</th>\n",
       "      <td>30</td>\n",
       "      <td>323</td>\n",
       "      <td>384.570085</td>\n",
       "      <td>479.512593</td>\n",
       "      <td>1406.328791</td>\n",
       "      <td>100</td>\n",
       "      <td>3</td>\n",
       "      <td>3</td>\n",
       "    </tr>\n",
       "    <tr>\n",
       "      <th>1</th>\n",
       "      <td>36</td>\n",
       "      <td>278</td>\n",
       "      <td>401.106644</td>\n",
       "      <td>490.979380</td>\n",
       "      <td>1403.161953</td>\n",
       "      <td>100</td>\n",
       "      <td>3</td>\n",
       "      <td>3</td>\n",
       "    </tr>\n",
       "    <tr>\n",
       "      <th>2</th>\n",
       "      <td>34</td>\n",
       "      <td>447</td>\n",
       "      <td>391.413922</td>\n",
       "      <td>479.151696</td>\n",
       "      <td>1403.151044</td>\n",
       "      <td>100</td>\n",
       "      <td>3</td>\n",
       "      <td>3</td>\n",
       "    </tr>\n",
       "    <tr>\n",
       "      <th>3</th>\n",
       "      <td>33</td>\n",
       "      <td>450</td>\n",
       "      <td>502.847292</td>\n",
       "      <td>637.243136</td>\n",
       "      <td>1428.630329</td>\n",
       "      <td>100</td>\n",
       "      <td>3</td>\n",
       "      <td>3</td>\n",
       "    </tr>\n",
       "    <tr>\n",
       "      <th>4</th>\n",
       "      <td>36</td>\n",
       "      <td>403</td>\n",
       "      <td>465.018820</td>\n",
       "      <td>586.693118</td>\n",
       "      <td>1412.953709</td>\n",
       "      <td>100</td>\n",
       "      <td>3</td>\n",
       "      <td>3</td>\n",
       "    </tr>\n",
       "  </tbody>\n",
       "</table>\n",
       "</div>"
      ],
      "text/plain": [
       "   classical_control_method_calls  classical_actual_queries  \\\n",
       "0                              30                       323   \n",
       "1                              36                       278   \n",
       "2                              34                       447   \n",
       "3                              33                       450   \n",
       "4                              36                       403   \n",
       "\n",
       "   classical_expected_queries  quantum_expected_classical_queries  \\\n",
       "0                  384.570085                          479.512593   \n",
       "1                  401.106644                          490.979380   \n",
       "2                  391.413922                          479.151696   \n",
       "3                  502.847292                          637.243136   \n",
       "4                  465.018820                          586.693118   \n",
       "\n",
       "   quantum_expected_quantum_queries    n  k  r  \n",
       "0                       1406.328791  100  3  3  \n",
       "1                       1403.161953  100  3  3  \n",
       "2                       1403.151044  100  3  3  \n",
       "3                       1428.630329  100  3  3  \n",
       "4                       1412.953709  100  3  3  "
      ]
     },
     "execution_count": null,
     "metadata": {},
     "output_type": "execute_result"
    }
   ],
   "source": [
    "%%time\n",
    "data_100 = run(\n",
    "    k=3,\n",
    "    r=3,\n",
    "    n=100,\n",
    "    n_runs=5,\n",
    "    rng=np.random.default_rng(seed=100),\n",
    "    error=10**-5,\n",
    "    steep=False,\n",
    ")\n",
    "data_100"
   ]
  },
  {
   "cell_type": "code",
   "execution_count": null,
   "metadata": {},
   "outputs": [
    {
     "name": "stdout",
     "output_type": "stream",
     "text": [
      "CPU times: user 5.41 s, sys: 2.71 s, total: 8.12 s\n",
      "Wall time: 1.04 s\n"
     ]
    },
    {
     "data": {
      "text/html": [
       "<div>\n",
       "<style scoped>\n",
       "    .dataframe tbody tr th:only-of-type {\n",
       "        vertical-align: middle;\n",
       "    }\n",
       "\n",
       "    .dataframe tbody tr th {\n",
       "        vertical-align: top;\n",
       "    }\n",
       "\n",
       "    .dataframe thead th {\n",
       "        text-align: right;\n",
       "    }\n",
       "</style>\n",
       "<table border=\"1\" class=\"dataframe\">\n",
       "  <thead>\n",
       "    <tr style=\"text-align: right;\">\n",
       "      <th></th>\n",
       "      <th>classical_control_method_calls</th>\n",
       "      <th>classical_actual_queries</th>\n",
       "      <th>classical_expected_queries</th>\n",
       "      <th>quantum_expected_classical_queries</th>\n",
       "      <th>quantum_expected_quantum_queries</th>\n",
       "      <th>n</th>\n",
       "      <th>k</th>\n",
       "      <th>r</th>\n",
       "    </tr>\n",
       "  </thead>\n",
       "  <tbody>\n",
       "    <tr>\n",
       "      <th>0</th>\n",
       "      <td>84</td>\n",
       "      <td>1283</td>\n",
       "      <td>1261.721855</td>\n",
       "      <td>1127.550898</td>\n",
       "      <td>2597.460386</td>\n",
       "      <td>300</td>\n",
       "      <td>3</td>\n",
       "      <td>3</td>\n",
       "    </tr>\n",
       "    <tr>\n",
       "      <th>1</th>\n",
       "      <td>98</td>\n",
       "      <td>1845</td>\n",
       "      <td>1551.877397</td>\n",
       "      <td>1309.538970</td>\n",
       "      <td>2765.816371</td>\n",
       "      <td>300</td>\n",
       "      <td>3</td>\n",
       "      <td>3</td>\n",
       "    </tr>\n",
       "    <tr>\n",
       "      <th>2</th>\n",
       "      <td>107</td>\n",
       "      <td>1555</td>\n",
       "      <td>1462.087551</td>\n",
       "      <td>1266.818224</td>\n",
       "      <td>2693.987783</td>\n",
       "      <td>300</td>\n",
       "      <td>3</td>\n",
       "      <td>3</td>\n",
       "    </tr>\n",
       "    <tr>\n",
       "      <th>3</th>\n",
       "      <td>125</td>\n",
       "      <td>1934</td>\n",
       "      <td>1734.345010</td>\n",
       "      <td>1574.608739</td>\n",
       "      <td>2663.159641</td>\n",
       "      <td>300</td>\n",
       "      <td>3</td>\n",
       "      <td>3</td>\n",
       "    </tr>\n",
       "    <tr>\n",
       "      <th>4</th>\n",
       "      <td>141</td>\n",
       "      <td>2288</td>\n",
       "      <td>2288.387038</td>\n",
       "      <td>2064.978697</td>\n",
       "      <td>2834.972905</td>\n",
       "      <td>300</td>\n",
       "      <td>3</td>\n",
       "      <td>3</td>\n",
       "    </tr>\n",
       "  </tbody>\n",
       "</table>\n",
       "</div>"
      ],
      "text/plain": [
       "   classical_control_method_calls  classical_actual_queries  \\\n",
       "0                              84                      1283   \n",
       "1                              98                      1845   \n",
       "2                             107                      1555   \n",
       "3                             125                      1934   \n",
       "4                             141                      2288   \n",
       "\n",
       "   classical_expected_queries  quantum_expected_classical_queries  \\\n",
       "0                 1261.721855                         1127.550898   \n",
       "1                 1551.877397                         1309.538970   \n",
       "2                 1462.087551                         1266.818224   \n",
       "3                 1734.345010                         1574.608739   \n",
       "4                 2288.387038                         2064.978697   \n",
       "\n",
       "   quantum_expected_quantum_queries    n  k  r  \n",
       "0                       2597.460386  300  3  3  \n",
       "1                       2765.816371  300  3  3  \n",
       "2                       2693.987783  300  3  3  \n",
       "3                       2663.159641  300  3  3  \n",
       "4                       2834.972905  300  3  3  "
      ]
     },
     "execution_count": null,
     "metadata": {},
     "output_type": "execute_result"
    }
   ],
   "source": [
    "%%time\n",
    "data_300 = run(\n",
    "    k=3,\n",
    "    r=3,\n",
    "    n=300,\n",
    "    n_runs=5,\n",
    "    rng=np.random.default_rng(seed=100),\n",
    "    error=10**-5,\n",
    "    steep=False,\n",
    ")\n",
    "data_300"
   ]
  },
  {
   "cell_type": "code",
   "execution_count": null,
   "metadata": {},
   "outputs": [
    {
     "name": "stdout",
     "output_type": "stream",
     "text": [
      "CPU times: user 23.4 s, sys: 11.6 s, total: 35 s\n",
      "Wall time: 4.48 s\n"
     ]
    },
    {
     "data": {
      "text/html": [
       "<div>\n",
       "<style scoped>\n",
       "    .dataframe tbody tr th:only-of-type {\n",
       "        vertical-align: middle;\n",
       "    }\n",
       "\n",
       "    .dataframe tbody tr th {\n",
       "        vertical-align: top;\n",
       "    }\n",
       "\n",
       "    .dataframe thead th {\n",
       "        text-align: right;\n",
       "    }\n",
       "</style>\n",
       "<table border=\"1\" class=\"dataframe\">\n",
       "  <thead>\n",
       "    <tr style=\"text-align: right;\">\n",
       "      <th></th>\n",
       "      <th>classical_control_method_calls</th>\n",
       "      <th>classical_actual_queries</th>\n",
       "      <th>classical_expected_queries</th>\n",
       "      <th>quantum_expected_classical_queries</th>\n",
       "      <th>quantum_expected_quantum_queries</th>\n",
       "      <th>n</th>\n",
       "      <th>k</th>\n",
       "      <th>r</th>\n",
       "    </tr>\n",
       "  </thead>\n",
       "  <tbody>\n",
       "    <tr>\n",
       "      <th>0</th>\n",
       "      <td>176</td>\n",
       "      <td>2398</td>\n",
       "      <td>2819.495579</td>\n",
       "      <td>2182.857108</td>\n",
       "      <td>3816.828094</td>\n",
       "      <td>500</td>\n",
       "      <td>3</td>\n",
       "      <td>3</td>\n",
       "    </tr>\n",
       "    <tr>\n",
       "      <th>1</th>\n",
       "      <td>177</td>\n",
       "      <td>3376</td>\n",
       "      <td>3232.572225</td>\n",
       "      <td>2406.739172</td>\n",
       "      <td>3978.449335</td>\n",
       "      <td>500</td>\n",
       "      <td>3</td>\n",
       "      <td>3</td>\n",
       "    </tr>\n",
       "    <tr>\n",
       "      <th>2</th>\n",
       "      <td>202</td>\n",
       "      <td>4251</td>\n",
       "      <td>4424.741429</td>\n",
       "      <td>3635.369840</td>\n",
       "      <td>4080.164884</td>\n",
       "      <td>500</td>\n",
       "      <td>3</td>\n",
       "      <td>3</td>\n",
       "    </tr>\n",
       "    <tr>\n",
       "      <th>3</th>\n",
       "      <td>170</td>\n",
       "      <td>3473</td>\n",
       "      <td>3507.717553</td>\n",
       "      <td>2607.764300</td>\n",
       "      <td>4065.223527</td>\n",
       "      <td>500</td>\n",
       "      <td>3</td>\n",
       "      <td>3</td>\n",
       "    </tr>\n",
       "    <tr>\n",
       "      <th>4</th>\n",
       "      <td>169</td>\n",
       "      <td>3136</td>\n",
       "      <td>2913.619514</td>\n",
       "      <td>2375.653554</td>\n",
       "      <td>3765.630163</td>\n",
       "      <td>500</td>\n",
       "      <td>3</td>\n",
       "      <td>3</td>\n",
       "    </tr>\n",
       "  </tbody>\n",
       "</table>\n",
       "</div>"
      ],
      "text/plain": [
       "   classical_control_method_calls  classical_actual_queries  \\\n",
       "0                             176                      2398   \n",
       "1                             177                      3376   \n",
       "2                             202                      4251   \n",
       "3                             170                      3473   \n",
       "4                             169                      3136   \n",
       "\n",
       "   classical_expected_queries  quantum_expected_classical_queries  \\\n",
       "0                 2819.495579                         2182.857108   \n",
       "1                 3232.572225                         2406.739172   \n",
       "2                 4424.741429                         3635.369840   \n",
       "3                 3507.717553                         2607.764300   \n",
       "4                 2913.619514                         2375.653554   \n",
       "\n",
       "   quantum_expected_quantum_queries    n  k  r  \n",
       "0                       3816.828094  500  3  3  \n",
       "1                       3978.449335  500  3  3  \n",
       "2                       4080.164884  500  3  3  \n",
       "3                       4065.223527  500  3  3  \n",
       "4                       3765.630163  500  3  3  "
      ]
     },
     "execution_count": null,
     "metadata": {},
     "output_type": "execute_result"
    }
   ],
   "source": [
    "%%time\n",
    "data_500 = run(\n",
    "    k=3,\n",
    "    r=3,\n",
    "    n=500,\n",
    "    n_runs=5,\n",
    "    rng=np.random.default_rng(seed=100),\n",
    "    error=10**-5,\n",
    "    steep=False,\n",
    ")\n",
    "data_500"
   ]
  },
  {
   "cell_type": "markdown",
   "metadata": {},
   "source": [
    "## Plotting\n",
    "We use the `PlottingStrategy` wrapper to define our plot parameters and configuration."
   ]
  },
  {
   "cell_type": "code",
   "execution_count": null,
   "metadata": {},
   "outputs": [],
   "source": [
    "from qubrabench.utils.plotting_strategy import PlottingStrategy\n",
    "\n",
    "\n",
    "class Plotter(PlottingStrategy):\n",
    "    def __init__(self):\n",
    "        self.colors[\"\"] = \"blue\"\n",
    "\n",
    "    def get_plot_group_column_names(self):\n",
    "        return [\"k\", \"r\"]\n",
    "\n",
    "    def get_data_group_column_names(self):\n",
    "        return []\n",
    "\n",
    "    def compute_aggregates(self, data, *, quantum_factor):\n",
    "        # compute combined query costs of quantum search\n",
    "        c = data[\"quantum_expected_classical_queries\"]\n",
    "        q = data[\"quantum_expected_quantum_queries\"]\n",
    "        data[\"quantum_cost\"] = c + quantum_factor * q\n",
    "        return data\n",
    "\n",
    "    def x_axis_column(self):\n",
    "        return \"n\"\n",
    "\n",
    "    def x_axis_label(self):\n",
    "        return \"$n$\"\n",
    "\n",
    "    def y_axis_label(self):\n",
    "        return \"Queries\"\n",
    "\n",
    "    def get_column_names_to_plot(self):\n",
    "        return {\n",
    "            \"classical_actual_queries\": (\"Classical Queries\", \"o\"),\n",
    "            \"quantum_cost\": (\"Quantum Queries\", \"x\"),\n",
    "        }"
   ]
  },
  {
   "cell_type": "markdown",
   "metadata": {},
   "source": [
    "We can put all the benchmark stats in a single table and run the plotter. "
   ]
  },
  {
   "cell_type": "code",
   "execution_count": null,
   "metadata": {},
   "outputs": [
    {
     "data": {
      "text/plain": [
       "\u001B[0;31mClass docstring:\u001B[0m\n",
       "    Plot benchmarking data.\n",
       "    \n",
       "    Args:\n",
       "        data: a pandas DataFrame containing all the benchmark data.\n",
       "        quantum_factor: conversion factor for the cost of a quantum query (w.r.t. classical queries).\n",
       "        y_lower_lim: lower limit on the Y-axis (useful if the data starts at a large value)\n",
       "    \n",
       "    Raises:\n",
       "        ValueError: if no columns are given to plot\n",
       "\u001B[0;31mCall docstring:\u001B[0m\n",
       "    Call self as a function."
      ]
     },
     "metadata": {},
     "output_type": "display_data"
    }
   ],
   "source": [
    "%pdoc Plotter.plot"
   ]
  },
  {
   "cell_type": "code",
   "execution_count": null,
   "metadata": {},
   "outputs": [
    {
     "data": {
      "image/png": "[encoded data removed]",
      "text/plain": [
       "<Figure size 640x480 with 1 Axes>"
      ]
     },
     "metadata": {},
     "output_type": "display_data"
    }
   ],
   "source": [
    "data = pd.concat([data_100, data_300, data_500])\n",
    "Plotter().plot(data, quantum_factor=2, y_lower_lim=10)"
   ]
  },
  {
   "cell_type": "markdown",
   "metadata": {},
   "source": [
    "Now we can also run the \"steep\" hillclimber for the above instance sizes, and compare the two benchmarks."
   ]
  },
  {
   "cell_type": "code",
   "execution_count": null,
   "metadata": {},
   "outputs": [
    {
     "name": "stdout",
     "output_type": "stream",
     "text": [
      "CPU times: user 21.4 s, sys: 9.69 s, total: 31.1 s\n",
      "Wall time: 3.96 s\n"
     ]
    }
   ],
   "source": [
    "%%time\n",
    "data_steep = [\n",
    "    run(\n",
    "        k=3,\n",
    "        r=3,\n",
    "        n=n,\n",
    "        n_runs=5,\n",
    "        rng=np.random.default_rng(seed=100),\n",
    "        error=10**-5,\n",
    "        steep=True,\n",
    "    )\n",
    "    for n in [100, 300, 500]\n",
    "]\n",
    "data_steep = pd.concat(data_steep)"
   ]
  },
  {
   "cell_type": "code",
   "execution_count": null,
   "metadata": {},
   "outputs": [],
   "source": [
    "# add an extra column to distinguish the source (i.e. type of hillclimb)\n",
    "full_data = []\n",
    "for d, is_steep in [(data, False), (data_steep, True)]:\n",
    "    d = d.copy()\n",
    "    d.insert(0, \"steep\", is_steep)\n",
    "    full_data.append(d)\n",
    "full_data = pd.concat(full_data)"
   ]
  },
  {
   "cell_type": "markdown",
   "metadata": {},
   "source": [
    "We modify the above plotter a bit as we now want to group the data by column \"steep\" (in the same plot)."
   ]
  },
  {
   "cell_type": "code",
   "execution_count": null,
   "metadata": {},
   "outputs": [
    {
     "data": {
      "image/png": "[encoded data removed]",
      "text/plain": [
       "<Figure size 640x480 with 1 Axes>"
      ]
     },
     "metadata": {},
     "output_type": "display_data"
    }
   ],
   "source": [
    "class FullPlotter(Plotter):\n",
    "    def __init__(self):\n",
    "        self.colors[\"steep = False\"] = \"blue\"\n",
    "        self.colors[\"steep = True\"] = \"red\"\n",
    "\n",
    "    def get_data_group_column_names(self):\n",
    "        return [\"steep\"]\n",
    "\n",
    "\n",
    "FullPlotter().plot(full_data, quantum_factor=2, y_lower_lim=10)"
   ]
  }
 ],
 "metadata": {
  "kernelspec": {
   "display_name": "python3",
   "language": "python",
   "name": "python3"
  }
 },
 "nbformat": 4,
 "nbformat_minor": 4
}
