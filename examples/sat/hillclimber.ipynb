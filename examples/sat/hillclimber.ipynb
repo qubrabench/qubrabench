{
 "cells": [
  {
   "cell_type": "code",
   "execution_count": null,
   "metadata": {},
   "outputs": [],
   "source": [
    "import numpy as np\n",
    "import pandas as pd\n",
    "from IPython.display import display, Math\n",
    "import logging\n",
    "\n",
    "for h in logging.getLogger().handlers:\n",
    "    h.setFormatter(logging.Formatter(\"[%(levelname)s] %(message)s\"))"
   ]
  },
  {
   "cell_type": "markdown",
   "metadata": {},
   "source": [
    "# Benchmarking an algorithm used to solve a MAX-k-SAT problem\n",
    "\n",
    "In this notebook we showcase functionality of qubrabench by implementing and benchmarking a hillclimbing algorithm to solve MAX-k-SAT, as described in https://arxiv.org/abs/2203.04975.\n",
    "<!-- The paper describes two distinct variants of implementing the hillclimber: a simple hillclimber - which uses (quantum) search, and a steep one - which uses (quantum) max finding. -->\n",
    "\n",
    "## Problem: MAX-k-SAT\n",
    "\n",
    "Max-k-SAT is a combinatorial optimization problem that given a list of clauses $(C_{i})^{p}_{i=1}$, each a disjunction of at most $k$ literals, and a set of weights $(w_{i})^{p}_{i=1}$, asks us to maximize the weight of the satisfied clauses,\n",
    "$$\\varphi(x) := \\sum ^{p} _{i=1} w_{i}C_{i}(x),$$\n",
    "over all assignments $x \\in \\{0, 1\\}^{q}$ of the variables. This problem is known to be NP-hard for $k ≥ 2$."
   ]
  },
  {
   "cell_type": "code",
   "execution_count": null,
   "metadata": {},
   "outputs": [],
   "source": [
    "from typing import Sequence\n",
    "from dataclasses import dataclass\n",
    "\n",
    "\n",
    "@dataclass\n",
    "class Clause:\n",
    "    terms: Sequence[int]\n",
    "    weight: int\n",
    "\n",
    "    def is_satisfied(self, assignment: Sequence[bool]) -> bool:\n",
    "        return all(assignment[abs(x) - 1] == (x > 0) for x in self.terms)\n",
    "\n",
    "\n",
    "@dataclass\n",
    "class Instance:\n",
    "    n_var: int\n",
    "    clauses: Sequence[Clause]\n",
    "\n",
    "    def evaluate_weight_of_assignment(self, assignment: Sequence[bool]) -> int:\n",
    "        \"\"\"compute \\varphi(assignment)\"\"\"\n",
    "        return sum(\n",
    "            clause.weight for clause in self.clauses if clause.is_satisfied(assignment)\n",
    "        )"
   ]
  },
  {
   "cell_type": "markdown",
   "metadata": {},
   "source": [
    "### Example Instance\n",
    "\n",
    "Consider the following instance for MAX-3-SAT, with 4 variables $x = (x_{1}, x_{2}, x_{3}, x_{4})$: \n",
    "\n",
    "$$(\\neg x_{1} \\lor \\neg x_{2} \\lor x_{3})_{3} \\land (x_{1} \\lor x_{2} \\lor \\neg x_{4})_{5} \\land (\\neg x_{1} \\lor \\neg x_{2} \\lor x_{4})_{1}$$\n",
    "\n",
    "In the course of the following sections, we will build an algorithm for MAX-$k$-SAT and use this instance to demonstrate how it works."
   ]
  },
  {
   "cell_type": "code",
   "execution_count": null,
   "metadata": {},
   "outputs": [],
   "source": [
    "demo_inst = Instance(\n",
    "    n_var=4,\n",
    "    clauses=[\n",
    "        Clause(terms=[-1, -2, 3], weight=3),\n",
    "        Clause(terms=[1, 2, -4], weight=5),\n",
    "        Clause(terms=[-1, -2, 4], weight=1),\n",
    "    ],\n",
    ")"
   ]
  },
  {
   "cell_type": "markdown",
   "metadata": {},
   "source": [
    "In this representation, we store the index $i$ for each variable $x_i$ in the clause. A negated literal $\\neg x_i$ is stored as $-i$.\n",
    "\n",
    "We can evaluate $\\varphi(x)$ for a given $x$ as follows:"
   ]
  },
  {
   "cell_type": "code",
   "execution_count": null,
   "metadata": {},
   "outputs": [
    {
     "name": "stdout",
     "output_type": "stream",
     "text": [
      "5\n"
     ]
    }
   ],
   "source": [
    "print(demo_inst.evaluate_weight_of_assignment((1, 1, 0, 0)))"
   ]
  },
  {
   "cell_type": "markdown",
   "metadata": {},
   "source": [
    "## Algorithm: Hillclimber\n",
    "\n",
    "<!-- A known algorithm to solve this problem is the hillclimber algorithm, which we will be implementing in this notebook. -->\n",
    "We start with a random assignment $x \\in \\{0, 1\\}^{n}$.\n",
    "We then repeatedly look for improvements (higher values) of $\\varphi$ in the _neighbourhood_ $N(x)$ of the current assignment $x$, and pick one if it exists (i.e. set $x$ to the chosen neighbour, and repeat).\n",
    "Here, $N(x)$ is the set of all assignments that differ from $x$ in exactly one bit.\n",
    "\n",
    "We can have different variants of the hillclimber based on how we pick a _better_ neighbour.\n",
    "In this notebook, we discuss the **steep** hillclimber: pick the neighbour $y$ with the highest value of $\\varphi(y)$.\n",
    "$$x' = \\arg\\max_{y \\in N(x)}(\\varphi(y))$$\n",
    "If $\\varphi(x') > \\varphi(x)$, we set $x \\leftarrow x'$ and repeat, otherwise we stop.\n",
    "\n",
    "<!-- ## Solving our problem instance\n",
    "\n",
    "As mentioned above, we can use a hillclimber algorithm to solve the MAX-k-SAT problem. For the purpose of simplicity within this notebook, we will be focussing on the steep hillclimber. Side note: This repository also contains a [hillclimber algorithm](https://github.com/qubrabench/qubrabench/blob/notebooks/examples/sat/bench_hillclimber.py), which uses a more advanced approach and has much better performance than our approach. However, as we are focussing on the functionality of qubrabench in this notebook, this more complex implementation will not be covered in more detail.\n",
    " -->\n",
    " <!-- \n",
    "We will assume, that $d=1$, which enables us to simplify some of our functions. This means, when we look at the neighbourhood of a given variable assignment $y$, we will always be looking at assignments $z\\in N_{1}(y)$, that differ from our current assignment in exactly one place. -->"
   ]
  },
  {
   "cell_type": "markdown",
   "metadata": {},
   "source": [
    "To get our starting assignment, we implement a function which randomly generates a sequence of zeros and ones. "
   ]
  },
  {
   "cell_type": "code",
   "execution_count": null,
   "metadata": {},
   "outputs": [
    {
     "name": "stdout",
     "output_type": "stream",
     "text": [
      "Random assignment: (0, 1, 1, 0), which means:\n"
     ]
    },
    {
     "data": {
      "text/latex": [
       "$\\displaystyle x_1 = 0, x_2 = 1, x_3 = 1, x_4 = 0$"
      ],
      "text/plain": [
       "<IPython.core.display.Math object>"
      ]
     },
     "execution_count": null,
     "metadata": {},
     "output_type": "execute_result"
    }
   ],
   "source": [
    "def generate_random_assignment(n_var: int, *, rng=np.random.default_rng(42)):\n",
    "    return tuple(rng.choice((0, 1), size=n_var))\n",
    "\n",
    "\n",
    "random_assignment = generate_random_assignment(demo_inst.n_var)\n",
    "print(f\"Random assignment: {random_assignment}, which means:\")\n",
    "\n",
    "Math(\n",
    "    \", \".join(\n",
    "        f\"x_{i + 1} = {random_assignment[i]}\" for i, x_i in enumerate(random_assignment)\n",
    "    )\n",
    ")"
   ]
  },
  {
   "cell_type": "markdown",
   "metadata": {},
   "source": [
    "We now need to compute the neighbourhood set $N(x)$ for a given assignment $x$."
   ]
  },
  {
   "cell_type": "code",
   "execution_count": null,
   "metadata": {},
   "outputs": [
    {
     "name": "stdout",
     "output_type": "stream",
     "text": [
      "[(1, 0, 0, 0), (0, 1, 0, 0), (0, 0, 1, 0), (0, 0, 0, 1)]\n"
     ]
    }
   ],
   "source": [
    "def get_neighbours(x):\n",
    "    neighbours = []\n",
    "    for i, x_i in enumerate(x):\n",
    "        y = list(x)\n",
    "        y[i] = 1 - x_i\n",
    "        neighbours.append(tuple(y))\n",
    "    return neighbours\n",
    "\n",
    "\n",
    "print(get_neighbours((0, 0, 0, 0)))"
   ]
  },
  {
   "cell_type": "markdown",
   "metadata": {},
   "source": [
    "We can now pick the _best_ neighbour for a given assignment $x$:"
   ]
  },
  {
   "cell_type": "code",
   "execution_count": null,
   "metadata": {},
   "outputs": [
    {
     "name": "stdout",
     "output_type": "stream",
     "text": [
      "Best neighbour: (0, 0, 1, 0), weight = 3\n"
     ]
    }
   ],
   "source": [
    "def find_best_neighbour(x: Sequence[bool], inst: Instance):\n",
    "    return max(\n",
    "        get_neighbours(x),\n",
    "        key=inst.evaluate_weight_of_assignment,\n",
    "    )\n",
    "\n",
    "\n",
    "best_neighbour = find_best_neighbour((0, 0, 0, 0), demo_inst)\n",
    "neighbour_weight = demo_inst.evaluate_weight_of_assignment(best_neighbour)\n",
    "\n",
    "print(f\"Best neighbour: {best_neighbour}, weight = {neighbour_weight}\")"
   ]
  },
  {
   "cell_type": "markdown",
   "metadata": {},
   "source": [
    "With the above subroutines defined, we can now implement the hillclimber algorithm."
   ]
  },
  {
   "cell_type": "code",
   "execution_count": null,
   "metadata": {},
   "outputs": [
    {
     "name": "stderr",
     "output_type": "stream",
     "text": [
      "[INFO] Starting with assignment: (0, 1, 1, 0), with weight 0\n",
      "[INFO] Found better neighbour: (1, 1, 1, 0), with weight 5\n",
      "[INFO] Completed. Optimal assignment: (1, 1, 1, 0). Weight: 5\n"
     ]
    },
    {
     "data": {
      "text/plain": [
       "(1, 1, 1, 0)"
      ]
     },
     "execution_count": null,
     "metadata": {},
     "output_type": "execute_result"
    }
   ],
   "source": [
    "def hill_climber_sat(\n",
    "    inst: Instance,\n",
    "    *,\n",
    "    rng=np.random.default_rng(42),\n",
    "):\n",
    "    # starting assignment\n",
    "    x = generate_random_assignment(inst.n_var, rng=rng)\n",
    "    weight = inst.evaluate_weight_of_assignment(x)\n",
    "    logging.info(f\"Starting with assignment: {x}, with weight {weight}\")\n",
    "\n",
    "    while True:\n",
    "        x_new = find_best_neighbour(x, inst)\n",
    "        neighbour_weight = inst.evaluate_weight_of_assignment(x_new)\n",
    "        if neighbour_weight > weight:\n",
    "            x, weight = x_new, neighbour_weight\n",
    "            logging.info(f\"Found better neighbour: {x}, with weight {weight}\")\n",
    "        else:\n",
    "            break\n",
    "\n",
    "    logging.info(f\"Completed. Optimal assignment: {x}. Weight: {weight}\")\n",
    "    return x\n",
    "\n",
    "\n",
    "logging.getLogger().setLevel(logging.INFO)\n",
    "hill_climber_sat(demo_inst)"
   ]
  },
  {
   "cell_type": "markdown",
   "metadata": {},
   "source": [
    "## Spotting a pattern: Max\n",
    "\n",
    "If we take another look at this approach, we will notice, that we calculate the maximum value of a set of numbers within the find_better_assignment function. In this case the maximum weight amongst the weights of all neighbours using the Python max function. \n",
    "\n",
    "As it happens there is also a very well known max function, which runs on quantum computers, as described in the paper mentioned in the introduction. With this in mind, the question naturally occurs, what would happen if we ran the computation of max on a quantum machine using this quantum max function and if this would have any performance improvements.\n",
    "\n",
    "This library offers a function, which enables a user to simulate doing exactly this and to keep track of runtime stats and approximations for quantum call counts, if the quantum max function was used and run on a quantum machine.\n",
    "\n",
    "## Max Function\n",
    "\n",
    "The library includes a set of common functions you would need in various circumstances, for example the search and the max function. These return the result you would expect from other implementations of these functions, and at the same time add in quantum benchmarking functionality. This simultaneously makes it easier to understand the use-cases of the library and makes it relatively easy to adapt existing code to use quantum benchmarking.\n",
    "\n",
    "When we talk about quantum benchmarking here, we mean approximating the amount of calls needed to execute the function with identical parameters on a quantum computer. This library achieves this by counting the calls run on the classical (in this case most likely your) machine and basing performance assumptions on these measurements. All provided functions in qubrabench currently require a stats object, in which these collected statistics and approximations are stored.\n",
    "\n",
    "Let's take a look at the docstrings of the function we will need to solve our problem - max."
   ]
  },
  {
   "cell_type": "code",
   "execution_count": null,
   "metadata": {},
   "outputs": [],
   "source": [
    "from qubrabench.algorithms.max import max\n",
    "\n",
    "%pdoc max"
   ]
  },
  {
   "cell_type": "markdown",
   "metadata": {},
   "source": [
    "As you will notice, the arguments for this max function are very similar to the Python max function. Indeed, one could run this function instead of max with the same parameters and would still get the wanted functionality. However, it is also possible to supply this function with two additional arguments - error and stats - which enables us to keep track of the calculated statistics.\n",
    "\n",
    "To demonstrate this, we will rewrite the find_better_assignment function from above to use the qubrabench max function. This is simply done by importing this function with the name max. We also create a stats object as provided by qubrabench and pass this to the max function together with a value for the error argument. Now we can run the same hill_climber_sat function we defined above and take a look at the stats object after it ran using the redefined find_better_assignment function."
   ]
  },
  {
   "cell_type": "code",
   "execution_count": null,
   "metadata": {},
   "outputs": [
    {
     "name": "stderr",
     "output_type": "stream",
     "text": [
      "[INFO] Starting with assignment: (0, 1, 0, 1), with weight 0\n",
      "[INFO] Found better neighbour: (0, 0, 0, 1), with weight 1\n",
      "[INFO] Found better neighbour: (0, 0, 1, 1), with weight 4\n",
      "[INFO] Completed. Optimal assignment: (0, 0, 1, 1). Weight: 4\n"
     ]
    },
    {
     "name": "stdout",
     "output_type": "stream",
     "text": [
      "\n",
      "Classical Actual Queries: 12\n",
      "Expected Quantum Queries: 138.8478\n"
     ]
    }
   ],
   "source": [
    "from qubrabench.stats import QueryStats\n",
    "\n",
    "stats = QueryStats()\n",
    "\n",
    "\n",
    "def find_best_neighbour(x, inst: Instance):\n",
    "    return max(\n",
    "        get_neighbours(x),\n",
    "        key=inst.evaluate_weight_of_assignment,\n",
    "        error=10**-3,  # new parameter!\n",
    "        stats=stats,  # new parameter!\n",
    "    )\n",
    "\n",
    "\n",
    "hill_climber_sat(demo_inst)\n",
    "\n",
    "print()\n",
    "print(f\"Classical Actual Queries: {stats.classical_actual_queries}\")\n",
    "print(f\"Expected Quantum Queries: {stats.quantum_expected_quantum_queries}\")"
   ]
  },
  {
   "cell_type": "markdown",
   "metadata": {},
   "source": [
    "As we can see in this example, the effort to use the qubrabench max function was very minimal and hardly invasive in our code. At the same time, it enabled us to gain valuable insight into our query statistics regarding the use of a quantum algorithm."
   ]
  },
  {
   "cell_type": "markdown",
   "metadata": {},
   "source": [
    "## Benchmarking random instances\n",
    "\n",
    "For the demo instance, we observe that using quantum max finding actually results in a worse query count. \n",
    "It would now be interesting to see how this scales for larger instances: we will now generate some random instances for different values of $n$ and compute the states."
   ]
  },
  {
   "cell_type": "code",
   "execution_count": null,
   "metadata": {},
   "outputs": [
    {
     "data": {
      "text/html": [
       "<div>\n",
       "<style scoped>\n",
       "    .dataframe tbody tr th:only-of-type {\n",
       "        vertical-align: middle;\n",
       "    }\n",
       "\n",
       "    .dataframe tbody tr th {\n",
       "        vertical-align: top;\n",
       "    }\n",
       "\n",
       "    .dataframe thead th {\n",
       "        text-align: right;\n",
       "    }\n",
       "</style>\n",
       "<table border=\"1\" class=\"dataframe\">\n",
       "  <thead>\n",
       "    <tr style=\"text-align: right;\">\n",
       "      <th></th>\n",
       "      <th>k</th>\n",
       "      <th>n</th>\n",
       "      <th>r</th>\n",
       "      <th>C_actual</th>\n",
       "      <th>C</th>\n",
       "      <th>Q_c</th>\n",
       "      <th>Q_q</th>\n",
       "    </tr>\n",
       "  </thead>\n",
       "  <tbody>\n",
       "    <tr>\n",
       "      <th>0</th>\n",
       "      <td>3</td>\n",
       "      <td>10</td>\n",
       "      <td>3</td>\n",
       "      <td>40</td>\n",
       "      <td>40</td>\n",
       "      <td>0</td>\n",
       "      <td>631.732613</td>\n",
       "    </tr>\n",
       "    <tr>\n",
       "      <th>1</th>\n",
       "      <td>3</td>\n",
       "      <td>10</td>\n",
       "      <td>3</td>\n",
       "      <td>70</td>\n",
       "      <td>70</td>\n",
       "      <td>0</td>\n",
       "      <td>1105.532073</td>\n",
       "    </tr>\n",
       "    <tr>\n",
       "      <th>2</th>\n",
       "      <td>3</td>\n",
       "      <td>10</td>\n",
       "      <td>3</td>\n",
       "      <td>60</td>\n",
       "      <td>60</td>\n",
       "      <td>0</td>\n",
       "      <td>947.598920</td>\n",
       "    </tr>\n",
       "  </tbody>\n",
       "</table>\n",
       "</div>"
      ],
      "text/plain": [
       "   k   n  r  C_actual   C  Q_c          Q_q\n",
       "0  3  10  3        40  40    0   631.732613\n",
       "1  3  10  3        70  70    0  1105.532073\n",
       "2  3  10  3        60  60    0   947.598920"
      ]
     },
     "execution_count": null,
     "metadata": {},
     "output_type": "execute_result"
    }
   ],
   "source": [
    "def benchmark_random_instances(\n",
    "    k: int,\n",
    "    n: int,\n",
    "    r: int,\n",
    "    *,\n",
    "    n_runs: int = 3,\n",
    "    rng=np.random.default_rng(seed=42),\n",
    ") -> pd.DataFrame:\n",
    "    assert n_runs >= 1\n",
    "    assert 3 <= r <= 6\n",
    "\n",
    "    clause_count = n * r\n",
    "\n",
    "    history = []\n",
    "    for run_ix in range(n_runs):\n",
    "        global stats\n",
    "        stats = QueryStats()  # reset\n",
    "\n",
    "        # Generate random problem instance\n",
    "        inst = Instance(\n",
    "            n_var=n,\n",
    "            clauses=[\n",
    "                Clause(\n",
    "                    terms=rng.choice([-1, 1])\n",
    "                    * rng.integers(1, n, endpoint=True, size=k),\n",
    "                    weight=rng.integers(1, 21),\n",
    "                )\n",
    "                for _ in range(clause_count)\n",
    "            ],\n",
    "        )\n",
    "\n",
    "        hill_climber_sat(inst)\n",
    "\n",
    "        # save record to history\n",
    "        rec = {\n",
    "            \"k\": k,\n",
    "            \"n\": n,\n",
    "            \"r\": r,\n",
    "            \"C_actual\": stats.classical_actual_queries,\n",
    "            \"C\": stats.classical_expected_queries,\n",
    "            \"Q_c\": stats.quantum_expected_classical_queries,\n",
    "            \"Q_q\": stats.quantum_expected_quantum_queries,\n",
    "        }\n",
    "        history.append(rec)\n",
    "\n",
    "    # return pandas dataframe\n",
    "    df = pd.DataFrame(\n",
    "        [list(row.values()) for row in history], columns=list(history[0].keys())\n",
    "    )\n",
    "    return df\n",
    "\n",
    "\n",
    "logging.getLogger().setLevel(logging.WARN)\n",
    "benchmark_random_instances(k=3, n=10, r=3)"
   ]
  },
  {
   "cell_type": "markdown",
   "metadata": {},
   "source": [
    "We can now run the hillclimber on random instances of various sizes and analyze the benchmark data. "
   ]
  },
  {
   "cell_type": "code",
   "execution_count": null,
   "metadata": {},
   "outputs": [],
   "source": [
    "data = pd.concat(\n",
    "    [benchmark_random_instances(k=3, n=n, r=3) for n in range(10, 100, 10)]\n",
    ")\n",
    "data[\"ratio (Q/C)\"] = data[\"Q_q\"] / data[\"C\"]\n",
    "data"
   ]
  },
  {
   "cell_type": "markdown",
   "metadata": {},
   "source": [
    "We can observe that the ratio Q/C decreases slowly as the problem size increases.\n",
    "This points us to a trend that for sufficiently large instances, the quantum algorithm outperforms the classical one.\n",
    "\n",
    "As the above implementation was written for easy exposition, it is quite slow.\n",
    "We will now instead invoke a more optimized reference implementation from the codebase to produce stats for larger instances, hoping to see the \"crossing point\" where the quantum algorithm beats the classical one."
   ]
  },
  {
   "cell_type": "markdown",
   "metadata": {},
   "source": [
    "## Plotting\n",
    "\n",
    "Before we proceed to benchmark large instances, let's take a look at how to visualize the benchmark data generated above.\n",
    "Qubrabench provides some basic wrappers to plot such data to compare classical and quantum queries, with support for grouping by instance parameters."
   ]
  },
  {
   "cell_type": "code",
   "execution_count": null,
   "metadata": {},
   "outputs": [],
   "source": [
    "from qubrabench.utils.plotting import BasicPlottingStrategy\n",
    "\n",
    "\n",
    "class Plotter(BasicPlottingStrategy):\n",
    "    def __init__(self):\n",
    "        # TODO: explain\n",
    "        self.colors[\"\"] = \"blue\"\n",
    "\n",
    "    def compute_aggregates(self, data, *, quantum_factor):\n",
    "        # compute combined query costs of quantum search\n",
    "        data[\"Q\"] = data[\"Q_c\"] + quantum_factor * data[\"Q_q\"]\n",
    "        return data\n",
    "\n",
    "    def x_axis_column(self):\n",
    "        return \"n\"\n",
    "\n",
    "    def x_axis_label(self):\n",
    "        return \"$n$\"\n",
    "\n",
    "    def y_axis_label(self):\n",
    "        return \"Queries\"\n",
    "\n",
    "    def get_column_names_to_plot(self):\n",
    "        return {\n",
    "            \"C\": (\"Classical Queries\", \"o\"),\n",
    "            \"Q\": (\"Quantum Queries\", \"x\"),\n",
    "        }"
   ]
  },
  {
   "cell_type": "code",
   "execution_count": null,
   "metadata": {},
   "outputs": [
    {
     "data": {
      "image/png": "[encoded data removed]",
      "text/plain": [
       "<Figure size 640x480 with 1 Axes>"
      ]
     },
     "metadata": {},
     "output_type": "display_data"
    }
   ],
   "source": [
    "Plotter().plot(data, quantum_factor=2)"
   ]
  },
  {
   "cell_type": "markdown",
   "metadata": {},
   "source": [
    "### Benchmarking large instances\n",
    "We can now benchmark larger instances using the reference implementation and visualize the stats."
   ]
  },
  {
   "cell_type": "code",
   "execution_count": null,
   "metadata": {},
   "outputs": [],
   "source": [
    "from hillclimber import run\n",
    "\n",
    "rng = np.random.default_rng(seed=42)\n",
    "data_ref = pd.concat(\n",
    "    [run(k=3, n=n, r=3, n_runs=3, rng=rng, error=1e-3) for n in range(50, 700, 50)]\n",
    ")"
   ]
  },
  {
   "cell_type": "code",
   "execution_count": null,
   "metadata": {},
   "outputs": [
    {
     "data": {
      "text/plain": [
       "Index(['classical_control_method_calls', 'classical_actual_queries',\n",
       "       'classical_expected_queries', 'quantum_expected_classical_queries',\n",
       "       'quantum_expected_quantum_queries', 'n', 'k', 'r'],\n",
       "      dtype='object')"
      ]
     },
     "execution_count": null,
     "metadata": {},
     "output_type": "execute_result"
    }
   ],
   "source": [
    "data_ref.columns"
   ]
  },
  {
   "cell_type": "code",
   "execution_count": null,
   "metadata": {},
   "outputs": [],
   "source": [
    "class FullPlotter(Plotter):\n",
    "    def compute_aggregates(self, data, *, quantum_factor):\n",
    "        # compute combined query costs of quantum search\n",
    "        Q_c = data[\"quantum_expected_classical_queries\"]\n",
    "        Q_q = data[\"quantum_expected_quantum_queries\"]\n",
    "        data[\"C\"] = data[\"classical_actual_queries\"]\n",
    "        data[\"Q\"] = Q_c + quantum_factor * Q_q\n",
    "        return data"
   ]
  },
  {
   "cell_type": "code",
   "execution_count": null,
   "metadata": {},
   "outputs": [
    {
     "data": {
      "image/png": "[encoded data removed]",
      "text/plain": [
       "<Figure size 640x480 with 1 Axes>"
      ]
     },
     "metadata": {},
     "output_type": "display_data"
    }
   ],
   "source": [
    "FullPlotter().plot(data_ref, quantum_factor=2, y_lower_lim=100)"
   ]
  },
  {
   "cell_type": "markdown",
   "metadata": {},
   "source": [
    "As we can see here, we need less queries for the simple hillclimber for our problem instances. The simple hillclimber also shows more apparent possibilities for performance improvements through quantum algorithms, specifically Grover search in that case. This can be seen even more clearly in the plots provided in this paper on page 28: https://arxiv.org/abs/2203.04975"
   ]
  }
 ],
 "metadata": {
  "kernelspec": {
   "display_name": "python3",
   "language": "python",
   "name": "python3"
  }
 },
 "nbformat": 4,
 "nbformat_minor": 4
}
