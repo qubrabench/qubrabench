{
 "cells": [
  {
   "cell_type": "code",
   "execution_count": 3,
   "metadata": {
    "ExecuteTime": {
     "end_time": "2023-08-03T20:30:40.828484Z",
     "start_time": "2023-08-03T20:30:40.826022Z"
    },
    "scrolled": true
   },
   "outputs": [
    {
     "ename": "ModuleNotFoundError",
     "evalue": "No module named 'jupyter_black'",
     "output_type": "error",
     "traceback": [
      "\u001B[0;31m---------------------------------------------------------------------------\u001B[0m",
      "\u001B[0;31mModuleNotFoundError\u001B[0m                       Traceback (most recent call last)",
      "Cell \u001B[0;32mIn[3], line 1\u001B[0m\n\u001B[0;32m----> 1\u001B[0m \u001B[43mget_ipython\u001B[49m\u001B[43m(\u001B[49m\u001B[43m)\u001B[49m\u001B[38;5;241;43m.\u001B[39;49m\u001B[43mrun_line_magic\u001B[49m\u001B[43m(\u001B[49m\u001B[38;5;124;43m'\u001B[39;49m\u001B[38;5;124;43mload_ext\u001B[39;49m\u001B[38;5;124;43m'\u001B[39;49m\u001B[43m,\u001B[49m\u001B[43m \u001B[49m\u001B[38;5;124;43m'\u001B[39;49m\u001B[38;5;124;43mjupyter_black\u001B[39;49m\u001B[38;5;124;43m'\u001B[39;49m\u001B[43m)\u001B[49m\n",
      "File \u001B[0;32m~/PycharmProjects/qubrabench/venv/lib/python3.11/site-packages/IPython/core/interactiveshell.py:2417\u001B[0m, in \u001B[0;36mInteractiveShell.run_line_magic\u001B[0;34m(self, magic_name, line, _stack_depth)\u001B[0m\n\u001B[1;32m   2415\u001B[0m     kwargs[\u001B[38;5;124m'\u001B[39m\u001B[38;5;124mlocal_ns\u001B[39m\u001B[38;5;124m'\u001B[39m] \u001B[38;5;241m=\u001B[39m \u001B[38;5;28mself\u001B[39m\u001B[38;5;241m.\u001B[39mget_local_scope(stack_depth)\n\u001B[1;32m   2416\u001B[0m \u001B[38;5;28;01mwith\u001B[39;00m \u001B[38;5;28mself\u001B[39m\u001B[38;5;241m.\u001B[39mbuiltin_trap:\n\u001B[0;32m-> 2417\u001B[0m     result \u001B[38;5;241m=\u001B[39m \u001B[43mfn\u001B[49m\u001B[43m(\u001B[49m\u001B[38;5;241;43m*\u001B[39;49m\u001B[43margs\u001B[49m\u001B[43m,\u001B[49m\u001B[43m \u001B[49m\u001B[38;5;241;43m*\u001B[39;49m\u001B[38;5;241;43m*\u001B[39;49m\u001B[43mkwargs\u001B[49m\u001B[43m)\u001B[49m\n\u001B[1;32m   2419\u001B[0m \u001B[38;5;66;03m# The code below prevents the output from being displayed\u001B[39;00m\n\u001B[1;32m   2420\u001B[0m \u001B[38;5;66;03m# when using magics with decodator @output_can_be_silenced\u001B[39;00m\n\u001B[1;32m   2421\u001B[0m \u001B[38;5;66;03m# when the last Python token in the expression is a ';'.\u001B[39;00m\n\u001B[1;32m   2422\u001B[0m \u001B[38;5;28;01mif\u001B[39;00m \u001B[38;5;28mgetattr\u001B[39m(fn, magic\u001B[38;5;241m.\u001B[39mMAGIC_OUTPUT_CAN_BE_SILENCED, \u001B[38;5;28;01mFalse\u001B[39;00m):\n",
      "File \u001B[0;32m~/PycharmProjects/qubrabench/venv/lib/python3.11/site-packages/IPython/core/magics/extension.py:33\u001B[0m, in \u001B[0;36mExtensionMagics.load_ext\u001B[0;34m(self, module_str)\u001B[0m\n\u001B[1;32m     31\u001B[0m \u001B[38;5;28;01mif\u001B[39;00m \u001B[38;5;129;01mnot\u001B[39;00m module_str:\n\u001B[1;32m     32\u001B[0m     \u001B[38;5;28;01mraise\u001B[39;00m UsageError(\u001B[38;5;124m'\u001B[39m\u001B[38;5;124mMissing module name.\u001B[39m\u001B[38;5;124m'\u001B[39m)\n\u001B[0;32m---> 33\u001B[0m res \u001B[38;5;241m=\u001B[39m \u001B[38;5;28;43mself\u001B[39;49m\u001B[38;5;241;43m.\u001B[39;49m\u001B[43mshell\u001B[49m\u001B[38;5;241;43m.\u001B[39;49m\u001B[43mextension_manager\u001B[49m\u001B[38;5;241;43m.\u001B[39;49m\u001B[43mload_extension\u001B[49m\u001B[43m(\u001B[49m\u001B[43mmodule_str\u001B[49m\u001B[43m)\u001B[49m\n\u001B[1;32m     35\u001B[0m \u001B[38;5;28;01mif\u001B[39;00m res \u001B[38;5;241m==\u001B[39m \u001B[38;5;124m'\u001B[39m\u001B[38;5;124malready loaded\u001B[39m\u001B[38;5;124m'\u001B[39m:\n\u001B[1;32m     36\u001B[0m     \u001B[38;5;28mprint\u001B[39m(\u001B[38;5;124m\"\u001B[39m\u001B[38;5;124mThe \u001B[39m\u001B[38;5;132;01m%s\u001B[39;00m\u001B[38;5;124m extension is already loaded. To reload it, use:\u001B[39m\u001B[38;5;124m\"\u001B[39m \u001B[38;5;241m%\u001B[39m module_str)\n",
      "File \u001B[0;32m~/PycharmProjects/qubrabench/venv/lib/python3.11/site-packages/IPython/core/extensions.py:76\u001B[0m, in \u001B[0;36mExtensionManager.load_extension\u001B[0;34m(self, module_str)\u001B[0m\n\u001B[1;32m     69\u001B[0m \u001B[38;5;250m\u001B[39m\u001B[38;5;124;03m\"\"\"Load an IPython extension by its module name.\u001B[39;00m\n\u001B[1;32m     70\u001B[0m \n\u001B[1;32m     71\u001B[0m \u001B[38;5;124;03mReturns the string \"already loaded\" if the extension is already loaded,\u001B[39;00m\n\u001B[1;32m     72\u001B[0m \u001B[38;5;124;03m\"no load function\" if the module doesn't have a load_ipython_extension\u001B[39;00m\n\u001B[1;32m     73\u001B[0m \u001B[38;5;124;03mfunction, or None if it succeeded.\u001B[39;00m\n\u001B[1;32m     74\u001B[0m \u001B[38;5;124;03m\"\"\"\u001B[39;00m\n\u001B[1;32m     75\u001B[0m \u001B[38;5;28;01mtry\u001B[39;00m:\n\u001B[0;32m---> 76\u001B[0m     \u001B[38;5;28;01mreturn\u001B[39;00m \u001B[38;5;28;43mself\u001B[39;49m\u001B[38;5;241;43m.\u001B[39;49m\u001B[43m_load_extension\u001B[49m\u001B[43m(\u001B[49m\u001B[43mmodule_str\u001B[49m\u001B[43m)\u001B[49m\n\u001B[1;32m     77\u001B[0m \u001B[38;5;28;01mexcept\u001B[39;00m \u001B[38;5;167;01mModuleNotFoundError\u001B[39;00m:\n\u001B[1;32m     78\u001B[0m     \u001B[38;5;28;01mif\u001B[39;00m module_str \u001B[38;5;129;01min\u001B[39;00m BUILTINS_EXTS:\n",
      "File \u001B[0;32m~/PycharmProjects/qubrabench/venv/lib/python3.11/site-packages/IPython/core/extensions.py:91\u001B[0m, in \u001B[0;36mExtensionManager._load_extension\u001B[0;34m(self, module_str)\u001B[0m\n\u001B[1;32m     89\u001B[0m \u001B[38;5;28;01mwith\u001B[39;00m \u001B[38;5;28mself\u001B[39m\u001B[38;5;241m.\u001B[39mshell\u001B[38;5;241m.\u001B[39mbuiltin_trap:\n\u001B[1;32m     90\u001B[0m     \u001B[38;5;28;01mif\u001B[39;00m module_str \u001B[38;5;129;01mnot\u001B[39;00m \u001B[38;5;129;01min\u001B[39;00m sys\u001B[38;5;241m.\u001B[39mmodules:\n\u001B[0;32m---> 91\u001B[0m         mod \u001B[38;5;241m=\u001B[39m \u001B[43mimport_module\u001B[49m\u001B[43m(\u001B[49m\u001B[43mmodule_str\u001B[49m\u001B[43m)\u001B[49m\n\u001B[1;32m     92\u001B[0m     mod \u001B[38;5;241m=\u001B[39m sys\u001B[38;5;241m.\u001B[39mmodules[module_str]\n\u001B[1;32m     93\u001B[0m     \u001B[38;5;28;01mif\u001B[39;00m \u001B[38;5;28mself\u001B[39m\u001B[38;5;241m.\u001B[39m_call_load_ipython_extension(mod):\n",
      "File \u001B[0;32m/Library/Frameworks/Python.framework/Versions/3.11/lib/python3.11/importlib/__init__.py:126\u001B[0m, in \u001B[0;36mimport_module\u001B[0;34m(name, package)\u001B[0m\n\u001B[1;32m    124\u001B[0m             \u001B[38;5;28;01mbreak\u001B[39;00m\n\u001B[1;32m    125\u001B[0m         level \u001B[38;5;241m+\u001B[39m\u001B[38;5;241m=\u001B[39m \u001B[38;5;241m1\u001B[39m\n\u001B[0;32m--> 126\u001B[0m \u001B[38;5;28;01mreturn\u001B[39;00m \u001B[43m_bootstrap\u001B[49m\u001B[38;5;241;43m.\u001B[39;49m\u001B[43m_gcd_import\u001B[49m\u001B[43m(\u001B[49m\u001B[43mname\u001B[49m\u001B[43m[\u001B[49m\u001B[43mlevel\u001B[49m\u001B[43m:\u001B[49m\u001B[43m]\u001B[49m\u001B[43m,\u001B[49m\u001B[43m \u001B[49m\u001B[43mpackage\u001B[49m\u001B[43m,\u001B[49m\u001B[43m \u001B[49m\u001B[43mlevel\u001B[49m\u001B[43m)\u001B[49m\n",
      "File \u001B[0;32m<frozen importlib._bootstrap>:1206\u001B[0m, in \u001B[0;36m_gcd_import\u001B[0;34m(name, package, level)\u001B[0m\n",
      "File \u001B[0;32m<frozen importlib._bootstrap>:1178\u001B[0m, in \u001B[0;36m_find_and_load\u001B[0;34m(name, import_)\u001B[0m\n",
      "File \u001B[0;32m<frozen importlib._bootstrap>:1142\u001B[0m, in \u001B[0;36m_find_and_load_unlocked\u001B[0;34m(name, import_)\u001B[0m\n",
      "\u001B[0;31mModuleNotFoundError\u001B[0m: No module named 'jupyter_black'"
     ]
    }
   ],
   "source": [
    "%load_ext jupyter_black"
   ]
  },
  {
   "cell_type": "markdown",
   "metadata": {
    "collapsed": false,
    "jupyter": {
     "outputs_hidden": false
    }
   },
   "source": [
    "# Benchmarking an algorithm for MAX-k-SAT\n",
    "\n",
    "We showcase qubrabench by implementing and benchmarking a hillclimbing algorithm for MAX-k-SAT, described in https://arxiv.org/abs/2203.04975.\n",
    "The paper describes two variants: a normal hillclimber - which uses (quantum) search, and a steep one - which use (quantum) max finding.\n",
    "\n",
    "## Search and Max Functions\n",
    "\n",
    "Before we address the problem at hand, it is important to understand the functionality qubrabench provides.\n",
    "\n",
    "The library includes a set of common functions you would need in various circumstances, for example the search and the max function. These return the result you would expect from other implementations of these functions, and at the same time add in quantum benchmarking functionality. This simultaneously makes it easier to understand the use-cases of the library and makes it relatively easy to adapt existing code to use quantum benchmarking.\n",
    "\n",
    "When we talk about quantum benchmarking here, we mean approximating the amount of calls needed to execute the function with identical parameters on a quantum computer. This library achieves this by counting the calls run on the classical (in this case most likely your) machine and basing performance assumptions on these measurements. All provided functions in qubrabench currently require a stats object, in which these collected statistics and approximations are stored.\n",
    "\n",
    "Let's take a look at the docstrings of the functions we will need to solve our problem - search and max.\n",
    "\n"
   ]
  },
  {
   "cell_type": "code",
   "execution_count": 2,
   "metadata": {
    "collapsed": false,
    "jupyter": {
     "outputs_hidden": false
    },
    "pycharm": {
     "is_executing": true
    }
   },
   "outputs": [
    {
     "data": {
      "text/plain": [
       "\u001B[0;31mClass docstring:\u001B[0m\n",
       "    Search a list in random order for an element satisfying the given predicate, while keeping track of query statistics.\n",
       "    \n",
       "    >>> search([1,2,3,4,5], lambda x: x % 2 == 0, rng=np.random.default_rng(1))\n",
       "    2\n",
       "    \n",
       "    Args:\n",
       "        iterable: iterable to be searched over\n",
       "        key: function to test if an element satisfies the predicate\n",
       "        rng: np.random.Generator instance as source of randomness\n",
       "        error: upper bound on the failure probability of the quantum algorithm.\n",
       "        max_classical_queries: maximum number of classical queries before entering the quantum part of the algorithm.\n",
       "        stats: keeps track of statistics.\n",
       "    \n",
       "    Raises:\n",
       "        ValueError: Raised when the error bound is not provided and statistics cannot be calculated.\n",
       "    \n",
       "    Returns:\n",
       "        An element that satisfies the predicate, or None if no such argument can be found.\n",
       "\u001B[0;31mCall docstring:\u001B[0m\n",
       "    Call self as a function."
      ]
     },
     "metadata": {},
     "output_type": "display_data"
    }
   ],
   "source": [
    "from qubrabench.algorithms.search import search as qsearch\n",
    "\n",
    "%pdoc qsearch"
   ]
  },
  {
   "cell_type": "markdown",
   "source": [
    "To understand the search implementation, we can have a look at the example provided in the docstring. In this case, we call the search function on an array (iterable) containing numbers one to five. We are searching for the first even number, by providing the key function. This function acts as a predicate to classify the iterable entries. In this case, the first even number is 2, thus we get this as the output of the function call."
   ],
   "metadata": {
    "collapsed": false
   }
  },
  {
   "cell_type": "code",
   "execution_count": 10,
   "outputs": [
    {
     "data": {
      "text/plain": "2"
     },
     "execution_count": 10,
     "metadata": {},
     "output_type": "execute_result"
    }
   ],
   "source": [
    "from qubrabench.algorithms.search import search\n",
    "import numpy as np\n",
    "\n",
    "search([1,2,3,4,5], lambda x: x % 2 == 0, rng=np.random.default_rng(1))"
   ],
   "metadata": {
    "collapsed": false
   }
  },
  {
   "cell_type": "markdown",
   "source": [
    "Additionally, we provide a random number generator, in this case the numpy default generator using a seed of 1. This is necessary for testing, to ensure the results will be consistent in cases where this is important. When implementing the hillclimber later, we will also provide the other documented parameters, such as error, max_classical_queries and stats."
   ],
   "metadata": {
    "collapsed": false
   }
  },
  {
   "cell_type": "code",
   "execution_count": 12,
   "metadata": {
    "collapsed": false,
    "jupyter": {
     "outputs_hidden": false
    }
   },
   "outputs": [],
   "source": [
    "from qubrabench.algorithms.max import max as qmax\n",
    "\n",
    "%pdoc qmax"
   ]
  },
  {
   "cell_type": "markdown",
   "source": [
    "The following example will use the max function documented above. It may seem a bit confusing, that the values in the array (iterable) should be themselves arrays containing only a single integer, however this will be used here to demonstrate the use of the key function. We provide the max function with the described array and intend to receive the array containing the highest integer. The default value is set to [-1] here, such a value would indicate an empty iterable being passed to the function."
   ],
   "metadata": {
    "collapsed": false
   }
  },
  {
   "cell_type": "code",
   "execution_count": 15,
   "outputs": [
    {
     "data": {
      "text/plain": "[91]"
     },
     "execution_count": 15,
     "metadata": {},
     "output_type": "execute_result"
    }
   ],
   "source": [
    "from qubrabench.algorithms.max import max\n",
    "\n",
    "max([[14], [2], [30], [7], [91]], default=[-1], key=lambda x: x[0])"
   ],
   "metadata": {
    "collapsed": false
   }
  },
  {
   "cell_type": "markdown",
   "source": [
    "Now that we have a basic understanding of the search and max functions, we can have a closer look at the MAX-k-SAT problem, which we intend to solve using our hillclimber algorithm."
   ],
   "metadata": {
    "collapsed": false
   }
  },
  {
   "cell_type": "markdown",
   "source": [
    "## Problem: MAX-k-SAT\n",
    "\n",
    "Max-k-SAT is a combinatorial optimization problem that given a list of clauses $(C_{i})^{p}_{i=1}$, each a disjunction of at most $k$ literals, and a set of weights $(w_{i})^{p}_{i=1}$, asks us to maximize the weight of the satisfied clauses,\n",
    "$$\\varphi(y) := \\sum ^{p} _{i=1} w_{i}C_{i}(y),$$\n",
    "over all assignments $y \\in \\{0, 1\\}^{q}$ of the variables. This problem is NP-hard for $k ≥ 2$.\n",
    "\n",
    "## Algorithm: Hillclimb search\n",
    "\n",
    "We start with a random assignment $y \\in \\{0, 1\\}^{n}$ and look for improvements in the set of all bitstrings that differ from $y$ in at most $d$ bits.\n",
    "The simple hill climber randomly samples such assignments until it finds one with a strictly higher value of $\\varphi$, which is then taken as the new assignment.\n",
    "This procedure is repeated until no further improvement is found.\n",
    "We can formalize each hillclimb step (described above) as searching for a solution in\n",
    "$$f:N_{d}(y) \\subseteq \\{0,1\\}^{n} →\\{0,1\\}$$\n",
    "$$f(z) = \\begin{cases}1 ~~~~~\\text{if}~ \\varphi(z)>\\varphi(y)\\\\ 0 ~~~~~\\text{otherwise} \\end{cases}$$"
   ],
   "metadata": {
    "collapsed": false
   }
  },
  {
   "cell_type": "code",
   "execution_count": 17,
   "outputs": [],
   "source": [
    "import numpy as np\n",
    "import pandas as pd"
   ],
   "metadata": {
    "collapsed": false
   }
  },
  {
   "cell_type": "code",
   "execution_count": 18,
   "outputs": [],
   "source": [
    "from hillclimber import hill_climber\n",
    "%psource hill_climber"
   ],
   "metadata": {
    "collapsed": false
   }
  },
  {
   "cell_type": "markdown",
   "source": [
    "As you will notice, we use the search and max functions provided by qubrabench here.\n",
    "\n",
    "Starting at the top, the hill_climber function generates a random assignment for the weighted sat instance it receives. Continuing to the while loop, the hill climber calculates all neighbours of the current solution. The neighbours are defined as all solutions with a hamming distance of 1 to the current solution. Following this calculation the weight of every neighboring solution is calculated.\n",
    "\n",
    "Now we get to an important distinction, which will decide, whether we use the search or the max function: if we want to run a steep hill climber or a simple hill climber. The steep hill climber will choose the neighbour with the highest weight, maximising this value in every iteration of the loop. For these cases, we will use max to find the neighbour with the highest weight. If we want to run a simple hill climber, we simply use the search function and choose the first neighbour with a higher weight than that of the current solution.\n",
    "\n",
    "In both cases we also pass the error and stats parameters to populate the stats for this operation. You are able to see some results the stats objects hold in the next section, where we run the hill climber a few times."
   ],
   "metadata": {
    "collapsed": false
   }
  },
  {
   "cell_type": "markdown",
   "metadata": {
    "collapsed": false,
    "jupyter": {
     "outputs_hidden": false
    }
   },
   "source": [
    "## Benchmarking\n",
    "\n",
    "The imported `run` function executes the hillclimber on a random instance and returns the statistics in a pandas DataFrame."
   ]
  },
  {
   "cell_type": "code",
   "execution_count": null,
   "metadata": {
    "collapsed": false,
    "jupyter": {
     "outputs_hidden": false
    }
   },
   "outputs": [],
   "source": [
    "%pdoc run"
   ]
  },
  {
   "cell_type": "markdown",
   "metadata": {
    "collapsed": false,
    "jupyter": {
     "outputs_hidden": false
    }
   },
   "source": [
    "Let's run the simple hill climber for $n = 100$, $n = 300$ and $n=1000$. We will run the hill climber five times for each $n$ and consistently use $k = 3$."
   ]
  },
  {
   "cell_type": "code",
   "execution_count": null,
   "metadata": {},
   "outputs": [],
   "source": [
    "%%time\n",
    "data_100 = run(\n",
    "    k=3,\n",
    "    r=3,\n",
    "    n=100,\n",
    "    n_runs=5,\n",
    "    rng=np.random.default_rng(seed=100),\n",
    "    error=10**-5,\n",
    "    steep=False,\n",
    ")\n",
    "data_100"
   ]
  },
  {
   "cell_type": "code",
   "execution_count": null,
   "metadata": {
    "collapsed": false,
    "jupyter": {
     "outputs_hidden": false
    }
   },
   "outputs": [],
   "source": [
    "%%time\n",
    "data_300 = run(\n",
    "    k=3,\n",
    "    r=3,\n",
    "    n=300,\n",
    "    n_runs=5,\n",
    "    rng=np.random.default_rng(seed=100),\n",
    "    error=10**-5,\n",
    "    steep=False,\n",
    ")\n",
    "data_300"
   ]
  },
  {
   "cell_type": "code",
   "execution_count": null,
   "metadata": {
    "collapsed": false,
    "jupyter": {
     "outputs_hidden": false
    }
   },
   "outputs": [],
   "source": [
    "%%time\n",
    "data_500 = run(\n",
    "    k=3,\n",
    "    r=3,\n",
    "    n=500,\n",
    "    n_runs=5,\n",
    "    rng=np.random.default_rng(seed=100),\n",
    "    error=10**-5,\n",
    "    steep=False,\n",
    ")\n",
    "data_500"
   ]
  },
  {
   "cell_type": "markdown",
   "metadata": {
    "collapsed": false,
    "jupyter": {
     "outputs_hidden": false
    }
   },
   "source": [
    "## Plotting\n",
    "We use the `PlottingStrategy` wrapper to define our plot parameters and configuration."
   ]
  },
  {
   "cell_type": "code",
   "execution_count": null,
   "metadata": {},
   "outputs": [],
   "source": [
    "from qubrabench.utils.plotting_strategy import PlottingStrategy\n",
    "\n",
    "\n",
    "class Plotter(PlottingStrategy):\n",
    "    def __init__(self):\n",
    "        self.colors[\"\"] = \"blue\"\n",
    "\n",
    "    def get_plot_group_column_names(self):\n",
    "        return [\"k\", \"r\"]\n",
    "\n",
    "    def get_data_group_column_names(self):\n",
    "        return []\n",
    "\n",
    "    def compute_aggregates(self, data, *, quantum_factor):\n",
    "        # compute combined query costs of quantum search\n",
    "        c = data[\"quantum_expected_classical_queries\"]\n",
    "        q = data[\"quantum_expected_quantum_queries\"]\n",
    "        data[\"quantum_cost\"] = c + quantum_factor * q\n",
    "        return data\n",
    "\n",
    "    def x_axis_column(self):\n",
    "        return \"n\"\n",
    "\n",
    "    def x_axis_label(self):\n",
    "        return \"$n$\"\n",
    "\n",
    "    def y_axis_label(self):\n",
    "        return \"Queries\"\n",
    "\n",
    "    def get_column_names_to_plot(self):\n",
    "        return {\n",
    "            \"classical_actual_queries\": (\"Classical Queries\", \"o\"),\n",
    "            \"quantum_cost\": (\"Quantum Queries\", \"x\"),\n",
    "        }"
   ]
  },
  {
   "cell_type": "markdown",
   "metadata": {},
   "source": [
    "We can put all the benchmark stats in a single table and run the plotter. "
   ]
  },
  {
   "cell_type": "code",
   "execution_count": null,
   "metadata": {},
   "outputs": [],
   "source": [
    "%pdoc Plotter.plot"
   ]
  },
  {
   "cell_type": "code",
   "execution_count": null,
   "metadata": {},
   "outputs": [],
   "source": [
    "data = pd.concat([data_100, data_300, data_500])\n",
    "Plotter().plot(data, quantum_factor=2, y_lower_lim=10)"
   ]
  },
  {
   "cell_type": "markdown",
   "metadata": {},
   "source": [
    "Now we can also run the \"steep\" hillclimber for the above instance sizes, and compare the two benchmarks."
   ]
  },
  {
   "cell_type": "code",
   "execution_count": null,
   "metadata": {},
   "outputs": [],
   "source": [
    "%%time\n",
    "data_steep = [\n",
    "    run(\n",
    "        k=3,\n",
    "        r=3,\n",
    "        n=n,\n",
    "        n_runs=5,\n",
    "        rng=np.random.default_rng(seed=100),\n",
    "        error=10**-5,\n",
    "        steep=True,\n",
    "    )\n",
    "    for n in [100, 300, 500]\n",
    "]\n",
    "data_steep = pd.concat(data_steep)"
   ]
  },
  {
   "cell_type": "code",
   "execution_count": null,
   "metadata": {},
   "outputs": [],
   "source": [
    "# add an extra column to distinguish the source (i.e. type of hillclimb)\n",
    "full_data = []\n",
    "for d, is_steep in [(data, False), (data_steep, True)]:\n",
    "    d = d.copy()\n",
    "    d.insert(0, \"steep\", is_steep)\n",
    "    full_data.append(d)\n",
    "full_data = pd.concat(full_data)"
   ]
  },
  {
   "cell_type": "markdown",
   "metadata": {},
   "source": [
    "We modify the above plotter a bit as we now want to group the data by column \"steep\" (in the same plot)."
   ]
  },
  {
   "cell_type": "code",
   "execution_count": null,
   "metadata": {},
   "outputs": [],
   "source": [
    "class FullPlotter(Plotter):\n",
    "    def __init__(self):\n",
    "        self.colors[\"steep = False\"] = \"blue\"\n",
    "        self.colors[\"steep = True\"] = \"red\"\n",
    "\n",
    "    def get_data_group_column_names(self):\n",
    "        return [\"steep\"]\n",
    "\n",
    "\n",
    "FullPlotter().plot(full_data, quantum_factor=2, y_lower_lim=10)"
   ]
  }
 ],
 "metadata": {
  "kernelspec": {
   "display_name": "Python 3 (ipykernel)",
   "language": "python",
   "name": "python3"
  },
  "language_info": {
   "codemirror_mode": {
    "name": "ipython",
    "version": 3
   },
   "file_extension": ".py",
   "mimetype": "text/x-python",
   "name": "python",
   "nbconvert_exporter": "python",
   "pygments_lexer": "ipython3",
   "version": "3.11.1"
  }
 },
 "nbformat": 4,
 "nbformat_minor": 4
}
